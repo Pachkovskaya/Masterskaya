{
 "cells": [
  {
   "cell_type": "markdown",
   "metadata": {},
   "source": [
    "<div style=\"border:solid Chocolate 2px; padding: 40px\">\n",
    "    \n",
    "<b>Проект:</b> Анализ оттоков клиентов в банке. \n",
    "\n",
    "\n",
    "<b>Цель проекта:</b> Поиск и анализ оттока, сегментирование клиентов и формирование рекомендаций для отдела маркетинга.\n",
    "\n",
    "<b>Описание данных:</b>\n",
    "    \n",
    "•\tuserid — идентификатор (не используется активно при анализе)\n",
    "    \n",
    "•\tscore — баллы кредитного скоринга (оценка банка надежности клиента )\n",
    "    \n",
    "•\tcity  — город (место нахождения филиала банка)\n",
    "    \n",
    "•\tgender  — пол клиента\n",
    "    \n",
    "•\tage  — возраст клиента   \n",
    "    \n",
    "•\tequity  — количество балла собственности (оценка банком кол-ва собственности клиента)\n",
    "    \n",
    "•\tbalance — баланс\n",
    "    \n",
    "•\tproducts — количество продуктов\n",
    "    \n",
    "•\tcredit_card — наличие кредитной карты (есть ли у клиента кредит)\n",
    "    \n",
    "•\tlast_activity — активный клиент (два состояния: активен или неактивен(т.е. не пользуется продуктами банка))\n",
    "    \n",
    "•\test_salary — заработная плата клиента\n",
    "    \n",
    "•\tchurn — отток (ушел клиент или не ушел)\n",
    "    \n",
    "\n",
    "   </b>\n",
    "    \n",
    "Путь к файлу: : /datasets/bank_scrooge.csv. \n",
    "  \n",
    "\n",
    "\n"
   ]
  },
  {
   "cell_type": "markdown",
   "metadata": {},
   "source": [
    "<b>Этапы проекта:</b>\n",
    "\n",
    "1.Подготовка данных:\n",
    "- 1.1. Импорт библиотек.\n",
    "- 1.2. Вывод информации о датафрейме.\n",
    "- 1.3. Классификация (анализ природы пропусков MCAR,MAR или MNAR) и обработка пропусков (например, в столбце balance).\n",
    "- 1.4. Преобразование названия столбцов к единому стилю. \n",
    "- 1.5. Кодирование (для использования в анализе корреляции). Преобразование категориальных переменных в числовые значения (если не использовать Phi coefficient).\n",
    "- 1.6. Нормализация/стандартизация: приведение числовых признаков к единому масштабу."
   ]
  },
  {
   "cell_type": "markdown",
   "metadata": {},
   "source": [
    "- 1.7. Анализ неявных дубликатов по user_id."
   ]
  },
  {
   "cell_type": "markdown",
   "metadata": {},
   "source": [
    "2. Предобработка данных:\n",
    "- 2.1. Анализ распределения признаков в разрезе оттока.\n",
    "   2.1.1.Разделыем на две составные группы непрерывные - ищем отточные интервалы, где отток превышает лояльность. Используем нормированные гистограммы, потому что у нас выборки разного размера. Определяем где отток превышает лояльность (т.е.выделяем сегмент).\n",
    "   2.1.2. Следующая группа категориальные/дискретные - ищем значения признака с оттоком выше, по банку. Т.е. есть среднее значение оттока по банку - сравнивем его со значением (пр. пол клиента). Т.о. находим еще один сегмент.;\n",
    "- 2.2. Анализ портретов клиентов в разрезе оттока. \n",
    "  2.2.1. Сводная таблица по Отток-Неотток по каждому столбцу ;\n",
    "  2.2.2. Формирование столбца относительной разницы. Т.е. формируем портрет отточного и не отточного клиента. \n",
    "- 2.3 Корреляционный анализ признака churn с другими признаками (в тч интерпретация по Чеддоку).\n",
    "- портрет клиента - таблица и интерпретация.\n",
    "- корреляция - столбец для оттока и интерпретация."
   ]
  },
  {
   "cell_type": "markdown",
   "metadata": {},
   "source": [
    "3. Проверка статистических гипотез.\n",
    "\n",
    "3.1. Проверка первой гипотезы : средние значения заработной платы между группами клиентов, которые ушли и которые остались различны, т.е. есть статистически значимые различия между этими группами. Вторрая гипотеза будет определена в ходе проведения исследования.\n",
    "3.2. Обоснование выбора теста.\n"
   ]
  },
  {
   "cell_type": "markdown",
   "metadata": {},
   "source": [
    "4. Подведение промежуточных итогов - выводы по результатам EDA, корреляционного анализа и\n",
    "гипотез, выделение признаков, влияющих на оттток. Явное указание признаков и их значений, которые использовали для сегментации."
   ]
  },
  {
   "cell_type": "markdown",
   "metadata": {},
   "source": [
    "5. Сегментация (три признака: 1. Неузкие сегменты (от 500 клиентов на сегмент); 2.Не менее трёх; 3.Отток выше, чем\n",
    "средний уровень оттока по банку)."
   ]
  },
  {
   "cell_type": "markdown",
   "metadata": {},
   "source": [
    "6. Приоритизация сегментов. Ранжирование и выявление приоритетных сегментов для упрощения работы отдела маркетинга."
   ]
  },
  {
   "cell_type": "markdown",
   "metadata": {},
   "source": [
    "7. Формирование рекомендаций (таргетированных) по работе с ними. Для каждого сегмента индивидульная рекомендация."
   ]
  },
  {
   "cell_type": "markdown",
   "metadata": {},
   "source": [
    "## Материалы\n",
    "[Презентация](https://disk.yandex.ru/i/5kAXD8Vp1ROaow)"
   ]
  },
  {
   "cell_type": "markdown",
   "metadata": {},
   "source": [
    "## Предобработка данных."
   ]
  },
  {
   "cell_type": "markdown",
   "metadata": {},
   "source": [
    "### Импорт библиотек."
   ]
  },
  {
   "cell_type": "code",
   "execution_count": 1,
   "metadata": {},
   "outputs": [],
   "source": [
    "import pandas as pd\n",
    "\n",
    "import numpy as np\n",
    "import matplotlib.pyplot as plt\n",
    "import plotly.express as px\n",
    "import scipy.stats as stats\n",
    "from pandas.plotting import register_matplotlib_converters\n",
    "import warnings\n",
    "import os\n",
    "import seaborn as sns\n",
    "from scipy.stats import chi2_contingency"
   ]
  },
  {
   "cell_type": "code",
   "execution_count": 2,
   "metadata": {},
   "outputs": [
    {
     "name": "stdout",
     "output_type": "stream",
     "text": [
      "Requirement already satisfied: phik in /opt/conda/lib/python3.9/site-packages (0.12.4)\r\n",
      "Requirement already satisfied: joblib>=0.14.1 in /opt/conda/lib/python3.9/site-packages (from phik) (1.1.0)\r\n",
      "Requirement already satisfied: numpy>=1.18.0 in /opt/conda/lib/python3.9/site-packages (from phik) (1.21.1)\r\n",
      "Requirement already satisfied: matplotlib>=2.2.3 in /opt/conda/lib/python3.9/site-packages (from phik) (3.3.4)\r\n",
      "Requirement already satisfied: scipy>=1.5.2 in /opt/conda/lib/python3.9/site-packages (from phik) (1.9.1)\r\n",
      "Requirement already satisfied: pandas>=0.25.1 in /opt/conda/lib/python3.9/site-packages (from phik) (1.2.4)\r\n",
      "Requirement already satisfied: kiwisolver>=1.0.1 in /opt/conda/lib/python3.9/site-packages (from matplotlib>=2.2.3->phik) (1.4.4)\r\n",
      "Requirement already satisfied: cycler>=0.10 in /opt/conda/lib/python3.9/site-packages (from matplotlib>=2.2.3->phik) (0.11.0)\r\n",
      "Requirement already satisfied: python-dateutil>=2.1 in /opt/conda/lib/python3.9/site-packages (from matplotlib>=2.2.3->phik) (2.8.1)\r\n",
      "Requirement already satisfied: pillow>=6.2.0 in /opt/conda/lib/python3.9/site-packages (from matplotlib>=2.2.3->phik) (8.4.0)\r\n",
      "Requirement already satisfied: pyparsing!=2.0.4,!=2.1.2,!=2.1.6,>=2.0.3 in /opt/conda/lib/python3.9/site-packages (from matplotlib>=2.2.3->phik) (2.4.7)\r\n",
      "Requirement already satisfied: pytz>=2017.3 in /opt/conda/lib/python3.9/site-packages (from pandas>=0.25.1->phik) (2021.1)\r\n",
      "Requirement already satisfied: six>=1.5 in /opt/conda/lib/python3.9/site-packages (from python-dateutil>=2.1->matplotlib>=2.2.3->phik) (1.16.0)\r\n"
     ]
    }
   ],
   "source": [
    "# инсталяция библиотеки phik\n",
    "!pip install phik"
   ]
  },
  {
   "cell_type": "code",
   "execution_count": 3,
   "metadata": {},
   "outputs": [],
   "source": [
    "import phik "
   ]
  },
  {
   "cell_type": "markdown",
   "metadata": {},
   "source": [
    "### Чтение файлов."
   ]
  },
  {
   "cell_type": "code",
   "execution_count": 4,
   "metadata": {},
   "outputs": [],
   "source": [
    "pth1 = '/datasets/bank_scrooge.csv' # яндексовский путь\n",
    "pth2 = 'C:/Users/pimjo/Downloads/bank_scrooge.csv' # мой путь\n",
    "\n",
    "if os.path.exists(pth1):\n",
    "    data = pd.read_csv('/datasets/bank_scrooge.csv') \n",
    "    \n",
    "elif os.path.exists(pth2):\n",
    "    data = pd.read_csv(\"C:/Users/pimjo/Downloads/bank_scrooge.csv\") \n",
    "    \n",
    "else:\n",
    "    print('Something is wrong')    \n"
   ]
  },
  {
   "cell_type": "markdown",
   "metadata": {},
   "source": [
    "### Преобразование названия столбцов к единому стилю. "
   ]
  },
  {
   "cell_type": "code",
   "execution_count": 5,
   "metadata": {},
   "outputs": [],
   "source": [
    "# Датасет , название колонок в нижн. регистре\n",
    "data.columns = data.columns.str.lower()\n"
   ]
  },
  {
   "cell_type": "markdown",
   "metadata": {},
   "source": [
    "### Вывод информации о датафрейме."
   ]
  },
  {
   "cell_type": "code",
   "execution_count": 6,
   "metadata": {},
   "outputs": [
    {
     "data": {
      "text/plain": [
       "'Первые пять строк данных:'"
      ]
     },
     "metadata": {},
     "output_type": "display_data"
    },
    {
     "data": {
      "text/html": [
       "<div>\n",
       "<style scoped>\n",
       "    .dataframe tbody tr th:only-of-type {\n",
       "        vertical-align: middle;\n",
       "    }\n",
       "\n",
       "    .dataframe tbody tr th {\n",
       "        vertical-align: top;\n",
       "    }\n",
       "\n",
       "    .dataframe thead th {\n",
       "        text-align: right;\n",
       "    }\n",
       "</style>\n",
       "<table border=\"1\" class=\"dataframe\">\n",
       "  <thead>\n",
       "    <tr style=\"text-align: right;\">\n",
       "      <th></th>\n",
       "      <th>userid</th>\n",
       "      <th>score</th>\n",
       "      <th>city</th>\n",
       "      <th>gender</th>\n",
       "      <th>age</th>\n",
       "      <th>equity</th>\n",
       "      <th>balance</th>\n",
       "      <th>products</th>\n",
       "      <th>credit_card</th>\n",
       "      <th>last_activity</th>\n",
       "      <th>est_salary</th>\n",
       "      <th>churn</th>\n",
       "    </tr>\n",
       "  </thead>\n",
       "  <tbody>\n",
       "    <tr>\n",
       "      <th>0</th>\n",
       "      <td>183012</td>\n",
       "      <td>850.0</td>\n",
       "      <td>Рыбинск</td>\n",
       "      <td>Ж</td>\n",
       "      <td>25.0</td>\n",
       "      <td>1</td>\n",
       "      <td>59214.82</td>\n",
       "      <td>2</td>\n",
       "      <td>0</td>\n",
       "      <td>1</td>\n",
       "      <td>75719.14</td>\n",
       "      <td>1</td>\n",
       "    </tr>\n",
       "    <tr>\n",
       "      <th>1</th>\n",
       "      <td>146556</td>\n",
       "      <td>861.0</td>\n",
       "      <td>Рыбинск</td>\n",
       "      <td>Ж</td>\n",
       "      <td>37.0</td>\n",
       "      <td>5</td>\n",
       "      <td>850594.33</td>\n",
       "      <td>3</td>\n",
       "      <td>1</td>\n",
       "      <td>0</td>\n",
       "      <td>86621.77</td>\n",
       "      <td>0</td>\n",
       "    </tr>\n",
       "    <tr>\n",
       "      <th>2</th>\n",
       "      <td>120722</td>\n",
       "      <td>892.0</td>\n",
       "      <td>Рыбинск</td>\n",
       "      <td>Ж</td>\n",
       "      <td>30.0</td>\n",
       "      <td>0</td>\n",
       "      <td>NaN</td>\n",
       "      <td>1</td>\n",
       "      <td>1</td>\n",
       "      <td>1</td>\n",
       "      <td>107683.34</td>\n",
       "      <td>0</td>\n",
       "    </tr>\n",
       "    <tr>\n",
       "      <th>3</th>\n",
       "      <td>225363</td>\n",
       "      <td>866.0</td>\n",
       "      <td>Ярославль</td>\n",
       "      <td>Ж</td>\n",
       "      <td>51.0</td>\n",
       "      <td>5</td>\n",
       "      <td>1524746.26</td>\n",
       "      <td>2</td>\n",
       "      <td>0</td>\n",
       "      <td>1</td>\n",
       "      <td>174423.53</td>\n",
       "      <td>1</td>\n",
       "    </tr>\n",
       "    <tr>\n",
       "      <th>4</th>\n",
       "      <td>157978</td>\n",
       "      <td>730.0</td>\n",
       "      <td>Ярославль</td>\n",
       "      <td>М</td>\n",
       "      <td>34.0</td>\n",
       "      <td>5</td>\n",
       "      <td>174.00</td>\n",
       "      <td>1</td>\n",
       "      <td>1</td>\n",
       "      <td>0</td>\n",
       "      <td>67353.16</td>\n",
       "      <td>1</td>\n",
       "    </tr>\n",
       "  </tbody>\n",
       "</table>\n",
       "</div>"
      ],
      "text/plain": [
       "   userid  score       city gender   age  equity     balance  products  \\\n",
       "0  183012  850.0    Рыбинск      Ж  25.0       1    59214.82         2   \n",
       "1  146556  861.0    Рыбинск      Ж  37.0       5   850594.33         3   \n",
       "2  120722  892.0    Рыбинск      Ж  30.0       0         NaN         1   \n",
       "3  225363  866.0  Ярославль      Ж  51.0       5  1524746.26         2   \n",
       "4  157978  730.0  Ярославль      М  34.0       5      174.00         1   \n",
       "\n",
       "   credit_card  last_activity  est_salary  churn  \n",
       "0            0              1    75719.14      1  \n",
       "1            1              0    86621.77      0  \n",
       "2            1              1   107683.34      0  \n",
       "3            0              1   174423.53      1  \n",
       "4            1              0    67353.16      1  "
      ]
     },
     "metadata": {},
     "output_type": "display_data"
    },
    {
     "data": {
      "text/plain": [
       "'Описание данных:'"
      ]
     },
     "metadata": {},
     "output_type": "display_data"
    },
    {
     "data": {
      "text/html": [
       "<div>\n",
       "<style scoped>\n",
       "    .dataframe tbody tr th:only-of-type {\n",
       "        vertical-align: middle;\n",
       "    }\n",
       "\n",
       "    .dataframe tbody tr th {\n",
       "        vertical-align: top;\n",
       "    }\n",
       "\n",
       "    .dataframe thead th {\n",
       "        text-align: right;\n",
       "    }\n",
       "</style>\n",
       "<table border=\"1\" class=\"dataframe\">\n",
       "  <thead>\n",
       "    <tr style=\"text-align: right;\">\n",
       "      <th></th>\n",
       "      <th>userid</th>\n",
       "      <th>score</th>\n",
       "      <th>age</th>\n",
       "      <th>equity</th>\n",
       "      <th>balance</th>\n",
       "      <th>products</th>\n",
       "      <th>credit_card</th>\n",
       "      <th>last_activity</th>\n",
       "      <th>est_salary</th>\n",
       "      <th>churn</th>\n",
       "    </tr>\n",
       "  </thead>\n",
       "  <tbody>\n",
       "    <tr>\n",
       "      <th>count</th>\n",
       "      <td>10000.00000</td>\n",
       "      <td>10000.000000</td>\n",
       "      <td>9974.000000</td>\n",
       "      <td>10000.000000</td>\n",
       "      <td>7.705000e+03</td>\n",
       "      <td>10000.000000</td>\n",
       "      <td>10000.000000</td>\n",
       "      <td>10000.000000</td>\n",
       "      <td>1.000000e+04</td>\n",
       "      <td>10000.000000</td>\n",
       "    </tr>\n",
       "    <tr>\n",
       "      <th>mean</th>\n",
       "      <td>171814.71260</td>\n",
       "      <td>848.699400</td>\n",
       "      <td>42.734409</td>\n",
       "      <td>2.627600</td>\n",
       "      <td>8.277943e+05</td>\n",
       "      <td>1.870100</td>\n",
       "      <td>0.680400</td>\n",
       "      <td>0.523500</td>\n",
       "      <td>1.478669e+05</td>\n",
       "      <td>0.182000</td>\n",
       "    </tr>\n",
       "    <tr>\n",
       "      <th>std</th>\n",
       "      <td>33708.23812</td>\n",
       "      <td>65.448519</td>\n",
       "      <td>12.179971</td>\n",
       "      <td>1.980836</td>\n",
       "      <td>1.980614e+06</td>\n",
       "      <td>0.792647</td>\n",
       "      <td>0.466345</td>\n",
       "      <td>0.499472</td>\n",
       "      <td>1.393885e+05</td>\n",
       "      <td>0.385864</td>\n",
       "    </tr>\n",
       "    <tr>\n",
       "      <th>min</th>\n",
       "      <td>94561.00000</td>\n",
       "      <td>642.000000</td>\n",
       "      <td>18.000000</td>\n",
       "      <td>0.000000</td>\n",
       "      <td>0.000000e+00</td>\n",
       "      <td>0.000000</td>\n",
       "      <td>0.000000</td>\n",
       "      <td>0.000000</td>\n",
       "      <td>2.546300e+03</td>\n",
       "      <td>0.000000</td>\n",
       "    </tr>\n",
       "    <tr>\n",
       "      <th>25%</th>\n",
       "      <td>142810.25000</td>\n",
       "      <td>802.000000</td>\n",
       "      <td>33.000000</td>\n",
       "      <td>0.000000</td>\n",
       "      <td>2.955542e+05</td>\n",
       "      <td>1.000000</td>\n",
       "      <td>0.000000</td>\n",
       "      <td>0.000000</td>\n",
       "      <td>7.525190e+04</td>\n",
       "      <td>0.000000</td>\n",
       "    </tr>\n",
       "    <tr>\n",
       "      <th>50%</th>\n",
       "      <td>172728.00000</td>\n",
       "      <td>853.000000</td>\n",
       "      <td>40.000000</td>\n",
       "      <td>3.000000</td>\n",
       "      <td>5.242722e+05</td>\n",
       "      <td>2.000000</td>\n",
       "      <td>1.000000</td>\n",
       "      <td>1.000000</td>\n",
       "      <td>1.196581e+05</td>\n",
       "      <td>0.000000</td>\n",
       "    </tr>\n",
       "    <tr>\n",
       "      <th>75%</th>\n",
       "      <td>201261.75000</td>\n",
       "      <td>900.000000</td>\n",
       "      <td>51.000000</td>\n",
       "      <td>4.000000</td>\n",
       "      <td>9.807058e+05</td>\n",
       "      <td>2.000000</td>\n",
       "      <td>1.000000</td>\n",
       "      <td>1.000000</td>\n",
       "      <td>1.745005e+05</td>\n",
       "      <td>0.000000</td>\n",
       "    </tr>\n",
       "    <tr>\n",
       "      <th>max</th>\n",
       "      <td>229145.00000</td>\n",
       "      <td>1000.000000</td>\n",
       "      <td>86.000000</td>\n",
       "      <td>9.000000</td>\n",
       "      <td>1.191136e+08</td>\n",
       "      <td>5.000000</td>\n",
       "      <td>1.000000</td>\n",
       "      <td>1.000000</td>\n",
       "      <td>1.395064e+06</td>\n",
       "      <td>1.000000</td>\n",
       "    </tr>\n",
       "  </tbody>\n",
       "</table>\n",
       "</div>"
      ],
      "text/plain": [
       "             userid         score          age        equity       balance  \\\n",
       "count   10000.00000  10000.000000  9974.000000  10000.000000  7.705000e+03   \n",
       "mean   171814.71260    848.699400    42.734409      2.627600  8.277943e+05   \n",
       "std     33708.23812     65.448519    12.179971      1.980836  1.980614e+06   \n",
       "min     94561.00000    642.000000    18.000000      0.000000  0.000000e+00   \n",
       "25%    142810.25000    802.000000    33.000000      0.000000  2.955542e+05   \n",
       "50%    172728.00000    853.000000    40.000000      3.000000  5.242722e+05   \n",
       "75%    201261.75000    900.000000    51.000000      4.000000  9.807058e+05   \n",
       "max    229145.00000   1000.000000    86.000000      9.000000  1.191136e+08   \n",
       "\n",
       "           products   credit_card  last_activity    est_salary         churn  \n",
       "count  10000.000000  10000.000000   10000.000000  1.000000e+04  10000.000000  \n",
       "mean       1.870100      0.680400       0.523500  1.478669e+05      0.182000  \n",
       "std        0.792647      0.466345       0.499472  1.393885e+05      0.385864  \n",
       "min        0.000000      0.000000       0.000000  2.546300e+03      0.000000  \n",
       "25%        1.000000      0.000000       0.000000  7.525190e+04      0.000000  \n",
       "50%        2.000000      1.000000       1.000000  1.196581e+05      0.000000  \n",
       "75%        2.000000      1.000000       1.000000  1.745005e+05      0.000000  \n",
       "max        5.000000      1.000000       1.000000  1.395064e+06      1.000000  "
      ]
     },
     "metadata": {},
     "output_type": "display_data"
    },
    {
     "data": {
      "text/plain": [
       "'Общая информацию о датафрейме'"
      ]
     },
     "metadata": {},
     "output_type": "display_data"
    },
    {
     "name": "stdout",
     "output_type": "stream",
     "text": [
      "<class 'pandas.core.frame.DataFrame'>\n",
      "RangeIndex: 10000 entries, 0 to 9999\n",
      "Data columns (total 12 columns):\n",
      " #   Column         Non-Null Count  Dtype  \n",
      "---  ------         --------------  -----  \n",
      " 0   userid         10000 non-null  int64  \n",
      " 1   score          10000 non-null  float64\n",
      " 2   city           10000 non-null  object \n",
      " 3   gender         10000 non-null  object \n",
      " 4   age            9974 non-null   float64\n",
      " 5   equity         10000 non-null  int64  \n",
      " 6   balance        7705 non-null   float64\n",
      " 7   products       10000 non-null  int64  \n",
      " 8   credit_card    10000 non-null  int64  \n",
      " 9   last_activity  10000 non-null  int64  \n",
      " 10  est_salary     10000 non-null  float64\n",
      " 11  churn          10000 non-null  int64  \n",
      "dtypes: float64(4), int64(6), object(2)\n",
      "memory usage: 937.6+ KB\n"
     ]
    },
    {
     "data": {
      "text/plain": [
       "None"
      ]
     },
     "metadata": {},
     "output_type": "display_data"
    },
    {
     "data": {
      "text/plain": [
       "'Количество пропусков в процентах'"
      ]
     },
     "metadata": {},
     "output_type": "display_data"
    },
    {
     "data": {
      "text/html": [
       "<style  type=\"text/css\" >\n",
       "#T_c0a0a_row0_col0,#T_c0a0a_row1_col0,#T_c0a0a_row2_col0,#T_c0a0a_row3_col0,#T_c0a0a_row4_col0,#T_c0a0a_row5_col0,#T_c0a0a_row6_col0,#T_c0a0a_row7_col0,#T_c0a0a_row8_col0,#T_c0a0a_row9_col0{\n",
       "            background-color:  #f7fbff;\n",
       "            color:  #000000;\n",
       "        }#T_c0a0a_row10_col0{\n",
       "            background-color:  #f5f9fe;\n",
       "            color:  #000000;\n",
       "        }#T_c0a0a_row11_col0{\n",
       "            background-color:  #08306b;\n",
       "            color:  #f1f1f1;\n",
       "        }</style><table id=\"T_c0a0a_\" ><thead>    <tr>        <th class=\"blank level0\" ></th>        <th class=\"col_heading level0 col0\" >0</th>    </tr></thead><tbody>\n",
       "                <tr>\n",
       "                        <th id=\"T_c0a0a_level0_row0\" class=\"row_heading level0 row0\" >userid</th>\n",
       "                        <td id=\"T_c0a0a_row0_col0\" class=\"data row0 col0\" >0.000000</td>\n",
       "            </tr>\n",
       "            <tr>\n",
       "                        <th id=\"T_c0a0a_level0_row1\" class=\"row_heading level0 row1\" >score</th>\n",
       "                        <td id=\"T_c0a0a_row1_col0\" class=\"data row1 col0\" >0.000000</td>\n",
       "            </tr>\n",
       "            <tr>\n",
       "                        <th id=\"T_c0a0a_level0_row2\" class=\"row_heading level0 row2\" >city</th>\n",
       "                        <td id=\"T_c0a0a_row2_col0\" class=\"data row2 col0\" >0.000000</td>\n",
       "            </tr>\n",
       "            <tr>\n",
       "                        <th id=\"T_c0a0a_level0_row3\" class=\"row_heading level0 row3\" >gender</th>\n",
       "                        <td id=\"T_c0a0a_row3_col0\" class=\"data row3 col0\" >0.000000</td>\n",
       "            </tr>\n",
       "            <tr>\n",
       "                        <th id=\"T_c0a0a_level0_row4\" class=\"row_heading level0 row4\" >equity</th>\n",
       "                        <td id=\"T_c0a0a_row4_col0\" class=\"data row4 col0\" >0.000000</td>\n",
       "            </tr>\n",
       "            <tr>\n",
       "                        <th id=\"T_c0a0a_level0_row5\" class=\"row_heading level0 row5\" >products</th>\n",
       "                        <td id=\"T_c0a0a_row5_col0\" class=\"data row5 col0\" >0.000000</td>\n",
       "            </tr>\n",
       "            <tr>\n",
       "                        <th id=\"T_c0a0a_level0_row6\" class=\"row_heading level0 row6\" >credit_card</th>\n",
       "                        <td id=\"T_c0a0a_row6_col0\" class=\"data row6 col0\" >0.000000</td>\n",
       "            </tr>\n",
       "            <tr>\n",
       "                        <th id=\"T_c0a0a_level0_row7\" class=\"row_heading level0 row7\" >last_activity</th>\n",
       "                        <td id=\"T_c0a0a_row7_col0\" class=\"data row7 col0\" >0.000000</td>\n",
       "            </tr>\n",
       "            <tr>\n",
       "                        <th id=\"T_c0a0a_level0_row8\" class=\"row_heading level0 row8\" >est_salary</th>\n",
       "                        <td id=\"T_c0a0a_row8_col0\" class=\"data row8 col0\" >0.000000</td>\n",
       "            </tr>\n",
       "            <tr>\n",
       "                        <th id=\"T_c0a0a_level0_row9\" class=\"row_heading level0 row9\" >churn</th>\n",
       "                        <td id=\"T_c0a0a_row9_col0\" class=\"data row9 col0\" >0.000000</td>\n",
       "            </tr>\n",
       "            <tr>\n",
       "                        <th id=\"T_c0a0a_level0_row10\" class=\"row_heading level0 row10\" >age</th>\n",
       "                        <td id=\"T_c0a0a_row10_col0\" class=\"data row10 col0\" >0.300000</td>\n",
       "            </tr>\n",
       "            <tr>\n",
       "                        <th id=\"T_c0a0a_level0_row11\" class=\"row_heading level0 row11\" >balance</th>\n",
       "                        <td id=\"T_c0a0a_row11_col0\" class=\"data row11 col0\" >23.000000</td>\n",
       "            </tr>\n",
       "    </tbody></table>"
      ],
      "text/plain": [
       "<pandas.io.formats.style.Styler at 0x7f08795e2b20>"
      ]
     },
     "metadata": {},
     "output_type": "display_data"
    }
   ],
   "source": [
    "# Функция вывода инф-ции о датафрейме\n",
    "def data_info(data):\n",
    "    try:\n",
    "        display('Первые пять строк данных:')\n",
    "        display(data.head(5))\n",
    "        display('Описание данных:')\n",
    "        display(data.describe())\n",
    "        display('Общая информацию о датафрейме')\n",
    "        display(data.info())\n",
    "        display('Количество пропусков в процентах')\n",
    "        display(pd.DataFrame(round(data.isna().mean()*100,1).sort_values()).style.background_gradient('Blues'))\n",
    "#  pandas_profiling.ProfileReport(data)\n",
    "    except:\n",
    "        return 'Проверьте данные'\n",
    "    \n",
    "data_info(data)"
   ]
  },
  {
   "cell_type": "markdown",
   "metadata": {},
   "source": [
    "Данные на первый взгляд чистые. Пропуски только в двух столбцах: возраст и баланс."
   ]
  },
  {
   "cell_type": "markdown",
   "metadata": {},
   "source": [
    "### Выяснение типа пропусков и зависимости пропусков от других столбцов."
   ]
  },
  {
   "cell_type": "code",
   "execution_count": 7,
   "metadata": {},
   "outputs": [
    {
     "data": {
      "text/plain": [
       "'Корреляция признаков с balance_missing'"
      ]
     },
     "metadata": {},
     "output_type": "display_data"
    },
    {
     "data": {
      "text/plain": [
       "balance_missing    1.000000\n",
       "equity             0.975823\n",
       "products           0.793178\n",
       "score              0.755046\n",
       "est_salary         0.430502\n",
       "churn              0.381123\n",
       "credit_card        0.245296\n",
       "gender             0.097850\n",
       "age_missing        0.068092\n",
       "age                0.047756\n",
       "last_activity      0.041281\n",
       "city               0.040277\n",
       "balance                 NaN\n",
       "Name: balance_missing, dtype: float64"
      ]
     },
     "metadata": {},
     "output_type": "display_data"
    }
   ],
   "source": [
    "# добавляем столбец с пропусками в balance и age\n",
    "data['balance_missing'] = data['balance'].isnull().astype(int)\n",
    "data['age_missing'] = data['age'].isnull().astype(int)\n",
    "data_without_id = data.drop('userid', axis=1)\n",
    "#correlation = data_without_id.corr()\n",
    "#display(correlation['balance_missing'])\n",
    "# необходимые столбцы присутствуют в датафрейме\n",
    "required_columns = ['score', 'city', 'gender', 'age', 'equity', 'balance', 'products', 'credit_card', 'last_activity', 'est_salary', 'churn','balance_missing','age_missing']\n",
    "data_reg = data_without_id[required_columns]\n",
    "\n",
    "# Настройка параметра interval_cols, дискретные признаки здесь не участвуют\n",
    "interval_cols = ['score', 'age', 'balance', 'est_salary']\n",
    "# Вычисление матрицы корреляции с использованием phik\n",
    "correlation_matrix = data_reg.phik_matrix(interval_cols=interval_cols)\n",
    "\n",
    "# Получение корреляции с признаком 'balance_missing'\n",
    "balance_missing_correlation = correlation_matrix['balance_missing']\n",
    "\n",
    "# Вывод результатов\n",
    "display(\"Корреляция признаков с balance_missing\")\n",
    "display(balance_missing_correlation.sort_values(ascending=False))"
   ]
  },
  {
   "cell_type": "markdown",
   "metadata": {},
   "source": [
    "Вывод: Коэффициент корреляции 0.97 указывет на достаточно сильную  связь со столбцом equity - кол-во балов собственности, это значит, что можно ожидать пропуски при высоких значениях в столбце equity.\n",
    "\n",
    " Коэффициент корреляции 0.79 может свидетельствовать о том, что пропуски в столбце могут быть связаны с определёнными значениями в столбце products - колличество продуктов.\n",
    " \n",
    "Коэффициент корреляции 0.75 может свидетельствовать о том, что пропуски в столбце могут быть связаны с определёнными значениями в столбце score - оценкой банка надежности. \n",
    " Коэффициент корреляции 0.43 указывает на слабую положительную корреляцию между наличием пропусков в столбце и значениями в  столбце est_salary - заработная плата клиента. \n",
    " \n",
    " \n",
    "Значимый вывод: Наличие баллов собственности может быть индикатором финансовой стабильности или активности клиента, что, в свою очередь, влияет на полноту данных о его балансе.\n",
    "\n",
    "В части пропусков используем общепринятую классификациею пропусков:\n",
    "\n",
    "MCAR (Missing Completely At Random / Отсутствует совершенно случайно) — пропуски не зависят от переменных и не ведут к систематической ошибке (смещение, bias), но увеличивают случайную ошибку (разброс, variance), можно их отбрасывать или заполнять, т.к. заполнение не повлияет на характер связи между заполняемой переменной и остальными;\n",
    "\n",
    "MAR (Missing At Random / Отсутствует случайно) — в рамках каждой из групп, которая есть в описываемой данными совокупности, распределение пропусков случайно, можно их отбрасывать;\n",
    "\n",
    "MNAR (Missing Not At Random / Отсутствует не случайно) — пропуски зависят от данных, без дополнительного обоснования их нельзя отбрасывать или заполнять одним значением, т.к. это приведёт к заметным искажениям."
   ]
  },
  {
   "cell_type": "code",
   "execution_count": 8,
   "metadata": {},
   "outputs": [
    {
     "data": {
      "text/plain": [
       "0    2180\n",
       "1     114\n",
       "3       1\n",
       "Name: equity, dtype: int64"
      ]
     },
     "metadata": {},
     "output_type": "display_data"
    },
    {
     "data": {
      "text/plain": [
       "'Среднее значение balance для equity равным 0: 156473.34968446603'"
      ]
     },
     "metadata": {},
     "output_type": "display_data"
    }
   ],
   "source": [
    "display(data[data['balance'].isna()]['equity'].value_counts())\n",
    "# Фильтрация данных, где equity равно 0\n",
    "mean_balance_equity_0 = data[data['equity'] == 0]['balance'].mean()\n",
    "\n",
    "display(f\"Среднее значение balance для equity равным 0: {mean_balance_equity_0}\")"
   ]
  },
  {
   "cell_type": "markdown",
   "metadata": {},
   "source": [
    "Вывод: Пропуски в столбце balance в 95 % при нулевом балле недвижимости у клиентов. Логичнее возможно поставить среднее значение в этом случае в баланс клиента, но придерживаемся классу MNAR и оставляем пропуски без изменений."
   ]
  },
  {
   "cell_type": "code",
   "execution_count": 9,
   "metadata": {},
   "outputs": [
    {
     "data": {
      "text/plain": [
       "'Корреляция признаков с age_missing'"
      ]
     },
     "metadata": {},
     "output_type": "display_data"
    },
    {
     "data": {
      "text/plain": [
       "age_missing        1.000000\n",
       "balance_missing    0.068092\n",
       "score              0.059585\n",
       "products           0.044816\n",
       "equity             0.038201\n",
       "last_activity      0.032798\n",
       "churn              0.020515\n",
       "city               0.011859\n",
       "est_salary         0.009403\n",
       "gender             0.000000\n",
       "balance            0.000000\n",
       "credit_card        0.000000\n",
       "age                     NaN\n",
       "Name: age_missing, dtype: float64"
      ]
     },
     "metadata": {},
     "output_type": "display_data"
    }
   ],
   "source": [
    "#display(correlation['age_missing'])\n",
    "# Получение корреляции с признаком 'balance_missing'\n",
    "age_missing_correlation = correlation_matrix['age_missing']\n",
    "\n",
    "# Вывод результатов\n",
    "display(\"Корреляция признаков с age_missing\")\n",
    "display(age_missing_correlation.sort_values(ascending=False))"
   ]
  },
  {
   "cell_type": "markdown",
   "metadata": {},
   "source": [
    "Вывод: Пропуски в столбце age не коррелируют ни с одним столбцом и относятся к классу MCAR, их нужно удалить."
   ]
  },
  {
   "cell_type": "code",
   "execution_count": 10,
   "metadata": {},
   "outputs": [],
   "source": [
    "data = data.dropna(subset=['age'])"
   ]
  },
  {
   "cell_type": "markdown",
   "metadata": {},
   "source": [
    "### Проверка на дубликаты."
   ]
  },
  {
   "cell_type": "markdown",
   "metadata": {},
   "source": [
    "#### Явные дубликаты."
   ]
  },
  {
   "cell_type": "code",
   "execution_count": 11,
   "metadata": {},
   "outputs": [
    {
     "data": {
      "text/plain": [
       "'Дубликаты в датафрейме:0'"
      ]
     },
     "metadata": {},
     "output_type": "display_data"
    }
   ],
   "source": [
    "display (f\"Дубликаты в датафрейме:{data.duplicated().sum()}\")"
   ]
  },
  {
   "cell_type": "code",
   "execution_count": 12,
   "metadata": {},
   "outputs": [
    {
     "data": {
      "text/plain": [
       "userid             [183012, 146556, 120722, 225363, 157978, 20230...\n",
       "score              [850.0, 861.0, 892.0, 866.0, 730.0, 856.0, 807...\n",
       "city                                    [Рыбинск, Ярославль, Ростов]\n",
       "gender                                                        [Ж, М]\n",
       "age                [25.0, 37.0, 30.0, 51.0, 34.0, 56.0, 39.0, 38....\n",
       "equity                                [1, 5, 0, 4, 3, 2, 6, 7, 8, 9]\n",
       "balance            [59214.82, 850594.33, nan, 1524746.26, 174.0, ...\n",
       "products                                          [2, 3, 1, 4, 5, 0]\n",
       "credit_card                                                   [0, 1]\n",
       "last_activity                                                 [1, 0]\n",
       "est_salary         [75719.14, 86621.77, 107683.34, 174423.53, 673...\n",
       "churn                                                         [1, 0]\n",
       "balance_missing                                               [0, 1]\n",
       "age_missing                                                      [0]\n",
       "dtype: object"
      ]
     },
     "metadata": {},
     "output_type": "display_data"
    }
   ],
   "source": [
    "\n",
    "# Функция для вывода уникальных значений в столбце датафрейма\n",
    "def get_value_counts(column):\n",
    "        return column.unique()\n",
    "    \n",
    "display(data.apply(get_value_counts))\n"
   ]
  },
  {
   "cell_type": "markdown",
   "metadata": {},
   "source": [
    "Вывод явных дубликатов нет."
   ]
  },
  {
   "cell_type": "markdown",
   "metadata": {},
   "source": [
    "#### Неявные дубликаты."
   ]
  },
  {
   "cell_type": "code",
   "execution_count": 13,
   "metadata": {},
   "outputs": [
    {
     "data": {
      "text/html": [
       "<div>\n",
       "<style scoped>\n",
       "    .dataframe tbody tr th:only-of-type {\n",
       "        vertical-align: middle;\n",
       "    }\n",
       "\n",
       "    .dataframe tbody tr th {\n",
       "        vertical-align: top;\n",
       "    }\n",
       "\n",
       "    .dataframe thead th {\n",
       "        text-align: right;\n",
       "    }\n",
       "</style>\n",
       "<table border=\"1\" class=\"dataframe\">\n",
       "  <thead>\n",
       "    <tr style=\"text-align: right;\">\n",
       "      <th></th>\n",
       "      <th>userid</th>\n",
       "      <th>score</th>\n",
       "      <th>city</th>\n",
       "      <th>gender</th>\n",
       "      <th>age</th>\n",
       "      <th>equity</th>\n",
       "      <th>balance</th>\n",
       "      <th>products</th>\n",
       "      <th>credit_card</th>\n",
       "      <th>last_activity</th>\n",
       "      <th>est_salary</th>\n",
       "      <th>churn</th>\n",
       "      <th>balance_missing</th>\n",
       "      <th>age_missing</th>\n",
       "    </tr>\n",
       "  </thead>\n",
       "  <tbody>\n",
       "    <tr>\n",
       "      <th>58</th>\n",
       "      <td>164676</td>\n",
       "      <td>860.0</td>\n",
       "      <td>Ярославль</td>\n",
       "      <td>М</td>\n",
       "      <td>37.0</td>\n",
       "      <td>5</td>\n",
       "      <td>648594.03</td>\n",
       "      <td>2</td>\n",
       "      <td>1</td>\n",
       "      <td>1</td>\n",
       "      <td>213586.86</td>\n",
       "      <td>1</td>\n",
       "      <td>0</td>\n",
       "      <td>0</td>\n",
       "    </tr>\n",
       "    <tr>\n",
       "      <th>150</th>\n",
       "      <td>185748</td>\n",
       "      <td>850.0</td>\n",
       "      <td>Рыбинск</td>\n",
       "      <td>М</td>\n",
       "      <td>36.0</td>\n",
       "      <td>5</td>\n",
       "      <td>1203376.67</td>\n",
       "      <td>2</td>\n",
       "      <td>0</td>\n",
       "      <td>1</td>\n",
       "      <td>89401.82</td>\n",
       "      <td>1</td>\n",
       "      <td>0</td>\n",
       "      <td>0</td>\n",
       "    </tr>\n",
       "    <tr>\n",
       "      <th>161</th>\n",
       "      <td>197364</td>\n",
       "      <td>928.0</td>\n",
       "      <td>Рыбинск</td>\n",
       "      <td>Ж</td>\n",
       "      <td>53.0</td>\n",
       "      <td>6</td>\n",
       "      <td>1347183.86</td>\n",
       "      <td>2</td>\n",
       "      <td>0</td>\n",
       "      <td>1</td>\n",
       "      <td>168189.49</td>\n",
       "      <td>1</td>\n",
       "      <td>0</td>\n",
       "      <td>0</td>\n",
       "    </tr>\n",
       "    <tr>\n",
       "      <th>231</th>\n",
       "      <td>190253</td>\n",
       "      <td>823.0</td>\n",
       "      <td>Рыбинск</td>\n",
       "      <td>М</td>\n",
       "      <td>37.0</td>\n",
       "      <td>4</td>\n",
       "      <td>373348.39</td>\n",
       "      <td>2</td>\n",
       "      <td>0</td>\n",
       "      <td>1</td>\n",
       "      <td>131947.92</td>\n",
       "      <td>1</td>\n",
       "      <td>0</td>\n",
       "      <td>0</td>\n",
       "    </tr>\n",
       "    <tr>\n",
       "      <th>690</th>\n",
       "      <td>152479</td>\n",
       "      <td>768.0</td>\n",
       "      <td>Рыбинск</td>\n",
       "      <td>Ж</td>\n",
       "      <td>42.0</td>\n",
       "      <td>0</td>\n",
       "      <td>126787.79</td>\n",
       "      <td>4</td>\n",
       "      <td>1</td>\n",
       "      <td>1</td>\n",
       "      <td>143233.23</td>\n",
       "      <td>1</td>\n",
       "      <td>0</td>\n",
       "      <td>0</td>\n",
       "    </tr>\n",
       "    <tr>\n",
       "      <th>...</th>\n",
       "      <td>...</td>\n",
       "      <td>...</td>\n",
       "      <td>...</td>\n",
       "      <td>...</td>\n",
       "      <td>...</td>\n",
       "      <td>...</td>\n",
       "      <td>...</td>\n",
       "      <td>...</td>\n",
       "      <td>...</td>\n",
       "      <td>...</td>\n",
       "      <td>...</td>\n",
       "      <td>...</td>\n",
       "      <td>...</td>\n",
       "      <td>...</td>\n",
       "    </tr>\n",
       "    <tr>\n",
       "      <th>9659</th>\n",
       "      <td>195884</td>\n",
       "      <td>767.0</td>\n",
       "      <td>Рыбинск</td>\n",
       "      <td>Ж</td>\n",
       "      <td>45.0</td>\n",
       "      <td>1</td>\n",
       "      <td>335652.56</td>\n",
       "      <td>3</td>\n",
       "      <td>1</td>\n",
       "      <td>1</td>\n",
       "      <td>100197.67</td>\n",
       "      <td>0</td>\n",
       "      <td>0</td>\n",
       "      <td>0</td>\n",
       "    </tr>\n",
       "    <tr>\n",
       "      <th>9775</th>\n",
       "      <td>124450</td>\n",
       "      <td>758.0</td>\n",
       "      <td>Рыбинск</td>\n",
       "      <td>Ж</td>\n",
       "      <td>36.0</td>\n",
       "      <td>0</td>\n",
       "      <td>73574.07</td>\n",
       "      <td>2</td>\n",
       "      <td>0</td>\n",
       "      <td>1</td>\n",
       "      <td>79963.59</td>\n",
       "      <td>0</td>\n",
       "      <td>0</td>\n",
       "      <td>0</td>\n",
       "    </tr>\n",
       "    <tr>\n",
       "      <th>9785</th>\n",
       "      <td>168998</td>\n",
       "      <td>895.0</td>\n",
       "      <td>Рыбинск</td>\n",
       "      <td>М</td>\n",
       "      <td>44.0</td>\n",
       "      <td>0</td>\n",
       "      <td>282653.53</td>\n",
       "      <td>3</td>\n",
       "      <td>0</td>\n",
       "      <td>0</td>\n",
       "      <td>255296.47</td>\n",
       "      <td>0</td>\n",
       "      <td>0</td>\n",
       "      <td>0</td>\n",
       "    </tr>\n",
       "    <tr>\n",
       "      <th>9880</th>\n",
       "      <td>217412</td>\n",
       "      <td>886.0</td>\n",
       "      <td>Ярославль</td>\n",
       "      <td>Ж</td>\n",
       "      <td>35.0</td>\n",
       "      <td>3</td>\n",
       "      <td>1026172.14</td>\n",
       "      <td>2</td>\n",
       "      <td>1</td>\n",
       "      <td>0</td>\n",
       "      <td>53099.16</td>\n",
       "      <td>0</td>\n",
       "      <td>0</td>\n",
       "      <td>0</td>\n",
       "    </tr>\n",
       "    <tr>\n",
       "      <th>9970</th>\n",
       "      <td>175730</td>\n",
       "      <td>816.0</td>\n",
       "      <td>Рыбинск</td>\n",
       "      <td>М</td>\n",
       "      <td>36.0</td>\n",
       "      <td>4</td>\n",
       "      <td>477892.07</td>\n",
       "      <td>3</td>\n",
       "      <td>1</td>\n",
       "      <td>0</td>\n",
       "      <td>81100.60</td>\n",
       "      <td>0</td>\n",
       "      <td>0</td>\n",
       "      <td>0</td>\n",
       "    </tr>\n",
       "  </tbody>\n",
       "</table>\n",
       "<p>100 rows × 14 columns</p>\n",
       "</div>"
      ],
      "text/plain": [
       "      userid  score       city gender   age  equity     balance  products  \\\n",
       "58    164676  860.0  Ярославль      М  37.0       5   648594.03         2   \n",
       "150   185748  850.0    Рыбинск      М  36.0       5  1203376.67         2   \n",
       "161   197364  928.0    Рыбинск      Ж  53.0       6  1347183.86         2   \n",
       "231   190253  823.0    Рыбинск      М  37.0       4   373348.39         2   \n",
       "690   152479  768.0    Рыбинск      Ж  42.0       0   126787.79         4   \n",
       "...      ...    ...        ...    ...   ...     ...         ...       ...   \n",
       "9659  195884  767.0    Рыбинск      Ж  45.0       1   335652.56         3   \n",
       "9775  124450  758.0    Рыбинск      Ж  36.0       0    73574.07         2   \n",
       "9785  168998  895.0    Рыбинск      М  44.0       0   282653.53         3   \n",
       "9880  217412  886.0  Ярославль      Ж  35.0       3  1026172.14         2   \n",
       "9970  175730  816.0    Рыбинск      М  36.0       4   477892.07         3   \n",
       "\n",
       "      credit_card  last_activity  est_salary  churn  balance_missing  \\\n",
       "58              1              1   213586.86      1                0   \n",
       "150             0              1    89401.82      1                0   \n",
       "161             0              1   168189.49      1                0   \n",
       "231             0              1   131947.92      1                0   \n",
       "690             1              1   143233.23      1                0   \n",
       "...           ...            ...         ...    ...              ...   \n",
       "9659            1              1   100197.67      0                0   \n",
       "9775            0              1    79963.59      0                0   \n",
       "9785            0              0   255296.47      0                0   \n",
       "9880            1              0    53099.16      0                0   \n",
       "9970            1              0    81100.60      0                0   \n",
       "\n",
       "      age_missing  \n",
       "58              0  \n",
       "150             0  \n",
       "161             0  \n",
       "231             0  \n",
       "690             0  \n",
       "...           ...  \n",
       "9659            0  \n",
       "9775            0  \n",
       "9785            0  \n",
       "9880            0  \n",
       "9970            0  \n",
       "\n",
       "[100 rows x 14 columns]"
      ]
     },
     "metadata": {},
     "output_type": "display_data"
    }
   ],
   "source": [
    "display(data[data.duplicated(subset = 'userid', keep=False)])"
   ]
  },
  {
   "cell_type": "code",
   "execution_count": 14,
   "metadata": {},
   "outputs": [
    {
     "data": {
      "text/html": [
       "<div>\n",
       "<style scoped>\n",
       "    .dataframe tbody tr th:only-of-type {\n",
       "        vertical-align: middle;\n",
       "    }\n",
       "\n",
       "    .dataframe tbody tr th {\n",
       "        vertical-align: top;\n",
       "    }\n",
       "\n",
       "    .dataframe thead th {\n",
       "        text-align: right;\n",
       "    }\n",
       "</style>\n",
       "<table border=\"1\" class=\"dataframe\">\n",
       "  <thead>\n",
       "    <tr style=\"text-align: right;\">\n",
       "      <th></th>\n",
       "      <th>userid</th>\n",
       "      <th>score</th>\n",
       "      <th>city</th>\n",
       "      <th>gender</th>\n",
       "      <th>age</th>\n",
       "      <th>equity</th>\n",
       "      <th>balance</th>\n",
       "      <th>products</th>\n",
       "      <th>credit_card</th>\n",
       "      <th>last_activity</th>\n",
       "      <th>est_salary</th>\n",
       "      <th>churn</th>\n",
       "      <th>balance_missing</th>\n",
       "      <th>age_missing</th>\n",
       "    </tr>\n",
       "  </thead>\n",
       "  <tbody>\n",
       "    <tr>\n",
       "      <th>7694</th>\n",
       "      <td>116540</td>\n",
       "      <td>887.0</td>\n",
       "      <td>Ярославль</td>\n",
       "      <td>Ж</td>\n",
       "      <td>38.0</td>\n",
       "      <td>0</td>\n",
       "      <td>NaN</td>\n",
       "      <td>1</td>\n",
       "      <td>0</td>\n",
       "      <td>1</td>\n",
       "      <td>119247.61</td>\n",
       "      <td>0</td>\n",
       "      <td>1</td>\n",
       "      <td>0</td>\n",
       "    </tr>\n",
       "    <tr>\n",
       "      <th>1893</th>\n",
       "      <td>116540</td>\n",
       "      <td>883.0</td>\n",
       "      <td>Рыбинск</td>\n",
       "      <td>Ж</td>\n",
       "      <td>55.0</td>\n",
       "      <td>1</td>\n",
       "      <td>362756.49</td>\n",
       "      <td>3</td>\n",
       "      <td>0</td>\n",
       "      <td>1</td>\n",
       "      <td>175920.48</td>\n",
       "      <td>1</td>\n",
       "      <td>0</td>\n",
       "      <td>0</td>\n",
       "    </tr>\n",
       "    <tr>\n",
       "      <th>7542</th>\n",
       "      <td>117943</td>\n",
       "      <td>880.0</td>\n",
       "      <td>Ярославль</td>\n",
       "      <td>Ж</td>\n",
       "      <td>40.0</td>\n",
       "      <td>0</td>\n",
       "      <td>NaN</td>\n",
       "      <td>1</td>\n",
       "      <td>1</td>\n",
       "      <td>0</td>\n",
       "      <td>137718.93</td>\n",
       "      <td>0</td>\n",
       "      <td>1</td>\n",
       "      <td>0</td>\n",
       "    </tr>\n",
       "    <tr>\n",
       "      <th>4866</th>\n",
       "      <td>117943</td>\n",
       "      <td>855.0</td>\n",
       "      <td>Рыбинск</td>\n",
       "      <td>Ж</td>\n",
       "      <td>32.0</td>\n",
       "      <td>6</td>\n",
       "      <td>1036832.93</td>\n",
       "      <td>4</td>\n",
       "      <td>1</td>\n",
       "      <td>1</td>\n",
       "      <td>107792.71</td>\n",
       "      <td>1</td>\n",
       "      <td>0</td>\n",
       "      <td>0</td>\n",
       "    </tr>\n",
       "    <tr>\n",
       "      <th>5863</th>\n",
       "      <td>120258</td>\n",
       "      <td>908.0</td>\n",
       "      <td>Рыбинск</td>\n",
       "      <td>Ж</td>\n",
       "      <td>38.0</td>\n",
       "      <td>4</td>\n",
       "      <td>2213581.63</td>\n",
       "      <td>2</td>\n",
       "      <td>0</td>\n",
       "      <td>1</td>\n",
       "      <td>160327.77</td>\n",
       "      <td>1</td>\n",
       "      <td>0</td>\n",
       "      <td>0</td>\n",
       "    </tr>\n",
       "    <tr>\n",
       "      <th>...</th>\n",
       "      <td>...</td>\n",
       "      <td>...</td>\n",
       "      <td>...</td>\n",
       "      <td>...</td>\n",
       "      <td>...</td>\n",
       "      <td>...</td>\n",
       "      <td>...</td>\n",
       "      <td>...</td>\n",
       "      <td>...</td>\n",
       "      <td>...</td>\n",
       "      <td>...</td>\n",
       "      <td>...</td>\n",
       "      <td>...</td>\n",
       "      <td>...</td>\n",
       "    </tr>\n",
       "    <tr>\n",
       "      <th>1740</th>\n",
       "      <td>220816</td>\n",
       "      <td>840.0</td>\n",
       "      <td>Ярославль</td>\n",
       "      <td>Ж</td>\n",
       "      <td>41.0</td>\n",
       "      <td>3</td>\n",
       "      <td>1193287.13</td>\n",
       "      <td>2</td>\n",
       "      <td>1</td>\n",
       "      <td>1</td>\n",
       "      <td>76434.94</td>\n",
       "      <td>1</td>\n",
       "      <td>0</td>\n",
       "      <td>0</td>\n",
       "    </tr>\n",
       "    <tr>\n",
       "      <th>4216</th>\n",
       "      <td>226719</td>\n",
       "      <td>903.0</td>\n",
       "      <td>Рыбинск</td>\n",
       "      <td>Ж</td>\n",
       "      <td>63.0</td>\n",
       "      <td>0</td>\n",
       "      <td>NaN</td>\n",
       "      <td>1</td>\n",
       "      <td>1</td>\n",
       "      <td>0</td>\n",
       "      <td>138582.58</td>\n",
       "      <td>0</td>\n",
       "      <td>1</td>\n",
       "      <td>0</td>\n",
       "    </tr>\n",
       "    <tr>\n",
       "      <th>2597</th>\n",
       "      <td>226719</td>\n",
       "      <td>990.0</td>\n",
       "      <td>Ярославль</td>\n",
       "      <td>М</td>\n",
       "      <td>37.0</td>\n",
       "      <td>4</td>\n",
       "      <td>14648692.14</td>\n",
       "      <td>2</td>\n",
       "      <td>0</td>\n",
       "      <td>0</td>\n",
       "      <td>934412.61</td>\n",
       "      <td>1</td>\n",
       "      <td>0</td>\n",
       "      <td>0</td>\n",
       "    </tr>\n",
       "    <tr>\n",
       "      <th>8205</th>\n",
       "      <td>227795</td>\n",
       "      <td>840.0</td>\n",
       "      <td>Рыбинск</td>\n",
       "      <td>М</td>\n",
       "      <td>34.0</td>\n",
       "      <td>2</td>\n",
       "      <td>350768.03</td>\n",
       "      <td>1</td>\n",
       "      <td>1</td>\n",
       "      <td>0</td>\n",
       "      <td>102036.14</td>\n",
       "      <td>1</td>\n",
       "      <td>0</td>\n",
       "      <td>0</td>\n",
       "    </tr>\n",
       "    <tr>\n",
       "      <th>8497</th>\n",
       "      <td>227795</td>\n",
       "      <td>839.0</td>\n",
       "      <td>Ярославль</td>\n",
       "      <td>М</td>\n",
       "      <td>34.0</td>\n",
       "      <td>2</td>\n",
       "      <td>326593.14</td>\n",
       "      <td>2</td>\n",
       "      <td>1</td>\n",
       "      <td>0</td>\n",
       "      <td>103314.92</td>\n",
       "      <td>0</td>\n",
       "      <td>0</td>\n",
       "      <td>0</td>\n",
       "    </tr>\n",
       "  </tbody>\n",
       "</table>\n",
       "<p>100 rows × 14 columns</p>\n",
       "</div>"
      ],
      "text/plain": [
       "      userid  score       city gender   age  equity      balance  products  \\\n",
       "7694  116540  887.0  Ярославль      Ж  38.0       0          NaN         1   \n",
       "1893  116540  883.0    Рыбинск      Ж  55.0       1    362756.49         3   \n",
       "7542  117943  880.0  Ярославль      Ж  40.0       0          NaN         1   \n",
       "4866  117943  855.0    Рыбинск      Ж  32.0       6   1036832.93         4   \n",
       "5863  120258  908.0    Рыбинск      Ж  38.0       4   2213581.63         2   \n",
       "...      ...    ...        ...    ...   ...     ...          ...       ...   \n",
       "1740  220816  840.0  Ярославль      Ж  41.0       3   1193287.13         2   \n",
       "4216  226719  903.0    Рыбинск      Ж  63.0       0          NaN         1   \n",
       "2597  226719  990.0  Ярославль      М  37.0       4  14648692.14         2   \n",
       "8205  227795  840.0    Рыбинск      М  34.0       2    350768.03         1   \n",
       "8497  227795  839.0  Ярославль      М  34.0       2    326593.14         2   \n",
       "\n",
       "      credit_card  last_activity  est_salary  churn  balance_missing  \\\n",
       "7694            0              1   119247.61      0                1   \n",
       "1893            0              1   175920.48      1                0   \n",
       "7542            1              0   137718.93      0                1   \n",
       "4866            1              1   107792.71      1                0   \n",
       "5863            0              1   160327.77      1                0   \n",
       "...           ...            ...         ...    ...              ...   \n",
       "1740            1              1    76434.94      1                0   \n",
       "4216            1              0   138582.58      0                1   \n",
       "2597            0              0   934412.61      1                0   \n",
       "8205            1              0   102036.14      1                0   \n",
       "8497            1              0   103314.92      0                0   \n",
       "\n",
       "      age_missing  \n",
       "7694            0  \n",
       "1893            0  \n",
       "7542            0  \n",
       "4866            0  \n",
       "5863            0  \n",
       "...           ...  \n",
       "1740            0  \n",
       "4216            0  \n",
       "2597            0  \n",
       "8205            0  \n",
       "8497            0  \n",
       "\n",
       "[100 rows x 14 columns]"
      ]
     },
     "metadata": {},
     "output_type": "display_data"
    }
   ],
   "source": [
    "# Получаем первое вхождение для каждого userid\n",
    "first_occurrences = data[data.duplicated(subset='userid', keep=False)].drop_duplicates(subset='userid')\n",
    "\n",
    "# Получаем все дубликаты\n",
    "duplicates = data[data.duplicated(subset='userid', keep=False)]\n",
    "\n",
    "# Объединяем первое вхождение с дубликатами\n",
    "duplicates_with_first = pd.concat([first_occurrences, duplicates]).drop_duplicates().sort_values(by='userid')\n",
    "\n",
    "# Вывод \n",
    "display(duplicates_with_first)"
   ]
  },
  {
   "cell_type": "markdown",
   "metadata": {},
   "source": [
    "Вывод. Несмотря на дубликаты в userid, данные в дублированных строках в остальных столбцах абсолютно разные. Поэтому не будем удалять строки с одинаковыми id. Это разные клиенты. Укажем данный факт техничекой поддержке для обработки ошибки в базах данных со стороны инженеров."
   ]
  },
  {
   "cell_type": "markdown",
   "metadata": {},
   "source": [
    "## Предобработка данных."
   ]
  },
  {
   "cell_type": "markdown",
   "metadata": {},
   "source": [
    "### Анализ распределения признаков в разрезе оттока по непрерывным данным."
   ]
  },
  {
   "cell_type": "code",
   "execution_count": 15,
   "metadata": {},
   "outputs": [
    {
     "data": {
      "image/png": "[encoded data removed]",
      "text/plain": [
       "<Figure size 1080x720 with 1 Axes>"
      ]
     },
     "metadata": {
      "needs_background": "light"
     },
     "output_type": "display_data"
    }
   ],
   "source": [
    "# Удаляем строки с пропусками\n",
    "data_without_passes = data.dropna(subset=['balance', 'est_salary', 'churn'])\n",
    "\n",
    "# Установим параметры для графиков\n",
    "plt.figure(figsize=(15, 10))\n",
    "\n",
    "# Устанавливаем количество бинов\n",
    "bins_1 = range(int(data_without_passes['age'].min()), int(data_without_passes['age'].max()) + 1, 5)\n",
    "# Настройка цвета и прозрачности\n",
    "colors = ['darkblue', '#aec7e8'] \n",
    "alpha = 0.6\n",
    "\n",
    "# Гистограмма для 'age'\n",
    "\n",
    "plt.hist(data_without_passes[data_without_passes['churn'] == 1]['age'], bins=bins_1,\n",
    "         density=True, alpha=alpha, color=colors[0], label='Churn = 1')\n",
    "plt.hist(data_without_passes[data_without_passes['churn'] == 0]['age'], bins=bins_1,\n",
    "         density=True, alpha=alpha, color=colors[1], label='Churn = 0')\n",
    "\n",
    "plt.title('Гистограмма возраста по оттоку')\n",
    "plt.xlabel('Возраст')\n",
    "plt.ylabel('Плотность')\n",
    "plt.legend()\n",
    "# Включение и настройка сетки\n",
    "plt.grid(color='gray', linestyle='--', linewidth=0.5)\n",
    "# Отображаем график\n",
    "plt.tight_layout()  # Убедитесь, что графики не перекрываются\n",
    "plt.show()"
   ]
  },
  {
   "cell_type": "markdown",
   "metadata": {},
   "source": [
    "Вывод. \n",
    "1. Возрастная группа: Основная масса пользователей сосредоточена в возрасте от 30 до 50 лет. \n",
    "\n",
    "2. Потеря клиентов: Пользователи, которые ушли (Churn = 1), чаще встречаются в возрасте от 24 до 38 и от 48 до 63 лет, что может указывать на то, что именно эти возрастные группа более подвержена риску потери.\n",
    "\n",
    "3. Сравнение групп: Пользователи, оставшиеся (Churn = 0), имеют более равномерное распределение по возрасту, особенно среди старших возрастных групп (60-80 лет).\n",
    "\n",
    "4. Критические возрастные группы: Возможно, стоит обратить внимание на пользователей в возрасте 28-33 и 53-58 лет, так как у них наблюдается высокая доля потери.\n",
    "\n",
    "Эти выводы могут помочь в разработке стратегий для удержания клиентов и улучшения сервиса, ориентируясь на особенности разных возрастных групп."
   ]
  },
  {
   "cell_type": "code",
   "execution_count": 16,
   "metadata": {},
   "outputs": [
    {
     "data": {
      "image/png": "[encoded data removed]",
      "text/plain": [
       "<Figure size 1080x720 with 1 Axes>"
      ]
     },
     "metadata": {
      "needs_background": "light"
     },
     "output_type": "display_data"
    }
   ],
   "source": [
    "# Устанавливаем количество бинов\n",
    "#bins_1 = range(int(data_without_passes[ 'est_salary'].min()), int(data_without_passes[ 'est_salary'].max()) + 1, 5)\n",
    "bins_1=range(0,750000,100000)\n",
    "plt.figure(figsize=(15, 10))\n",
    "# Гистограмма для 'est_salary'\n",
    "\n",
    "plt.hist(data_without_passes[data_without_passes['churn'] == 1][ 'est_salary'], bins=bins_1,\n",
    "         density=True, alpha=alpha, color=colors[0], label='Churn = 1')\n",
    "plt.hist(data_without_passes[data_without_passes['churn'] == 0][ 'est_salary'], bins=bins_1,\n",
    "         density=True, alpha=alpha, color=colors[1], label='Churn = 0')\n",
    "\n",
    "plt.title('Гистограмма зарплаты по оттоку')\n",
    "plt.xlabel('Зарплата, руб.')\n",
    "plt.ylabel('Плотность')\n",
    "plt.legend()\n",
    "# Включение и настройка сетки\n",
    "plt.grid(color='gray', linestyle='--', linewidth=0.5)\n",
    "# Отображаем график\n",
    "plt.tight_layout()  # Убедитесь, что графики не перекрываются\n",
    "plt.show()"
   ]
  },
  {
   "cell_type": "markdown",
   "metadata": {},
   "source": [
    "Вывод. Отток клиентов наблюдается на участке, где заработная плата больше 100 тыс. руб."
   ]
  },
  {
   "cell_type": "code",
   "execution_count": 17,
   "metadata": {},
   "outputs": [
    {
     "data": {
      "image/png": "[encoded data removed]",
      "text/plain": [
       "<Figure size 1080x720 with 1 Axes>"
      ]
     },
     "metadata": {
      "needs_background": "light"
     },
     "output_type": "display_data"
    }
   ],
   "source": [
    "# Устанавливаем количество бинов\n",
    "#bins_1 = range(int(data_without_passes[ 'balance'].min()), int(data_without_passes[ 'balance'].max()) + 1, 5)\n",
    "bins_1=range(0,5000000,100000)\n",
    "plt.figure(figsize=(15, 10))\n",
    "# Гистограмма для 'balance'\n",
    "\n",
    "plt.hist(data_without_passes[data_without_passes['churn'] == 1][ 'balance'], bins=bins_1,\n",
    "         density=True, alpha=alpha, color=colors[0], label='Churn = 1')\n",
    "plt.hist(data_without_passes[data_without_passes['churn'] == 0][ 'balance'], bins=bins_1,\n",
    "         density=True, alpha=alpha, color=colors[1], label='Churn = 0')\n",
    "\n",
    "plt.title('Гистограмма баланса по оттоку')\n",
    "plt.xlabel('Баланс млн.руб.')\n",
    "plt.ylabel('Плотность')\n",
    "plt.legend()\n",
    "# Включение и настройка сетки\n",
    "plt.grid(color='gray', linestyle='--', linewidth=0.5)\n",
    "# Отображаем график\n",
    "plt.tight_layout()  # Убедитесь, что графики не перекрываются\n",
    "plt.show()"
   ]
  },
  {
   "cell_type": "markdown",
   "metadata": {},
   "source": [
    "Общий вывод. У клиентов с большим балансом на счету, отток выше."
   ]
  },
  {
   "cell_type": "code",
   "execution_count": 18,
   "metadata": {},
   "outputs": [
    {
     "data": {
      "image/png": "[encoded data removed]",
      "text/plain": [
       "<Figure size 1080x720 with 1 Axes>"
      ]
     },
     "metadata": {
      "needs_background": "light"
     },
     "output_type": "display_data"
    }
   ],
   "source": [
    "# Устанавливаем количество бинов\n",
    "plt.figure(figsize=(15, 10))\n",
    "bins_1 = range(int(data_without_passes['score'].min()), int(data_without_passes['score'].max()) + 1, 5)\n",
    "# Настройка цвета и прозрачности\n",
    "colors = ['darkblue', 'blue']\n",
    "alpha = 0.4\n",
    "\n",
    "# Гистограмма для 'age'\n",
    "\n",
    "plt.hist(data_without_passes[data_without_passes['churn'] == 1]['score'], bins=bins_1,\n",
    "         density=True, alpha=alpha, color=colors[0], label='Churn = 1')\n",
    "plt.hist(data_without_passes[data_without_passes['churn'] == 0]['score'], bins=bins_1,\n",
    "         density=True, alpha=alpha, color=colors[1], label='Churn = 0')\n",
    "\n",
    "plt.title('Гистограмма по оценке банка надежности клиента ')\n",
    "plt.xlabel('Оценка надежности')\n",
    "plt.ylabel('Плотность')\n",
    "plt.legend()\n",
    "# Включение и настройка сетки\n",
    "plt.grid(color='gray', linestyle='--', linewidth=0.5)\n",
    "# Отображаем график\n",
    "plt.tight_layout()  # Убедитесь, что графики не перекрываются\n",
    "plt.show()"
   ]
  },
  {
   "cell_type": "markdown",
   "metadata": {},
   "source": [
    "Вывод. Отток клиентов на интервале значений 850-948."
   ]
  },
  {
   "cell_type": "markdown",
   "metadata": {},
   "source": [
    "### Анализ распределения признаков в разрезе оттока по дискретным данным."
   ]
  },
  {
   "cell_type": "code",
   "execution_count": 19,
   "metadata": {},
   "outputs": [
    {
     "data": {
      "image/png": "[encoded data removed]",
      "text/plain": [
       "<Figure size 720x432 with 1 Axes>"
      ]
     },
     "metadata": {
      "needs_background": "light"
     },
     "output_type": "display_data"
    }
   ],
   "source": [
    "#функция для вывода дискретных признаков\n",
    "def plot_churn_by_(data, x, y, title, xlabel):\n",
    "    plt.figure(figsize=(10, 6))\n",
    "    # Настройка цветов\n",
    "    colors = ['#d8b8e5','#6a0dad']  # Темно-фиолетовый и светло-фиолетовый\n",
    "    sns.barplot(x=x, y=y, data=data, estimator=lambda x: sum(x) / len(x),palette=colors)\n",
    "    \n",
    "    # Добавление горизонтальной линии со средним уровнем оттока\n",
    "    mean_churn = data[y].mean()\n",
    "    plt.axhline(mean_churn, color='red', linestyle='--', label='Средний уровень оттока')\n",
    "    \n",
    "    # Добавление легенды и меток\n",
    "    plt.title(title)\n",
    "    plt.xlabel(xlabel)\n",
    "    plt.ylabel('Уровень оттока')\n",
    "    plt.legend()\n",
    "    \n",
    "    # Показать график\n",
    "    plt.show()\n",
    "\n",
    "plot_churn_by_(data, 'gender', 'churn', 'Уровень оттока по полу', 'Пол')\n"
   ]
  },
  {
   "cell_type": "markdown",
   "metadata": {},
   "source": [
    "Вывод. У мужчин отток выше среднего уровня."
   ]
  },
  {
   "cell_type": "code",
   "execution_count": 20,
   "metadata": {},
   "outputs": [
    {
     "data": {
      "image/png": "[encoded data removed]",
      "text/plain": [
       "<Figure size 720x432 with 1 Axes>"
      ]
     },
     "metadata": {
      "needs_background": "light"
     },
     "output_type": "display_data"
    }
   ],
   "source": [
    "# Определение признака Наличие кредитной карты\n",
    "plot_churn_by_(data, 'credit_card', 'churn', 'Уровень оттока по наличию кредитной карты', 'Наличие кредитной карты')"
   ]
  },
  {
   "cell_type": "markdown",
   "metadata": {},
   "source": [
    "Вывод. У клиентов без кредитной карты отток выше среднего уровня."
   ]
  },
  {
   "cell_type": "code",
   "execution_count": 21,
   "metadata": {},
   "outputs": [
    {
     "data": {
      "image/png": "[encoded data removed]",
      "text/plain": [
       "<Figure size 720x432 with 1 Axes>"
      ]
     },
     "metadata": {
      "needs_background": "light"
     },
     "output_type": "display_data"
    }
   ],
   "source": [
    "# Определение признака Активности\n",
    "plot_churn_by_(data, 'last_activity', 'churn', 'Уровень оттока по Активности клиента', 'Активность')"
   ]
  },
  {
   "cell_type": "code",
   "execution_count": 22,
   "metadata": {},
   "outputs": [
    {
     "data": {
      "image/png": "[encoded data removed]",
      "text/plain": [
       "<Figure size 720x432 with 1 Axes>"
      ]
     },
     "metadata": {
      "needs_background": "light"
     },
     "output_type": "display_data"
    }
   ],
   "source": [
    "# Определение признака Город для анализа\n",
    "plot_churn_by_(data, 'city', 'churn', 'Уровень оттока по городу', 'Город')"
   ]
  },
  {
   "cell_type": "markdown",
   "metadata": {},
   "source": [
    "Вывод. БОльший отток в Ярославле."
   ]
  },
  {
   "cell_type": "code",
   "execution_count": 23,
   "metadata": {},
   "outputs": [
    {
     "data": {
      "image/png": "[encoded data removed]",
      "text/plain": [
       "<Figure size 720x432 with 1 Axes>"
      ]
     },
     "metadata": {
      "needs_background": "light"
     },
     "output_type": "display_data"
    }
   ],
   "source": [
    "# Определение признака Город для анализа\n",
    "plot_churn_by_(data, 'equity', 'churn', 'Уровень оттока по количеству балла собственности', 'Балл')"
   ]
  },
  {
   "cell_type": "markdown",
   "metadata": {},
   "source": [
    "Вывод. Можно утверждать, что со средним количеством балов собственности увеличивается и отток. "
   ]
  },
  {
   "cell_type": "code",
   "execution_count": 24,
   "metadata": {
    "scrolled": true
   },
   "outputs": [
    {
     "data": {
      "image/png": "[encoded data removed]",
      "text/plain": [
       "<Figure size 720x432 with 1 Axes>"
      ]
     },
     "metadata": {
      "needs_background": "light"
     },
     "output_type": "display_data"
    }
   ],
   "source": [
    "# Определение признака Город для анализа\n",
    "plot_churn_by_(data, 'products', 'churn', 'Уровень оттока по количеству продуктов ', 'Количество продуктов')\n"
   ]
  },
  {
   "cell_type": "markdown",
   "metadata": {},
   "source": [
    "Вывод. Клиенты, использующие 0 продуктов, имеют самый высокий уровень оттока. График показывает, что отток увеличивается с ростом количества продуктов, но не в линейной зависимости."
   ]
  },
  {
   "cell_type": "code",
   "execution_count": 25,
   "metadata": {},
   "outputs": [
    {
     "data": {
      "text/html": [
       "<div>\n",
       "<style scoped>\n",
       "    .dataframe tbody tr th:only-of-type {\n",
       "        vertical-align: middle;\n",
       "    }\n",
       "\n",
       "    .dataframe tbody tr th {\n",
       "        vertical-align: top;\n",
       "    }\n",
       "\n",
       "    .dataframe thead th {\n",
       "        text-align: right;\n",
       "    }\n",
       "</style>\n",
       "<table border=\"1\" class=\"dataframe\">\n",
       "  <thead>\n",
       "    <tr style=\"text-align: right;\">\n",
       "      <th></th>\n",
       "      <th>userid</th>\n",
       "      <th>score</th>\n",
       "      <th>city</th>\n",
       "      <th>gender</th>\n",
       "      <th>age</th>\n",
       "      <th>equity</th>\n",
       "      <th>balance</th>\n",
       "      <th>products</th>\n",
       "      <th>credit_card</th>\n",
       "      <th>last_activity</th>\n",
       "      <th>est_salary</th>\n",
       "      <th>churn</th>\n",
       "      <th>balance_missing</th>\n",
       "      <th>age_missing</th>\n",
       "    </tr>\n",
       "  </thead>\n",
       "  <tbody>\n",
       "    <tr>\n",
       "      <th>401</th>\n",
       "      <td>187761</td>\n",
       "      <td>868.0</td>\n",
       "      <td>Ярославль</td>\n",
       "      <td>Ж</td>\n",
       "      <td>19.0</td>\n",
       "      <td>4</td>\n",
       "      <td>8126.88</td>\n",
       "      <td>5</td>\n",
       "      <td>1</td>\n",
       "      <td>1</td>\n",
       "      <td>85323.98</td>\n",
       "      <td>0</td>\n",
       "      <td>0</td>\n",
       "      <td>0</td>\n",
       "    </tr>\n",
       "    <tr>\n",
       "      <th>523</th>\n",
       "      <td>195914</td>\n",
       "      <td>852.0</td>\n",
       "      <td>Ярославль</td>\n",
       "      <td>Ж</td>\n",
       "      <td>39.0</td>\n",
       "      <td>5</td>\n",
       "      <td>1388255.70</td>\n",
       "      <td>5</td>\n",
       "      <td>1</td>\n",
       "      <td>1</td>\n",
       "      <td>135432.48</td>\n",
       "      <td>1</td>\n",
       "      <td>0</td>\n",
       "      <td>0</td>\n",
       "    </tr>\n",
       "    <tr>\n",
       "      <th>893</th>\n",
       "      <td>132781</td>\n",
       "      <td>820.0</td>\n",
       "      <td>Ярославль</td>\n",
       "      <td>М</td>\n",
       "      <td>37.0</td>\n",
       "      <td>5</td>\n",
       "      <td>259677.16</td>\n",
       "      <td>5</td>\n",
       "      <td>1</td>\n",
       "      <td>1</td>\n",
       "      <td>124261.01</td>\n",
       "      <td>0</td>\n",
       "      <td>0</td>\n",
       "      <td>0</td>\n",
       "    </tr>\n",
       "    <tr>\n",
       "      <th>1019</th>\n",
       "      <td>122402</td>\n",
       "      <td>833.0</td>\n",
       "      <td>Ростов</td>\n",
       "      <td>М</td>\n",
       "      <td>32.0</td>\n",
       "      <td>3</td>\n",
       "      <td>234560.94</td>\n",
       "      <td>5</td>\n",
       "      <td>1</td>\n",
       "      <td>1</td>\n",
       "      <td>106033.79</td>\n",
       "      <td>0</td>\n",
       "      <td>0</td>\n",
       "      <td>0</td>\n",
       "    </tr>\n",
       "    <tr>\n",
       "      <th>1346</th>\n",
       "      <td>159649</td>\n",
       "      <td>847.0</td>\n",
       "      <td>Ярославль</td>\n",
       "      <td>Ж</td>\n",
       "      <td>39.0</td>\n",
       "      <td>1</td>\n",
       "      <td>137974.02</td>\n",
       "      <td>5</td>\n",
       "      <td>1</td>\n",
       "      <td>1</td>\n",
       "      <td>219672.26</td>\n",
       "      <td>0</td>\n",
       "      <td>0</td>\n",
       "      <td>0</td>\n",
       "    </tr>\n",
       "    <tr>\n",
       "      <th>1479</th>\n",
       "      <td>209431</td>\n",
       "      <td>882.0</td>\n",
       "      <td>Рыбинск</td>\n",
       "      <td>М</td>\n",
       "      <td>42.0</td>\n",
       "      <td>4</td>\n",
       "      <td>1142013.06</td>\n",
       "      <td>5</td>\n",
       "      <td>1</td>\n",
       "      <td>0</td>\n",
       "      <td>101051.78</td>\n",
       "      <td>1</td>\n",
       "      <td>0</td>\n",
       "      <td>0</td>\n",
       "    </tr>\n",
       "    <tr>\n",
       "      <th>1880</th>\n",
       "      <td>134758</td>\n",
       "      <td>850.0</td>\n",
       "      <td>Ярославль</td>\n",
       "      <td>Ж</td>\n",
       "      <td>35.0</td>\n",
       "      <td>4</td>\n",
       "      <td>282262.33</td>\n",
       "      <td>5</td>\n",
       "      <td>1</td>\n",
       "      <td>1</td>\n",
       "      <td>105312.07</td>\n",
       "      <td>0</td>\n",
       "      <td>0</td>\n",
       "      <td>0</td>\n",
       "    </tr>\n",
       "    <tr>\n",
       "      <th>3274</th>\n",
       "      <td>155765</td>\n",
       "      <td>863.0</td>\n",
       "      <td>Ярославль</td>\n",
       "      <td>М</td>\n",
       "      <td>30.0</td>\n",
       "      <td>5</td>\n",
       "      <td>1036114.50</td>\n",
       "      <td>5</td>\n",
       "      <td>1</td>\n",
       "      <td>1</td>\n",
       "      <td>150744.50</td>\n",
       "      <td>1</td>\n",
       "      <td>0</td>\n",
       "      <td>0</td>\n",
       "    </tr>\n",
       "    <tr>\n",
       "      <th>3809</th>\n",
       "      <td>191408</td>\n",
       "      <td>838.0</td>\n",
       "      <td>Ростов</td>\n",
       "      <td>М</td>\n",
       "      <td>28.0</td>\n",
       "      <td>2</td>\n",
       "      <td>99461.51</td>\n",
       "      <td>5</td>\n",
       "      <td>1</td>\n",
       "      <td>1</td>\n",
       "      <td>88641.84</td>\n",
       "      <td>0</td>\n",
       "      <td>0</td>\n",
       "      <td>0</td>\n",
       "    </tr>\n",
       "    <tr>\n",
       "      <th>3884</th>\n",
       "      <td>138642</td>\n",
       "      <td>823.0</td>\n",
       "      <td>Ярославль</td>\n",
       "      <td>Ж</td>\n",
       "      <td>37.0</td>\n",
       "      <td>1</td>\n",
       "      <td>118329.87</td>\n",
       "      <td>5</td>\n",
       "      <td>1</td>\n",
       "      <td>1</td>\n",
       "      <td>105095.05</td>\n",
       "      <td>0</td>\n",
       "      <td>0</td>\n",
       "      <td>0</td>\n",
       "    </tr>\n",
       "    <tr>\n",
       "      <th>4141</th>\n",
       "      <td>122532</td>\n",
       "      <td>856.0</td>\n",
       "      <td>Ярославль</td>\n",
       "      <td>Ж</td>\n",
       "      <td>25.0</td>\n",
       "      <td>4</td>\n",
       "      <td>63271.41</td>\n",
       "      <td>5</td>\n",
       "      <td>1</td>\n",
       "      <td>1</td>\n",
       "      <td>127973.06</td>\n",
       "      <td>0</td>\n",
       "      <td>0</td>\n",
       "      <td>0</td>\n",
       "    </tr>\n",
       "    <tr>\n",
       "      <th>4183</th>\n",
       "      <td>162834</td>\n",
       "      <td>913.0</td>\n",
       "      <td>Ярославль</td>\n",
       "      <td>М</td>\n",
       "      <td>40.0</td>\n",
       "      <td>5</td>\n",
       "      <td>1392227.00</td>\n",
       "      <td>5</td>\n",
       "      <td>1</td>\n",
       "      <td>1</td>\n",
       "      <td>142818.22</td>\n",
       "      <td>1</td>\n",
       "      <td>0</td>\n",
       "      <td>0</td>\n",
       "    </tr>\n",
       "    <tr>\n",
       "      <th>4414</th>\n",
       "      <td>101899</td>\n",
       "      <td>928.0</td>\n",
       "      <td>Ярославль</td>\n",
       "      <td>Ж</td>\n",
       "      <td>38.0</td>\n",
       "      <td>4</td>\n",
       "      <td>1293525.90</td>\n",
       "      <td>5</td>\n",
       "      <td>1</td>\n",
       "      <td>1</td>\n",
       "      <td>162347.82</td>\n",
       "      <td>1</td>\n",
       "      <td>0</td>\n",
       "      <td>0</td>\n",
       "    </tr>\n",
       "    <tr>\n",
       "      <th>4983</th>\n",
       "      <td>150478</td>\n",
       "      <td>933.0</td>\n",
       "      <td>Ярославль</td>\n",
       "      <td>М</td>\n",
       "      <td>46.0</td>\n",
       "      <td>5</td>\n",
       "      <td>1501715.17</td>\n",
       "      <td>5</td>\n",
       "      <td>1</td>\n",
       "      <td>1</td>\n",
       "      <td>199664.86</td>\n",
       "      <td>1</td>\n",
       "      <td>0</td>\n",
       "      <td>0</td>\n",
       "    </tr>\n",
       "    <tr>\n",
       "      <th>5481</th>\n",
       "      <td>227803</td>\n",
       "      <td>836.0</td>\n",
       "      <td>Ростов</td>\n",
       "      <td>М</td>\n",
       "      <td>57.0</td>\n",
       "      <td>5</td>\n",
       "      <td>326808.60</td>\n",
       "      <td>5</td>\n",
       "      <td>1</td>\n",
       "      <td>1</td>\n",
       "      <td>58680.09</td>\n",
       "      <td>0</td>\n",
       "      <td>0</td>\n",
       "      <td>0</td>\n",
       "    </tr>\n",
       "    <tr>\n",
       "      <th>6932</th>\n",
       "      <td>127985</td>\n",
       "      <td>851.0</td>\n",
       "      <td>Ярославль</td>\n",
       "      <td>Ж</td>\n",
       "      <td>33.0</td>\n",
       "      <td>3</td>\n",
       "      <td>1070245.47</td>\n",
       "      <td>5</td>\n",
       "      <td>1</td>\n",
       "      <td>0</td>\n",
       "      <td>81659.07</td>\n",
       "      <td>1</td>\n",
       "      <td>0</td>\n",
       "      <td>0</td>\n",
       "    </tr>\n",
       "    <tr>\n",
       "      <th>7545</th>\n",
       "      <td>226524</td>\n",
       "      <td>893.0</td>\n",
       "      <td>Ярославль</td>\n",
       "      <td>М</td>\n",
       "      <td>29.0</td>\n",
       "      <td>5</td>\n",
       "      <td>867727.78</td>\n",
       "      <td>5</td>\n",
       "      <td>1</td>\n",
       "      <td>1</td>\n",
       "      <td>144983.66</td>\n",
       "      <td>1</td>\n",
       "      <td>0</td>\n",
       "      <td>0</td>\n",
       "    </tr>\n",
       "    <tr>\n",
       "      <th>8417</th>\n",
       "      <td>191301</td>\n",
       "      <td>823.0</td>\n",
       "      <td>Ростов</td>\n",
       "      <td>Ж</td>\n",
       "      <td>54.0</td>\n",
       "      <td>2</td>\n",
       "      <td>185304.76</td>\n",
       "      <td>5</td>\n",
       "      <td>1</td>\n",
       "      <td>1</td>\n",
       "      <td>29397.71</td>\n",
       "      <td>0</td>\n",
       "      <td>0</td>\n",
       "      <td>0</td>\n",
       "    </tr>\n",
       "    <tr>\n",
       "      <th>8430</th>\n",
       "      <td>157429</td>\n",
       "      <td>817.0</td>\n",
       "      <td>Ярославль</td>\n",
       "      <td>М</td>\n",
       "      <td>33.0</td>\n",
       "      <td>3</td>\n",
       "      <td>201143.98</td>\n",
       "      <td>5</td>\n",
       "      <td>1</td>\n",
       "      <td>1</td>\n",
       "      <td>47295.72</td>\n",
       "      <td>0</td>\n",
       "      <td>0</td>\n",
       "      <td>0</td>\n",
       "    </tr>\n",
       "    <tr>\n",
       "      <th>8957</th>\n",
       "      <td>147837</td>\n",
       "      <td>962.0</td>\n",
       "      <td>Рыбинск</td>\n",
       "      <td>Ж</td>\n",
       "      <td>79.0</td>\n",
       "      <td>3</td>\n",
       "      <td>NaN</td>\n",
       "      <td>0</td>\n",
       "      <td>0</td>\n",
       "      <td>0</td>\n",
       "      <td>25063.96</td>\n",
       "      <td>1</td>\n",
       "      <td>1</td>\n",
       "      <td>0</td>\n",
       "    </tr>\n",
       "  </tbody>\n",
       "</table>\n",
       "</div>"
      ],
      "text/plain": [
       "      userid  score       city gender   age  equity     balance  products  \\\n",
       "401   187761  868.0  Ярославль      Ж  19.0       4     8126.88         5   \n",
       "523   195914  852.0  Ярославль      Ж  39.0       5  1388255.70         5   \n",
       "893   132781  820.0  Ярославль      М  37.0       5   259677.16         5   \n",
       "1019  122402  833.0     Ростов      М  32.0       3   234560.94         5   \n",
       "1346  159649  847.0  Ярославль      Ж  39.0       1   137974.02         5   \n",
       "1479  209431  882.0    Рыбинск      М  42.0       4  1142013.06         5   \n",
       "1880  134758  850.0  Ярославль      Ж  35.0       4   282262.33         5   \n",
       "3274  155765  863.0  Ярославль      М  30.0       5  1036114.50         5   \n",
       "3809  191408  838.0     Ростов      М  28.0       2    99461.51         5   \n",
       "3884  138642  823.0  Ярославль      Ж  37.0       1   118329.87         5   \n",
       "4141  122532  856.0  Ярославль      Ж  25.0       4    63271.41         5   \n",
       "4183  162834  913.0  Ярославль      М  40.0       5  1392227.00         5   \n",
       "4414  101899  928.0  Ярославль      Ж  38.0       4  1293525.90         5   \n",
       "4983  150478  933.0  Ярославль      М  46.0       5  1501715.17         5   \n",
       "5481  227803  836.0     Ростов      М  57.0       5   326808.60         5   \n",
       "6932  127985  851.0  Ярославль      Ж  33.0       3  1070245.47         5   \n",
       "7545  226524  893.0  Ярославль      М  29.0       5   867727.78         5   \n",
       "8417  191301  823.0     Ростов      Ж  54.0       2   185304.76         5   \n",
       "8430  157429  817.0  Ярославль      М  33.0       3   201143.98         5   \n",
       "8957  147837  962.0    Рыбинск      Ж  79.0       3         NaN         0   \n",
       "\n",
       "      credit_card  last_activity  est_salary  churn  balance_missing  \\\n",
       "401             1              1    85323.98      0                0   \n",
       "523             1              1   135432.48      1                0   \n",
       "893             1              1   124261.01      0                0   \n",
       "1019            1              1   106033.79      0                0   \n",
       "1346            1              1   219672.26      0                0   \n",
       "1479            1              0   101051.78      1                0   \n",
       "1880            1              1   105312.07      0                0   \n",
       "3274            1              1   150744.50      1                0   \n",
       "3809            1              1    88641.84      0                0   \n",
       "3884            1              1   105095.05      0                0   \n",
       "4141            1              1   127973.06      0                0   \n",
       "4183            1              1   142818.22      1                0   \n",
       "4414            1              1   162347.82      1                0   \n",
       "4983            1              1   199664.86      1                0   \n",
       "5481            1              1    58680.09      0                0   \n",
       "6932            1              0    81659.07      1                0   \n",
       "7545            1              1   144983.66      1                0   \n",
       "8417            1              1    29397.71      0                0   \n",
       "8430            1              1    47295.72      0                0   \n",
       "8957            0              0    25063.96      1                1   \n",
       "\n",
       "      age_missing  \n",
       "401             0  \n",
       "523             0  \n",
       "893             0  \n",
       "1019            0  \n",
       "1346            0  \n",
       "1479            0  \n",
       "1880            0  \n",
       "3274            0  \n",
       "3809            0  \n",
       "3884            0  \n",
       "4141            0  \n",
       "4183            0  \n",
       "4414            0  \n",
       "4983            0  \n",
       "5481            0  \n",
       "6932            0  \n",
       "7545            0  \n",
       "8417            0  \n",
       "8430            0  \n",
       "8957            0  "
      ]
     },
     "metadata": {},
     "output_type": "display_data"
    }
   ],
   "source": [
    "data_filter = data[data['products'].isin([0,5])]\n",
    "display(data_filter)\n"
   ]
  },
  {
   "cell_type": "markdown",
   "metadata": {},
   "source": [
    "Вывод. С нулевым количеством продуктов всего один человек . Для анализа и наглядности  удаляем."
   ]
  },
  {
   "cell_type": "code",
   "execution_count": 26,
   "metadata": {},
   "outputs": [
    {
     "data": {
      "image/png": "[encoded data removed]",
      "text/plain": [
       "<Figure size 720x432 with 1 Axes>"
      ]
     },
     "metadata": {
      "needs_background": "light"
     },
     "output_type": "display_data"
    }
   ],
   "source": [
    "data = data[~data['products'].isin([0])]\n",
    "plot_churn_by_(data, 'products', 'churn', 'Уровень оттока по количеству продуктов ', 'Количество продуктов')"
   ]
  },
  {
   "cell_type": "markdown",
   "metadata": {},
   "source": [
    "Вывод. Отток наблюдается при количестве продуктов больше 2."
   ]
  },
  {
   "cell_type": "markdown",
   "metadata": {},
   "source": [
    "### Анализ корреляции по всем признакам"
   ]
  },
  {
   "cell_type": "markdown",
   "metadata": {},
   "source": [
    "#### Анализ корреляции с помощью библиотеки phik"
   ]
  },
  {
   "cell_type": "code",
   "execution_count": 27,
   "metadata": {},
   "outputs": [],
   "source": [
    "# необходимые столбцы присутствуют в датафрейме\n",
    "required_columns = ['score', 'city', 'gender', 'age', 'equity', 'balance', 'products', 'credit_card', 'last_activity', 'est_salary', 'churn']\n",
    "data_reg = data_without_passes[required_columns]\n",
    "\n",
    "# Настройка параметра interval_cols\n",
    "interval_cols = ['score', 'age', 'balance', 'est_salary']"
   ]
  },
  {
   "cell_type": "code",
   "execution_count": 28,
   "metadata": {},
   "outputs": [
    {
     "data": {
      "text/plain": [
       "'Корреляция признаков с оттоком (churn)'"
      ]
     },
     "metadata": {},
     "output_type": "display_data"
    },
    {
     "data": {
      "text/plain": [
       "churn            1.000000\n",
       "last_activity    0.324289\n",
       "score            0.311203\n",
       "gender           0.284315\n",
       "age              0.224527\n",
       "products         0.208960\n",
       "equity           0.189870\n",
       "est_salary       0.167262\n",
       "credit_card      0.162511\n",
       "city             0.026332\n",
       "balance          0.024672\n",
       "Name: churn, dtype: float64"
      ]
     },
     "metadata": {},
     "output_type": "display_data"
    }
   ],
   "source": [
    "# Вычисление матрицы корреляции с использованием phik\n",
    "correlation_matrix = data_reg.phik_matrix(interval_cols=interval_cols)\n",
    "\n",
    "# Получение корреляции с признаком 'churn'\n",
    "churn_correlation = correlation_matrix['churn']\n",
    "\n",
    "# Вывод результатов\n",
    "display(\"Корреляция признаков с оттоком (churn)\")\n",
    "display(churn_correlation.sort_values(ascending=False))"
   ]
  },
  {
   "cell_type": "markdown",
   "metadata": {},
   "source": [
    "Вывод.\n",
    "Корреляция — это статистический показатель, который показывает, насколько сильно две переменные связаны друг с другом. В данном случае вы привели корреляцию различных признаков с оттоком (churn). \n",
    "\n",
    "Краткий комментарий по шкале корреляции:\n",
    "\n",
    "1. Корреляция 1.0 (чудесно): Полная положительная корреляция. Это означает, что при увеличении одной переменной другая также будет увеличиваться.\n",
    "\n",
    "2. Корреляция от 0.5 до 0.9 (сильно): Сильная положительная корреляция. Это говорит о том, что переменные имеют значительное влияние друг на друга.\n",
    "\n",
    "3. Корреляция от 0.3 до 0.5 (умеренно): Умеренная положительная корреляция. Связь существует, но она не так сильна.\n",
    "\n",
    "4. Корреляция от 0.1 до 0.3 (слабо): Слабая положительная корреляция. Связь между переменными минимальна.\n",
    "\n",
    "5. Корреляция 0 (отсутствие связи): Нет корреляции между переменными.\n",
    "\n",
    "6. Отрицательная корреляция: Если значение корреляции отрицательное, то это говорит о том, что при увеличении одной переменной другая уменьшается.\n",
    "\n",
    "По полученным данным:\n",
    "- last_activity (0.324289): Умеренная положительная корреляция с оттоком. Это может указывать на то, что активные пользователи имеют меньшую вероятность оттока.\n",
    "- score (0.311203): Также умеренная положительная корреляция, что может означать, что более высокие оценки связаны с меньшим оттоком.\n",
    "- gender (0.284315) и age (0.224527): Слабо положительная корреляция. Пол и возраст имеют незначительное влияние на отток.\n",
    "- products (0.208960) и equity (0.189870): Слабая положительная корреляция, что может указывать на незначительное влияние количества продуктов и капитала на отток.\n",
    "- est_salary (0.167262) и credit_card (0.162511): Слабая положительная корреляция, что говорит о незначительном влиянии зарплаты и наличия кредитной карты на отток.\n",
    "- city (0.026332) и balance (0.024672): Практически отсутствует корреляция, что указывает на то, что эти факторы не влияют на отток.\n",
    "\n",
    "Таким образом, наиболее значимые факторы, влияющие на отток, — это последние действия и оценка, тогда как другие факторы имеют гораздо меньшую значимость."
   ]
  },
  {
   "cell_type": "markdown",
   "metadata": {},
   "source": [
    "#### Анализ корреляции тепловой картой"
   ]
  },
  {
   "cell_type": "code",
   "execution_count": 29,
   "metadata": {},
   "outputs": [
    {
     "data": {
      "image/png": "[encoded data removed]",
      "text/plain": [
       "<Figure size 720x576 with 2 Axes>"
      ]
     },
     "metadata": {
      "needs_background": "light"
     },
     "output_type": "display_data"
    }
   ],
   "source": [
    "# Рассчитываем корреляцию\n",
    "correlation_matrix = data_without_id.corr()\n",
    "\n",
    "# Настраиваем график\n",
    "plt.figure(figsize=(10, 8))\n",
    "sns.heatmap(correlation_matrix, cmap='coolwarm', center=0, annot=True, fmt='.2f', square=True, cbar_kws={\"shrink\": .8})\n",
    "\n",
    "# Добавляем заголовок\n",
    "plt.title('Матрица корреляций')\n",
    "plt.show()"
   ]
  },
  {
   "cell_type": "markdown",
   "metadata": {},
   "source": [
    "На основе матрицы корреляций можно сделать следующие выводы о зависимостях между переменными:\n",
    "\n",
    "1. Корреляция с балансом:\n",
    "   - Возраст (age) и баланс (balance) имеют положительную корреляцию (0.24), что может указывать на то, что с увеличением возраста увеличивается и баланс.\n",
    "   - Число продуктов (products) и баланс также имеют положительную корреляцию (0.43), что может свидетельствовать о том, что клиенты с большим количеством продуктов имеют более высокий баланс.\n",
    "\n",
    "2. Кредитные карты:\n",
    "   - Кредитные карты (credit_card) имеют отрицательную корреляцию с балансом (-0.25), что может означать, что клиенты с кредитными картами имеют меньший баланс.\n",
    "\n",
    "3. Активность:\n",
    "   - Последняя активность (last_activity) имеет положительную корреляцию с балансом (0.08), что может указывать на то, что более активные клиенты имеют более высокий баланс.\n",
    "\n",
    "4. Заработная плата:\n",
    "   - Оценка зарплаты (est_salary) имеет положительную корреляцию с балансом (0.34), что логично, так как более высокая зарплата может способствовать большему балансу.\n",
    "\n",
    "5. Проблемы с балансом:\n",
    "   - Недостаток информации о балансе (balance_missing) имеет сильную отрицательную корреляцию с балансом (-0.71), что указывает на то, что отсутствие данных о балансе связано с низкими значениями самого баланса.\n",
    "\n",
    "6. Число продуктов и отток:\n",
    "   - Число продуктов (products) и отток клиентов (churn) имеют отрицательную корреляцию (-0.25), что может означать, что клиенты с большим количеством продуктов менее склонны к оттоку.\n",
    "\n",
    "Эти зависимости могут помочь в дальнейшем анализе поведения клиентов и в разработке стратегий для повышения удержания клиентов и увеличения их баланса."
   ]
  },
  {
   "cell_type": "markdown",
   "metadata": {},
   "source": [
    "### Портрет клиента."
   ]
  },
  {
   "cell_type": "code",
   "execution_count": 30,
   "metadata": {
    "scrolled": true
   },
   "outputs": [
    {
     "data": {
      "text/html": [
       "<div>\n",
       "<style scoped>\n",
       "    .dataframe tbody tr th:only-of-type {\n",
       "        vertical-align: middle;\n",
       "    }\n",
       "\n",
       "    .dataframe tbody tr th {\n",
       "        vertical-align: top;\n",
       "    }\n",
       "\n",
       "    .dataframe thead th {\n",
       "        text-align: right;\n",
       "    }\n",
       "</style>\n",
       "<table border=\"1\" class=\"dataframe\">\n",
       "  <thead>\n",
       "    <tr style=\"text-align: right;\">\n",
       "      <th></th>\n",
       "      <th>Отток</th>\n",
       "      <th>Не отток</th>\n",
       "      <th>Разница (%)</th>\n",
       "    </tr>\n",
       "  </thead>\n",
       "  <tbody>\n",
       "    <tr>\n",
       "      <th>Средняя зарплата</th>\n",
       "      <td>147087.28</td>\n",
       "      <td>117599.73</td>\n",
       "      <td>25.07</td>\n",
       "    </tr>\n",
       "    <tr>\n",
       "      <th>Средний возраст</th>\n",
       "      <td>41.4</td>\n",
       "      <td>43.39</td>\n",
       "      <td>-4.58</td>\n",
       "    </tr>\n",
       "    <tr>\n",
       "      <th>Средний баланс</th>\n",
       "      <td>1134458.21</td>\n",
       "      <td>733031.63</td>\n",
       "      <td>54.76</td>\n",
       "    </tr>\n",
       "    <tr>\n",
       "      <th>Медианное количество продуктов</th>\n",
       "      <td>2.0</td>\n",
       "      <td>2.0</td>\n",
       "      <td>категор. зн.</td>\n",
       "    </tr>\n",
       "    <tr>\n",
       "      <th>Медианное количество собственности</th>\n",
       "      <td>4.0</td>\n",
       "      <td>3.0</td>\n",
       "      <td>категор. зн.</td>\n",
       "    </tr>\n",
       "    <tr>\n",
       "      <th>Мода по городу</th>\n",
       "      <td>Ярославль</td>\n",
       "      <td>Ярославль</td>\n",
       "      <td>категор. зн.</td>\n",
       "    </tr>\n",
       "    <tr>\n",
       "      <th>Мода по полу</th>\n",
       "      <td>М</td>\n",
       "      <td>Ж</td>\n",
       "      <td>категор. зн.</td>\n",
       "    </tr>\n",
       "    <tr>\n",
       "      <th>Мода по наличию кредитной карты</th>\n",
       "      <td>1</td>\n",
       "      <td>1</td>\n",
       "      <td>категор. зн.</td>\n",
       "    </tr>\n",
       "    <tr>\n",
       "      <th>Мода по активности</th>\n",
       "      <td>1</td>\n",
       "      <td>0</td>\n",
       "      <td>категор. зн.</td>\n",
       "    </tr>\n",
       "  </tbody>\n",
       "</table>\n",
       "</div>"
      ],
      "text/plain": [
       "                                         Отток   Не отток   Разница (%)\n",
       "Средняя зарплата                     147087.28  117599.73         25.07\n",
       "Средний возраст                           41.4      43.39         -4.58\n",
       "Средний баланс                      1134458.21  733031.63         54.76\n",
       "Медианное количество продуктов             2.0        2.0  категор. зн.\n",
       "Медианное количество собственности         4.0        3.0  категор. зн.\n",
       "Мода по городу                       Ярославль  Ярославль  категор. зн.\n",
       "Мода по полу                                 М          Ж  категор. зн.\n",
       "Мода по наличию кредитной карты              1          1  категор. зн.\n",
       "Мода по активности                           1          0  категор. зн."
      ]
     },
     "metadata": {},
     "output_type": "display_data"
    }
   ],
   "source": [
    "# Разделение данных на отток и не отток\n",
    "churned = data_without_passes[data_without_passes['churn'] == 1]\n",
    "not_churned =data_without_passes[data_without_passes['churn'] == 0]\n",
    "\n",
    "\n",
    "# Расчет центральных мер\n",
    "results = {\n",
    "    'Средняя зарплата': [\n",
    "        churned['est_salary'].mean().round(2),\n",
    "        not_churned['est_salary'].mean().round(2),\n",
    "        ((churned['est_salary'].mean() - not_churned['est_salary'].mean()) / not_churned['est_salary'].mean() * 100).round(2)\n",
    "    ],\n",
    "    'Средний возраст': [\n",
    "        churned['age'].mean().round(2),\n",
    "        not_churned['age'].mean().round(2),\n",
    "        ((churned['age'].mean() - not_churned['age'].mean()) / not_churned['age'].mean() * 100).round(2)  # Добавлены скобки\n",
    "    ],\n",
    "    'Средний баланс': [\n",
    "        churned['balance'].mean().round(2),\n",
    "        not_churned['balance'].mean().round(2),\n",
    "        ((churned['balance'].mean() - not_churned['balance'].mean()) / not_churned['balance'].mean() * 100).round(2)  # Добавлены скобки\n",
    "    ],\n",
    "    'Медианное количество продуктов': [\n",
    "        churned['products'].median(),\n",
    "        not_churned['products'].median()\n",
    "    ],\n",
    "    'Медианное количество собственности': [\n",
    "        churned['equity'].median(),\n",
    "        not_churned['equity'].median()\n",
    "    ],\n",
    "    'Мода по городу': [\n",
    "        churned['city'].mode()[0],\n",
    "        not_churned['city'].mode()[0]\n",
    "    ],\n",
    "    'Мода по полу': [\n",
    "        churned['gender'].mode()[0],\n",
    "        not_churned['gender'].mode()[0]\n",
    "    ],\n",
    "    'Мода по наличию кредитной карты': [\n",
    "        churned['credit_card'].mode()[0], \n",
    "        not_churned['credit_card'].mode()[0]\n",
    "    ],\n",
    "    'Мода по активности': [\n",
    "        churned['last_activity'].mode()[0],\n",
    "        not_churned['last_activity'].mode()[0]\n",
    "    ]\n",
    "}\n",
    "\n",
    "results_df = pd.DataFrame.from_dict(results, orient='index', columns=['Отток', 'Не отток', 'Разница (%)'])\n",
    "results_df.fillna('категор. зн.', inplace=True)\n",
    "\n",
    "\n",
    "# Вывод результата\n",
    "display(results_df)"
   ]
  },
  {
   "cell_type": "markdown",
   "metadata": {},
   "source": [
    "На основе представленных данных о клиенте можно составить следующий портрет:\n",
    "\n",
    " 1. Демографические характеристики:\n",
    "- Возраст:\n",
    "  - Средний возраст клиентов с оттоком (churn = 1): 41.40 лет.\n",
    "  - Средний возраст клиентов без оттока (churn = 0): 43.39 лет.\n",
    "- Пол:\n",
    "  - Мода по полу для клиентов с оттоком: Мужчины.\n",
    "  - Мода по полу для клиентов без оттока: Женщины.\n",
    "\n",
    " 2. Финансовые характеристики:\n",
    "- Зарплата:\n",
    "  - Средняя зарплата клиентов с оттоком: 147087.28.\n",
    "  - Средняя зарплата клиентов без оттока: 117599.73.\n",
    "- Количество продуктов:\n",
    "  - Медианное количество продуктов у клиентов с оттоком: 2.\n",
    "  - Медианное количество продуктов у клиентов без оттока: 2.\n",
    "\n",
    " 3. Состояние собственности:\n",
    "- Количество собственности:\n",
    "  - Медианное количество собственности у клиентов с оттоком: 4.\n",
    "  - Медианное количество собственности у клиентов без оттока: 3.\n",
    "\n",
    " 4. Географические характеристики:\n",
    "- Город: \n",
    "  - Мода по городу для обеих групп: Ярославль.\n",
    "\n",
    "5. Поведение клиентов:\n",
    "- Относительная разница:\n",
    "  - Относительная разница в зарплате между группами: 0.25 (клиенты с оттоком имеют более высокую зарплату).\n",
    "  - Относительная разница в возрасте: 0.045 (разница в возрасте между группами незначительна).\n",
    "\n",
    " Выводы о портрете клиента:\n",
    "- Клиенты с оттоком (churn = 1) имеют более высокий уровень зарплаты и чуть меньший средний возраст по сравнению с клиентами без оттока.\n",
    "- Они также имеют большее количество собственности, что может указывать на их финансовую стабильность.\n",
    "- Оба сегмента клиентов сосредоточены в одном городе (Ярославль), что может быть полезно для целевых маркетинговых стратегий.\n",
    "- Преобладание мужчин среди клиентов с оттоком может указывать на необходимость дополнительных исследований для понимания причин оттока.\n",
    "\n",
    "Этот портрет клиента может помочь в разработке стратегий удержания, а также в оптимизации продуктов и услуг, предлагаемых банком."
   ]
  },
  {
   "cell_type": "markdown",
   "metadata": {},
   "source": [
    "## Проверка статистических гипотез.\n",
    "\n",
    "### Проверка первой гипотезы . H0:средние значения заработной платы между группами клиентов, которые ушли и которые остались равны. H1: :средние значения заработной платы между группами клиентов, которые ушли и которые остались не равны."
   ]
  },
  {
   "cell_type": "code",
   "execution_count": 31,
   "metadata": {},
   "outputs": [
    {
     "data": {
      "image/png": "[encoded data removed]",
      "text/plain": [
       "<Figure size 1080x720 with 6 Axes>"
      ]
     },
     "metadata": {
      "needs_background": "light"
     },
     "output_type": "display_data"
    }
   ],
   "source": [
    "# Визуализация выбросов с помощью boxplot\n",
    "plt.figure(figsize=(15, 10))\n",
    "\n",
    "# Перебираем числовые столбцы для построения boxplot\n",
    "numerical_columns = ['score', 'age', 'equity', 'balance', 'products', 'est_salary']\n",
    "\n",
    "for i, column in enumerate(numerical_columns):\n",
    "    plt.subplot(3, 2, i + 1)\n",
    "    sns.boxplot(x=data[column])\n",
    "    plt.title(f'Boxplot для {column}')\n",
    "\n",
    "plt.tight_layout()\n",
    "plt.show()\n",
    "\n"
   ]
  },
  {
   "cell_type": "markdown",
   "metadata": {},
   "source": [
    "'Для score:'\n",
    "'  Верхняя граница: 1050'\n",
    "'Для age:\n",
    "'  Верхняя граница: 78'\n",
    "'Для equity:'\n",
    "'  Верхняя граница: 10'\n",
    "'Для balance:\n",
    "'  Верхняя граница: 2090000'\n",
    "'Для products:'\n",
    "'  Верхняя граница: 3.5'\n",
    "'Для est_salary:'\n",
    "'  Верхняя граница: 324000'"
   ]
  },
  {
   "cell_type": "code",
   "execution_count": 32,
   "metadata": {},
   "outputs": [],
   "source": [
    "# Ограничение значений\n",
    "data['score'] = data['score'].clip(upper=1050)\n",
    "data['age'] = data['age'].clip(upper=78)\n",
    "data['equity'] = data['equity'].clip(upper=10)\n",
    "data['balance'] = data['balance'].clip(upper=2090000)\n",
    "data['products'] = data['products'].clip(upper=3.5)\n",
    "data['est_salary'] = data['est_salary'].clip(upper=324000)"
   ]
  },
  {
   "cell_type": "markdown",
   "metadata": {},
   "source": [
    "### Проверка теста Шапиро. \n",
    "\n",
    "### Гиротеза для группы ушедших:\n",
    "- H0: Распределение зарплат ушедших клиентов нормально.\n",
    "- H1: Распределение зарплат ушедших клиентов ненормально.  \n",
    "\n",
    "### Гипотеза для группы оставшихся:\n",
    "- H0: Распределение зарплат оставшихся клиентов нормально.\n",
    "- H1: Распределение зарплат оставшихся клиентов ненормально."
   ]
  },
  {
   "cell_type": "code",
   "execution_count": 33,
   "metadata": {},
   "outputs": [
    {
     "name": "stderr",
     "output_type": "stream",
     "text": [
      "/opt/conda/lib/python3.9/site-packages/scipy/stats/_morestats.py:1800: UserWarning: p-value may not be accurate for N > 5000.\n",
      "  warnings.warn(\"p-value may not be accurate for N > 5000.\")\n"
     ]
    },
    {
     "data": {
      "text/plain": [
       "'Shapiro-Wilk для ушедших: W=0.9434460997581482, p=8.068513095728845e-26'"
      ]
     },
     "metadata": {},
     "output_type": "display_data"
    },
    {
     "data": {
      "text/plain": [
       "'Shapiro-Wilk для оставшихся: W=0.9346568584442139, p=0.0'"
      ]
     },
     "metadata": {},
     "output_type": "display_data"
    },
    {
     "data": {
      "text/plain": [
       "'Количество ушедших: 1818'"
      ]
     },
     "metadata": {},
     "output_type": "display_data"
    },
    {
     "data": {
      "text/plain": [
       "'Количество оставшихся: 8155'"
      ]
     },
     "metadata": {},
     "output_type": "display_data"
    }
   ],
   "source": [
    "#Разделяем данные на группы\n",
    "group_churned = data[data['churn'] == 1]['est_salary']\n",
    "group_stayed = data[data['churn'] == 0]['est_salary']\n",
    "\n",
    "# Проверка нормальности\n",
    "shapiro_churned = stats.shapiro(group_churned)\n",
    "shapiro_stayed = stats.shapiro(group_stayed)\n",
    "\n",
    "display(f\"Shapiro-Wilk для ушедших: W={shapiro_churned.statistic}, p={shapiro_churned.pvalue}\")\n",
    "display(f\"Shapiro-Wilk для оставшихся: W={shapiro_stayed.statistic}, p={shapiro_stayed.pvalue}\")\n",
    "\n",
    "# Определяем количество записей в каждой группе\n",
    "count_churned = group_churned.count()  \n",
    "count_stayed = group_stayed.count()    \n",
    "\n",
    "display(f\"Количество ушедших: {count_churned}\")\n",
    "display(f\"Количество оставшихся: {count_stayed}\")"
   ]
  },
  {
   "cell_type": "markdown",
   "metadata": {},
   "source": [
    "Вывод. Оба набора не имеют нормального распределения количество больше 30."
   ]
  },
  {
   "cell_type": "code",
   "execution_count": 34,
   "metadata": {},
   "outputs": [
    {
     "data": {
      "image/png": "[encoded data removed]",
      "text/plain": [
       "<Figure size 864x432 with 2 Axes>"
      ]
     },
     "metadata": {
      "needs_background": "light"
     },
     "output_type": "display_data"
    }
   ],
   "source": [
    "# Визуализация\n",
    "plt.figure(figsize=(12, 6))\n",
    "plt.subplot(1, 2, 1)\n",
    "sns.histplot(group_churned, kde=True)\n",
    "plt.title('Гистограмма заработной платы ушедших клиентов')\n",
    "\n",
    "plt.subplot(1, 2, 2)\n",
    "sns.histplot(group_stayed, kde=True)\n",
    "plt.title('Гистограмма заработной платы оставшихся клиентов')\n",
    "plt.show()\n",
    "\n"
   ]
  },
  {
   "cell_type": "code",
   "execution_count": 35,
   "metadata": {},
   "outputs": [
    {
     "data": {
      "text/plain": [
       "'T-статистика: 2.6864236620449673, P-значение: 0.007264892663807915'"
      ]
     },
     "metadata": {},
     "output_type": "display_data"
    }
   ],
   "source": [
    "# Применение t-теста\n",
    "\n",
    "    \n",
    "t_statistic, p_value = stats.ttest_ind(group_churned, group_stayed, equal_var=False)\n",
    "\n",
    "display(f\"T-статистика: {t_statistic}, P-значение: {p_value}\")"
   ]
  },
  {
   "cell_type": "markdown",
   "metadata": {},
   "source": [
    " Нормальность распределения и ЦПТ\n",
    "\n",
    "1. Центральная предельная теорема (ЦПТ):\n",
    "   - ЦПТ утверждает, что при достаточном количестве выборок (обычно n > 30), распределение выборочного среднего будет стремиться к нормальному распределению, независимо от формы исходного распределения. Это означает, что даже если  данные не нормально распределены, средние значения больших выборок будут нормально распределены.\n",
    "\n",
    "2. Применение t-теста:\n",
    "   - t-тест используется для сравнения средних значений двух групп. Но он предполагает, что данные в каждой группе нормально распределены. Если размер выборки мал (n < 30), это предположение становится более критичным.\n",
    "\n",
    "Поправка Уэлча\n",
    "\n",
    "2. Поправка Уэлча:\n",
    "   - Поправка Уэлча используется в t-тесте, когда дисперсии двух групп не равны (equal_var=False). Этот метод корректирует степень свободы для более точного результата, что делает его более надежным в случае неравенства дисперсий.\n",
    "\n",
    " Вывод\n",
    "\n",
    "- Если у нас небольшие выборки и данные не нормально распределены, мы можем столкнуться с проблемами при использовании t-теста. Однако, если наши выборки достаточно большие, мы можем применить t-тест, полагаясь на ЦПТ.\n",
    "- Если дисперсии различаются, используем t-тест с поправкой Уэлча, чтобы получить более точные результаты.\n",
    "\n"
   ]
  },
  {
   "cell_type": "markdown",
   "metadata": {},
   "source": [
    "Вывод:\n",
    "- p-value: 0.008123451181070504: Это p-значение, которое значительно меньше 0.05.\n",
    "\n",
    " Интерпретация:\n",
    "\n",
    "1. Статистическая значимость: Поскольку p-значение (0.00937) меньше 0.05, мы можем отвергнуть нулевую гипотезу. Это означает, что есть статистически значимые различия в заработной плате между ушедшими и оставшимися клиентами.\n",
    "\n",
    "2. Практическое значение: Это говорит о том, что заработная плата в одной из групп (либо ушедших, либо оставшихся клиентов) существенно отличается от заработной платы в другой группе.\n",
    "\n",
    "Таким образом, результаты теста указывают на то, что существует значительная разница в заработной плате между двумя группами клиентов."
   ]
  },
  {
   "cell_type": "markdown",
   "metadata": {},
   "source": [
    "### 3.1. Проверка второй гипотезы : \n",
    "- H0: Нет статистически значимого различия между уровнем оттока и количеством продуктов банка.\n",
    "- H1: Есть статистически значимое различие между уровнем оттока и количеством продуктов банка."
   ]
  },
  {
   "cell_type": "code",
   "execution_count": 36,
   "metadata": {},
   "outputs": [
    {
     "data": {
      "text/plain": [
       "'Chi-squared: 1002.693672810977, p-value: 4.6858902202994495e-217'"
      ]
     },
     "metadata": {},
     "output_type": "display_data"
    }
   ],
   "source": [
    "# Создание таблицы сопряженности\n",
    "contingency_table = pd.crosstab(data['products'], data['churn'])\n",
    "\n",
    "# Применение теста хи- \n",
    "chi2, p, dof, expected = chi2_contingency(contingency_table)\n",
    "\n",
    "# Вывод результатов\n",
    "display(f'Chi-squared: {chi2}, p-value: {p}')"
   ]
  },
  {
   "cell_type": "markdown",
   "metadata": {},
   "source": [
    "Вывод. Результаты теста хи-квадрат показывают:\n",
    "\n",
    "- Chi-squared: 1016.99: Это значение статистики хи-квадрат. Оно указывает на степень отклонения наблюдаемых значений от ожидаемых, если бы нулевая гипотеза была верна.\n",
    "\n",
    "- p-value: 1.259151427277774e-217: Это p-значение, которое значительно меньше 0.05.\n",
    "\n",
    "1. Статистическая значимость: Поскольку p-значение намного меньше 0.05, отвергаем нулевую гипотезу (H_0), которая гласит, что количество продуктов не влияет на отток клиентов.\n",
    "\n",
    "2. Заключение: Это означает, что существует сильная статистически значимая связь между количеством продуктов и оттоком клиентов. То есть, количество продуктов влияет на вероятность того, что клиент уйдет.\n",
    "\n",
    "Таким образом, результаты теста подтверждаютальтернативную гипотезу (H_1): количество продуктов действительно влияет на отток клиентов."
   ]
  },
  {
   "cell_type": "markdown",
   "metadata": {},
   "source": [
    "## 4. Подведение промежуточных итогов \n",
    "- выводы по результатам EDA, корреляционного анализа и гипотез, выделение признаков, влияющих на оттток. Явное указание признаков и их значений, которые использовали для сегментации."
   ]
  },
  {
   "cell_type": "markdown",
   "metadata": {},
   "source": [
    "Отток клиентов наблюдается на участке, где заработная плата больше 100 тыс. руб.\n",
    "У клиентов с большим балансом на счету, отток выше.\n",
    "У мужчин отток выше среднего уровня.\n",
    "У клиентов без кредитной карты отток выше среднего уровня.\n",
    "Больший отток в Ярославле.\n",
    "По полученным данным:\n",
    "- last_activity (0.324289): Умеренная положительная корреляция с оттоком. Это может указывать на то, что активные пользователи имеют меньшую вероятность оттока.\n",
    "- score (0.311203): Также умеренная положительная корреляция, что может означать, что более высокие оценки связаны с меньшим оттоком.\n",
    "- gender (0.284315) и age (0.224527): Слабо положительная корреляция. Пол и возраст имеют незначительное влияние на отток.\n",
    "- products (0.208960) и equity (0.189870): Слабая положительная корреляция, что может указывать на незначительное влияние количества продуктов и капитала на отток.\n",
    "- est_salary (0.167262) и credit_card (0.162511): Слабая положительная корреляция, что говорит о незначительном влиянии зарплаты и наличия кредитной карты на отток.\n",
    "- city (0.026332) и balance (0.024672): Практически отсутствует корреляция, что указывает на то, что эти факторы не влияют на отток.\n",
    "На основе матрицы корреляций можно сделать следующие выводы о зависимостях между переменными:\n",
    "1.\tКорреляция с балансом:\n",
    "•\tВозраст (age) и баланс (balance) имеют положительную корреляцию (0.24), что может указывать на то, что с увеличением возраста увеличивается и баланс.\n",
    "•\tЧисло продуктов (products) и баланс также имеют положительную корреляцию (0.43), что может свидетельствовать о том, что клиенты с большим количеством продуктов имеют более высокий баланс.\n",
    "2.\tКредитные карты:\n",
    "•\tКредитные карты (credit_card) имеют отрицательную корреляцию с балансом (-0.25), что может означать, что клиенты с кредитными картами имеют меньший баланс.\n",
    "3.\tАктивность:\n",
    "•\tПоследняя активность (last_activity) имеет положительную корреляцию с балансом (0.08), что может указывать на то, что более активные клиенты имеют более высокий баланс.\n",
    "4.\tЗаработная плата:\n",
    "•\tОценка зарплаты (est_salary) имеет положительную корреляцию с балансом (0.34), что логично, так как более высокая зарплата может способствовать большему балансу.\n",
    "5.\tПроблемы с балансом:\n",
    "•\tНедостаток информации о балансе (balance_missing) имеет сильную отрицательную корреляцию с балансом (-0.71), что указывает на то, что отсутствие данных о балансе связано с низкими значениями самого баланса.\n",
    "6.\tЧисло продуктов и отток:\n",
    "•\tЧисло продуктов (products) и отток клиентов (churn) имеют отрицательную корреляцию (-0.25), что может означать, что клиенты с большим количеством продуктов менее склонны к оттоку.\n",
    "\n",
    "•\tВыводы о портрете клиента:\n",
    "•\tКлиенты с оттоком (churn = 1) имеют более высокий уровень зарплаты и чуть меньший средний возраст по сравнению с клиентами без оттока.\n",
    "•\tОни также имеют большее количество собственности, что может указывать на их финансовую стабильность.\n",
    "•\tОба сегмента клиентов сосредоточены в одном городе (Ярославль), что может быть полезно для целевых маркетинговых стратегий.\n",
    "•\tПреобладание мужчин среди клиентов с оттоком может указывать на необходимость дополнительных исследований для понимания причин оттока.\n",
    "результаты теста указывают на то, что существует значительная разница в заработной плате между двумя группами клиентов.\n",
    "количество продуктов действительно влияет на отток клиентов\n"
   ]
  },
  {
   "cell_type": "markdown",
   "metadata": {},
   "source": [
    "Для сегментации клиентов на основе предоставленных данных можно выделить следующие признаки и их значения:\n",
    "\n",
    "Признаки для сегментации:\n",
    "\n",
    "1. Заработная плата (est_salary):\n",
    "   - Высокая (более 100 тыс. руб.)\n",
    "   - Средняя (до 100 тыс. руб.)\n",
    "\n",
    "2. Баланс на счету (balance):\n",
    "   - Высокий (выше среднего)\n",
    "   - Низкий (ниже среднего)\n",
    "\n",
    "3. Пол (gender):\n",
    "   - Мужчины\n",
    "   - Женщины\n",
    "\n",
    "4. Наличие кредитной карты (credit_card):\n",
    "   - Есть кредитная карта\n",
    "   - Нет кредитной карты\n",
    "\n",
    "5. Количество продуктов (products):\n",
    "   - Меньше 3\n",
    "   - 3 и более\n",
    "\n",
    "6. Возраст (age):\n",
    "   - Молодежь (до 30 лет)\n",
    "   - Средний возраст (30-50 лет)\n",
    "   - Пожилые (старше 50 лет)\n",
    "\n",
    "7. Город (city):\n",
    "   - Ярославль\n",
    "   - Другие города\n",
    "\n",
    "8. Последняя активность (last_activity):\n",
    "   - Активные (высокий уровень активности)\n",
    "   - Неактивные (низкий уровень активности)\n",
    "\n",
    "9. Количество балла собственности (equity):\n",
    "   - Меньше 3\n",
    "   - 3 и более\n",
    "10. Баллы кредитного скоринга (оценка банка надежности клиента )(score):\n",
    "   - Меньше 850\n",
    "   - 850 и более\n",
    "Значения для сегментации:\n",
    "\n",
    "- Клиенты с высоким оттоком:\n",
    "  - Заработная плата: высокая\n",
    "  - Пол: мужчины\n",
    "  - Баланс: низкий\n",
    "  - Наличие кредитной карты: нет\n",
    "  - Количество продуктов: меньше 3\n",
    "  - Возраст: молодежь или пожилые\n",
    "  - Город: Ярославль\n",
    "  - Последняя активность: неактивные\n",
    "  - Количество балла собственности - 3 и более\n",
    "  - Баллы кредитного скоринга 850 и более\n",
    "\n",
    "- Клиенты с низким оттоком:\n",
    "  - Заработная плата: средняя или высокая\n",
    "  - Пол: женщины\n",
    "  - Баланс: высокий\n",
    "  - Наличие кредитной карты: есть\n",
    "  - Количество продуктов: 3 и более\n",
    "  - Возраст: средний возраст\n",
    "  - Город: другие города\n",
    "  - Последняя активность: активные\n",
    "  - Количество балла собственности - Меньше 3\n",
    "  - Баллы кредитного скоринга Меньше 850\n",
    "\n",
    " Заключение:\n",
    "Эта сегментация может помочь в разработке целевых маркетинговых стратегий для снижения оттока клиентов, улучшения обслуживания и предложения персонализированных продуктов."
   ]
  },
  {
   "cell_type": "markdown",
   "metadata": {},
   "source": [
    "## Приоритизация сегментов. Ранжирование и выявление приоритетных сегментов для упрощения работы отдела маркетинга."
   ]
  },
  {
   "cell_type": "markdown",
   "metadata": {},
   "source": [
    "Определение сегментов :\n",
    "\n",
    "1. Сегмент 1: Мужчины с высокой зарплатой и низким балансом\n",
    "2. Сегмент 2: Клиенты без кредитной карты с низким балансом\n",
    "3. Сегмент 3: Молодежь с низким балансом и меньшим количеством продуктов\n",
    "4. Сегмент 4: Клиенты с низкой активностью и высокой зарплатой\n",
    "5. Сегмент 5: Пожилые клиенты с колличеством балов собственности больше 3\n",
    "6. Сегмент 6: Клиенты из Ярославля с баллами кредитного скоринга 850 и более\n",
    "\n"
   ]
  },
  {
   "cell_type": "code",
   "execution_count": 37,
   "metadata": {},
   "outputs": [
    {
     "data": {
      "text/plain": [
       "'Сегмент 1: Размер = 834, Уровень оттока = 0.229'"
      ]
     },
     "metadata": {},
     "output_type": "display_data"
    },
    {
     "data": {
      "text/plain": [
       "'Сегмент 2: Размер = 1140, Уровень оттока = 0.178'"
      ]
     },
     "metadata": {},
     "output_type": "display_data"
    },
    {
     "data": {
      "text/plain": [
       "'Сегмент 3: Размер = 551, Уровень оттока = 0.225'"
      ]
     },
     "metadata": {},
     "output_type": "display_data"
    },
    {
     "data": {
      "text/plain": [
       "'Сегмент 4: Размер = 2920, Уровень оттока = 0.113'"
      ]
     },
     "metadata": {},
     "output_type": "display_data"
    },
    {
     "data": {
      "text/plain": [
       "'Сегмент 5: Размер = 469, Уровень оттока = 0.136'"
      ]
     },
     "metadata": {},
     "output_type": "display_data"
    },
    {
     "data": {
      "text/plain": [
       "'Сегмент 6: Размер = 3107, Уровень оттока = 0.234'"
      ]
     },
     "metadata": {},
     "output_type": "display_data"
    }
   ],
   "source": [
    "# Сегмент 1: Мужчины с высокой зарплатой и низким балансом\n",
    "segment_1 = data[(data['gender'] == 'М') & \n",
    "                 (data['est_salary'] > 100000) & \n",
    "                 (data['balance'] < data['balance'].median())]\n",
    "\n",
    "# Сегмент 2: Клиенты без кредитной карты с низким балансом\n",
    "segment_2 = data[(data['credit_card'] == 0) & \n",
    "                 (data['balance'] < data['balance'].median())]\n",
    "\n",
    "# Сегмент 3: Молодежь с низким балансом и меньшим количеством продуктов\n",
    "segment_3 = data[(data['age'] < 30) & \n",
    "                 (data['balance'] < data['balance'].median()) & \n",
    "                 (data['products'] < 3)]\n",
    "# Сегмент 4: Клиенты с низкой активностью и высокой зарплатой\n",
    "segment_4 = data[(data['last_activity'] < data['last_activity'].median()) & \n",
    "                  (data['est_salary'] > 100000)]\n",
    "\n",
    "# Сегмент 5: Пожилые клиенты с с колличеством балов собственности больше 3 \n",
    "segment_5 = data[(data['age'] >= 60) & \n",
    "                  (data['equity'] > 3)]\n",
    "\n",
    "# Сегмент 6: Клиенты из Ярославля с баллами кредитного скоринга 850 и более\n",
    "segment_6 = data[(data['city'] == 'Ярославль') & \n",
    "                  (data['score'] >= 850)]\n",
    "\n",
    "# Функция для вычисления метрик качества сегментов\n",
    "def segment_metrics(segment):\n",
    "    size = len(segment)\n",
    "    churn_rate = segment['churn'].mean() if size > 0 else 0\n",
    "    return size, churn_rate\n",
    "\n",
    "# Вывод метрик для каждого сегмента\n",
    "segments = [segment_1, segment_2, segment_3, segment_4, segment_5, segment_6]\n",
    "segment_names = [\"Сегмент 1\", \"Сегмент 2\", \"Сегмент 3\", \"Сегмент 4\", \"Сегмент 5\", \"Сегмент 6\"]\n",
    "\n",
    "for name, segment in zip(segment_names, segments):\n",
    "    size, churn_rate = segment_metrics(segment)\n",
    "    display(f\"{name}: Размер = {size}, Уровень оттока = {churn_rate:.3f}\")\n",
    "\n"
   ]
  },
  {
   "cell_type": "code",
   "execution_count": 38,
   "metadata": {},
   "outputs": [
    {
     "data": {
      "image/png": "[encoded data removed]",
      "text/plain": [
       "<Figure size 864x432 with 2 Axes>"
      ]
     },
     "metadata": {},
     "output_type": "display_data"
    }
   ],
   "source": [
    "# Создаем список для хранения метрик\n",
    "metrics = []\n",
    "\n",
    "# Собираем метрики для каждого сегмента\n",
    "for name, segment in zip(segment_names, segments):\n",
    "    size, churn_rate = segment_metrics(segment)\n",
    "    metrics.append({'Сегмент': name, 'Размер': size, 'Уровень оттока': churn_rate})\n",
    "\n",
    "# Преобразуем в DataFrame\n",
    "metrics_df = pd.DataFrame(metrics)\n",
    "\n",
    "# Устанавливаем стиль графиков\n",
    "sns.set(style=\"whitegrid\")\n",
    "\n",
    "# Создаем фигуру\n",
    "fig, ax1 = plt.subplots(figsize=(12, 6))\n",
    "\n",
    "# Столбчатая диаграмма для размера сегментов\n",
    "sns.barplot(x='Сегмент', y='Размер', data=metrics_df, ax=ax1, color='skyblue', label='Размер сегмента')\n",
    "ax1.set_ylabel('Размер сегмента', color='skyblue')\n",
    "ax1.tick_params(axis='y', labelcolor='skyblue')\n",
    "ax1.set_ylim(0,1000)\n",
    "\n",
    "# Создаем вторую ось для уровня оттока\n",
    "ax2 = ax1.twinx()\n",
    "sns.lineplot(x='Сегмент', y='Уровень оттока', data=metrics_df, ax=ax2, color='orange', marker='o', label='Уровень оттока',linewidth=2.5)\n",
    "ax2.set_ylabel('Уровень оттока', color='orange')\n",
    "ax2.tick_params(axis='y', labelcolor='orange')\n",
    "\n",
    "\n",
    "# Заголовок и легенда\n",
    "plt.title('Метрики сегментов: Размер и Уровень оттока')\n",
    "ax1.legend(loc='upper left')\n",
    "ax2.legend(loc='upper right')\n",
    "\n",
    "plt.xticks(rotation=45)\n",
    "\n",
    "# Пояснения к сегментам\n",
    "segment_descriptions = [\n",
    "    \"Сегмент 1: Мужчины с высокой зарплатой и низким балансом\",\n",
    "    \"Сегмент 2: Клиенты без кредитной карты с низким балансом\",\n",
    "    \"Сегмент 3: Молодежь с низким балансом и меньшим количеством продуктов\",\n",
    "    \"Сегмент 4: Клиенты с низкой активностью и высокой зарплатой\",\n",
    "    \"Сегмент 5: Пожилые клиенты с колличеством балов собственности больше 3\",\n",
    "    \"Сегмент 6: Клиенты из Ярославля с баллами кредитного скоринга 850 и более\"\n",
    "]\n",
    "# Добавляем текст с пояснениями под графиком\n",
    "plt.figtext(0.5, -0.1, \"\\n\".join(segment_descriptions), ha='center', va='top', fontsize=12, wrap=True)\n",
    "\n",
    "plt.tight_layout()\n",
    "plt.show()\n"
   ]
  },
  {
   "cell_type": "markdown",
   "metadata": {},
   "source": [
    "### Ранжирование сегментов."
   ]
  },
  {
   "cell_type": "markdown",
   "metadata": {},
   "source": [
    "Для ранжирования сегментов клиентов банка на основе полученных данных, можно использовать  критерий:\n",
    "\n",
    "Уровень оттока: процент клиентов, покидающих банк.\n",
    "\n",
    "Сегмент 6: Уровень оттока = 0.234 (наибольший отток)\n",
    "\n",
    "Сегмент 1: Уровень оттока = 0.229\n",
    "\n",
    "Сегмент 3: Уровень оттока = 0.225\n",
    "\n",
    "Сегмент 2: Уровень оттока = 0.178\n",
    "\n",
    "Сегмент 5: Уровень оттока = 0.136\n",
    "\n",
    "Сегмент 4: Уровень оттока = 0.113\n"
   ]
  },
  {
   "cell_type": "markdown",
   "metadata": {},
   "source": [
    "## Формирование рекомендаций (таргетированных) по работе с ними. Для каждого сегмента индивидульная рекомендация."
   ]
  },
  {
   "cell_type": "markdown",
   "metadata": {},
   "source": [
    "Рекомендации по работе с сегментами:\n",
    "\n",
    "1. Мужчины с высокой зарплатой и низким балансом\n",
    "   - Рекомендация: Разработать персонализированные финансовые консультации и программы по управлению бюджетом, чтобы помочь им оптимизировать свои расходы и увеличить баланс.\n",
    "  \n",
    "2. Клиенты без кредитной карты с низким балансом\n",
    "   - Рекомендация: Предложить специальные условия для получения кредитной карты, включая низкие комиссии и бонусы за использование, чтобы повысить финансовую гибкость клиентов.\n",
    "\n",
    "3. Молодежь с низким балансом и меньшим количеством продуктов\n",
    "   - Рекомендация: Ввести программу лояльности с бонусами за открытие новых продуктов и активное использование услуг, а также проводить образовательные мероприятия по финансовой грамотности.\n",
    "\n",
    "4. Клиенты с низкой активностью и высокой зарплатой\n",
    "   - Рекомендация: Провести опросы для выявления причин низкой активности и предложить индивидуальные тарифы или пакеты услуг, которые могут их заинтересовать.\n",
    "\n",
    "5. Пожилые клиенты с низким балансом \n",
    "   - Рекомендация: Организовать консультации по управлению финансами и предложить специальные продукты, адаптированные для пожилых клиентов, чтобы повысить их уровень комфорта и доверия.\n",
    "\n",
    "6. Клиенты из Ярославля с с баллами кредитного скоринга 850 и более\n",
    "   - Рекомендация: Запустить локальные маркетинговые кампании, направленные на привлечение и удержание клиентов в этом регионе, включая специальные предложения и мероприятия.\n",
    "\n",
    " Три основных рекомендации:\n",
    "\n",
    "1. Персонализированные финансовые консультации:\n",
    "   - Для мужчин с высокой зарплатой и низким балансом, а также пожилых клиентов без кредитной карты. Это поможет повысить финансовую грамотность и уровень доверия к банку.\n",
    "\n",
    "2. Программа лояльности и специальные предложения:\n",
    "   - Для молодежи и клиентов без кредитных карт. Это стимулирует использование продуктов и услуг, что может снизить отток.\n",
    "\n",
    "3. Локальные маркетинговые кампании:\n",
    "   - Для клиентов из Ярославля. Это поможет адаптировать предложения под специфические потребности и предпочтения региона, что повысит шансы на удержание клиентов.\n",
    "\n",
    "Эти рекомендации помогут эффективно работать с уязвимыми сегментами и снизить уровень оттока клиентов."
   ]
  },
  {
   "cell_type": "markdown",
   "metadata": {},
   "source": [
    "Заключение: Для рассылки отделу маркетинга даем с рекомендациями первый, третий и шестой сегменты.\n",
    "\n",
    "1. Шестой сегмент. Клиенты из Ярославля  с баллами кредитного скоринга 850 и более, уровень оттока 0.234.\n",
    "   - Рекомендация: Запустить локальные маркетинговые кампании, направленные на привлечение и удержание клиентов в этом регионе, включая специальные предложения и мероприятия.\n",
    "\n",
    "2. Первый сегмент. Мужчины с высокой зарплатой и низким балансом, уровень оттока 0.229.\n",
    "   - Рекомендация: Разработать персонализированные финансовые консультации и программы по управлению бюджетом, чтобы помочь им оптимизировать свои расходы и увеличить баланс.\n",
    "   \n",
    "3. Третий сегмент. Молодежь с низким балансом и меньшим количеством продуктов, уровень оттока 0.225.\n",
    "   - Рекомендация: Ввести программу лояльности с бонусами за открытие новых продуктов и активное использование услуг, а также проводить образовательные мероприятия по финансовой грамотности.\n",
    "\n",
    "\n",
    "Заключение:\n",
    "Эта приоритизация поможет сосредоточить усилия на наиболее уязвимых сегментах, что может снизить уровень оттока и улучшить удержание клиентов.\n"
   ]
  }
 ],
 "metadata": {
  "ExecuteTimeLog": [
   {
    "duration": 1723,
    "start_time": "2024-10-18T12:48:15.937Z"
   },
   {
    "duration": 46,
    "start_time": "2024-10-18T12:48:17.662Z"
   },
   {
    "duration": 5,
    "start_time": "2024-10-18T12:48:17.709Z"
   },
   {
    "duration": 115,
    "start_time": "2024-10-18T12:48:17.716Z"
   },
   {
    "duration": 96,
    "start_time": "2024-10-18T12:50:03.764Z"
   },
   {
    "duration": 8,
    "start_time": "2024-10-18T12:50:13.926Z"
   },
   {
    "duration": 119,
    "start_time": "2024-10-18T12:50:16.901Z"
   },
   {
    "duration": 71,
    "start_time": "2024-10-18T12:51:09.184Z"
   },
   {
    "duration": 12,
    "start_time": "2024-10-18T12:58:49.645Z"
   },
   {
    "duration": 16,
    "start_time": "2024-10-18T13:44:13.502Z"
   },
   {
    "duration": 1708,
    "start_time": "2024-10-20T13:46:03.996Z"
   },
   {
    "duration": 165,
    "start_time": "2024-10-20T13:46:05.706Z"
   },
   {
    "duration": 4,
    "start_time": "2024-10-20T13:46:05.872Z"
   },
   {
    "duration": 194,
    "start_time": "2024-10-20T13:46:05.878Z"
   },
   {
    "duration": 9,
    "start_time": "2024-10-20T13:46:06.073Z"
   },
   {
    "duration": 11,
    "start_time": "2024-10-20T13:46:06.084Z"
   },
   {
    "duration": 1761,
    "start_time": "2024-10-21T14:21:17.410Z"
   },
   {
    "duration": 365,
    "start_time": "2024-10-21T14:21:19.172Z"
   },
   {
    "duration": 63,
    "start_time": "2024-10-21T14:21:19.538Z"
   },
   {
    "duration": 0,
    "start_time": "2024-10-21T14:21:19.603Z"
   },
   {
    "duration": 0,
    "start_time": "2024-10-21T14:21:19.605Z"
   },
   {
    "duration": 1472,
    "start_time": "2024-10-21T14:21:56.967Z"
   },
   {
    "duration": 42,
    "start_time": "2024-10-21T14:21:58.441Z"
   },
   {
    "duration": 3,
    "start_time": "2024-10-21T14:21:58.485Z"
   },
   {
    "duration": 125,
    "start_time": "2024-10-21T14:21:58.490Z"
   },
   {
    "duration": 27,
    "start_time": "2024-10-21T14:21:58.617Z"
   },
   {
    "duration": 1525,
    "start_time": "2024-10-21T14:49:33.584Z"
   },
   {
    "duration": 43,
    "start_time": "2024-10-21T14:49:35.111Z"
   },
   {
    "duration": 4,
    "start_time": "2024-10-21T14:49:35.156Z"
   },
   {
    "duration": 189,
    "start_time": "2024-10-21T14:49:35.161Z"
   },
   {
    "duration": 19,
    "start_time": "2024-10-21T14:49:35.352Z"
   },
   {
    "duration": 52,
    "start_time": "2024-10-22T08:36:18.588Z"
   },
   {
    "duration": 1785,
    "start_time": "2024-10-22T08:36:40.247Z"
   },
   {
    "duration": 98,
    "start_time": "2024-10-22T08:36:42.034Z"
   },
   {
    "duration": 5,
    "start_time": "2024-10-22T08:36:42.133Z"
   },
   {
    "duration": 129,
    "start_time": "2024-10-22T08:36:42.139Z"
   },
   {
    "duration": 33,
    "start_time": "2024-10-22T08:36:42.270Z"
   },
   {
    "duration": 23,
    "start_time": "2024-10-22T08:36:42.305Z"
   },
   {
    "duration": 124,
    "start_time": "2024-10-22T09:05:50.215Z"
   },
   {
    "duration": 21,
    "start_time": "2024-10-22T09:10:02.297Z"
   },
   {
    "duration": 893,
    "start_time": "2024-10-22T09:12:40.495Z"
   },
   {
    "duration": 21,
    "start_time": "2024-10-22T09:13:08.240Z"
   },
   {
    "duration": 73,
    "start_time": "2024-10-22T09:26:41.651Z"
   },
   {
    "duration": 6,
    "start_time": "2024-10-22T09:26:53.870Z"
   },
   {
    "duration": 7,
    "start_time": "2024-10-22T09:28:55.732Z"
   },
   {
    "duration": 8,
    "start_time": "2024-10-22T09:32:49.458Z"
   },
   {
    "duration": 47,
    "start_time": "2024-10-22T12:13:22.475Z"
   },
   {
    "duration": 1850,
    "start_time": "2024-10-22T12:13:46.314Z"
   },
   {
    "duration": 162,
    "start_time": "2024-10-22T12:13:48.166Z"
   },
   {
    "duration": 4,
    "start_time": "2024-10-22T12:13:48.330Z"
   },
   {
    "duration": 146,
    "start_time": "2024-10-22T12:13:48.335Z"
   },
   {
    "duration": 13,
    "start_time": "2024-10-22T12:13:48.483Z"
   },
   {
    "duration": 29,
    "start_time": "2024-10-22T12:13:48.497Z"
   },
   {
    "duration": 16,
    "start_time": "2024-10-22T12:13:48.527Z"
   },
   {
    "duration": 18,
    "start_time": "2024-10-22T12:13:48.545Z"
   },
   {
    "duration": 6,
    "start_time": "2024-10-22T12:13:48.565Z"
   },
   {
    "duration": 7,
    "start_time": "2024-10-22T12:14:32.769Z"
   },
   {
    "duration": 6,
    "start_time": "2024-10-22T12:19:23.276Z"
   },
   {
    "duration": 23,
    "start_time": "2024-10-22T12:24:17.251Z"
   },
   {
    "duration": 14,
    "start_time": "2024-10-22T12:43:34.685Z"
   },
   {
    "duration": 21,
    "start_time": "2024-10-22T12:55:41.472Z"
   },
   {
    "duration": 1566,
    "start_time": "2024-10-22T13:08:57.371Z"
   },
   {
    "duration": 43,
    "start_time": "2024-10-22T13:08:58.938Z"
   },
   {
    "duration": 4,
    "start_time": "2024-10-22T13:08:58.983Z"
   },
   {
    "duration": 161,
    "start_time": "2024-10-22T13:08:58.988Z"
   },
   {
    "duration": 12,
    "start_time": "2024-10-22T13:08:59.151Z"
   },
   {
    "duration": 60,
    "start_time": "2024-10-22T13:08:59.164Z"
   },
   {
    "duration": 14,
    "start_time": "2024-10-22T13:08:59.226Z"
   },
   {
    "duration": 14,
    "start_time": "2024-10-22T13:08:59.241Z"
   },
   {
    "duration": 23,
    "start_time": "2024-10-22T13:08:59.257Z"
   },
   {
    "duration": 54,
    "start_time": "2024-10-22T13:08:59.282Z"
   },
   {
    "duration": 1631,
    "start_time": "2024-10-22T13:19:21.538Z"
   },
   {
    "duration": 43,
    "start_time": "2024-10-22T13:19:23.171Z"
   },
   {
    "duration": 16,
    "start_time": "2024-10-22T13:19:23.215Z"
   },
   {
    "duration": 139,
    "start_time": "2024-10-22T13:19:23.233Z"
   },
   {
    "duration": 11,
    "start_time": "2024-10-22T13:19:23.374Z"
   },
   {
    "duration": 11,
    "start_time": "2024-10-22T13:19:23.387Z"
   },
   {
    "duration": 24,
    "start_time": "2024-10-22T13:19:23.400Z"
   },
   {
    "duration": 27,
    "start_time": "2024-10-22T13:19:23.425Z"
   },
   {
    "duration": 23,
    "start_time": "2024-10-22T13:19:23.454Z"
   },
   {
    "duration": 42,
    "start_time": "2024-10-22T13:19:23.480Z"
   },
   {
    "duration": 1679,
    "start_time": "2024-10-22T14:25:07.583Z"
   },
   {
    "duration": 161,
    "start_time": "2024-10-22T14:25:09.264Z"
   },
   {
    "duration": 4,
    "start_time": "2024-10-22T14:25:09.427Z"
   },
   {
    "duration": 135,
    "start_time": "2024-10-22T14:25:09.433Z"
   },
   {
    "duration": 11,
    "start_time": "2024-10-22T14:25:09.570Z"
   },
   {
    "duration": 19,
    "start_time": "2024-10-22T14:25:09.583Z"
   },
   {
    "duration": 18,
    "start_time": "2024-10-22T14:25:09.604Z"
   },
   {
    "duration": 26,
    "start_time": "2024-10-22T14:25:09.623Z"
   },
   {
    "duration": 40,
    "start_time": "2024-10-22T14:25:09.650Z"
   },
   {
    "duration": 45,
    "start_time": "2024-10-22T14:25:09.692Z"
   },
   {
    "duration": 52,
    "start_time": "2024-10-22T14:37:01.205Z"
   },
   {
    "duration": 1701,
    "start_time": "2024-10-22T14:41:01.896Z"
   },
   {
    "duration": 159,
    "start_time": "2024-10-22T14:41:03.599Z"
   },
   {
    "duration": 3,
    "start_time": "2024-10-22T14:41:03.760Z"
   },
   {
    "duration": 142,
    "start_time": "2024-10-22T14:41:03.766Z"
   },
   {
    "duration": 23,
    "start_time": "2024-10-22T14:41:03.909Z"
   },
   {
    "duration": 55,
    "start_time": "2024-10-22T14:41:03.933Z"
   },
   {
    "duration": 59,
    "start_time": "2024-10-22T14:41:03.989Z"
   },
   {
    "duration": 50,
    "start_time": "2024-10-22T14:41:04.050Z"
   },
   {
    "duration": 34,
    "start_time": "2024-10-22T14:41:04.101Z"
   },
   {
    "duration": 30,
    "start_time": "2024-10-22T14:41:04.137Z"
   },
   {
    "duration": 5,
    "start_time": "2024-10-22T14:41:04.168Z"
   },
   {
    "duration": 70,
    "start_time": "2024-10-22T14:41:04.174Z"
   },
   {
    "duration": 60,
    "start_time": "2024-10-23T08:25:03.636Z"
   },
   {
    "duration": 47,
    "start_time": "2024-10-23T08:27:02.763Z"
   },
   {
    "duration": 1826,
    "start_time": "2024-10-23T08:27:19.621Z"
   },
   {
    "duration": 97,
    "start_time": "2024-10-23T08:27:21.449Z"
   },
   {
    "duration": 3,
    "start_time": "2024-10-23T08:27:21.548Z"
   },
   {
    "duration": 150,
    "start_time": "2024-10-23T08:27:21.553Z"
   },
   {
    "duration": 15,
    "start_time": "2024-10-23T08:27:21.706Z"
   },
   {
    "duration": 30,
    "start_time": "2024-10-23T08:27:21.723Z"
   },
   {
    "duration": 12,
    "start_time": "2024-10-23T08:27:21.754Z"
   },
   {
    "duration": 26,
    "start_time": "2024-10-23T08:27:21.768Z"
   },
   {
    "duration": 21,
    "start_time": "2024-10-23T08:27:21.796Z"
   },
   {
    "duration": 49,
    "start_time": "2024-10-23T08:27:21.818Z"
   },
   {
    "duration": 4,
    "start_time": "2024-10-23T08:27:21.868Z"
   },
   {
    "duration": 51,
    "start_time": "2024-10-23T08:36:19.487Z"
   },
   {
    "duration": 1553,
    "start_time": "2024-10-23T08:47:56.132Z"
   },
   {
    "duration": 95,
    "start_time": "2024-10-23T08:47:57.687Z"
   },
   {
    "duration": 4,
    "start_time": "2024-10-23T08:47:57.785Z"
   },
   {
    "duration": 122,
    "start_time": "2024-10-23T08:47:57.791Z"
   },
   {
    "duration": 12,
    "start_time": "2024-10-23T08:47:57.915Z"
   },
   {
    "duration": 143,
    "start_time": "2024-10-23T08:47:57.928Z"
   },
   {
    "duration": 0,
    "start_time": "2024-10-23T08:47:58.072Z"
   },
   {
    "duration": 0,
    "start_time": "2024-10-23T08:47:58.073Z"
   },
   {
    "duration": 0,
    "start_time": "2024-10-23T08:47:58.075Z"
   },
   {
    "duration": 0,
    "start_time": "2024-10-23T08:47:58.076Z"
   },
   {
    "duration": 0,
    "start_time": "2024-10-23T08:47:58.077Z"
   },
   {
    "duration": 9,
    "start_time": "2024-10-23T08:48:41.277Z"
   },
   {
    "duration": 11,
    "start_time": "2024-10-23T08:48:46.684Z"
   },
   {
    "duration": 14,
    "start_time": "2024-10-23T08:48:50.317Z"
   },
   {
    "duration": 22,
    "start_time": "2024-10-23T08:48:57.489Z"
   },
   {
    "duration": 31,
    "start_time": "2024-10-23T08:49:05.878Z"
   },
   {
    "duration": 1622,
    "start_time": "2024-10-23T08:51:05.774Z"
   },
   {
    "duration": 98,
    "start_time": "2024-10-23T08:51:09.620Z"
   },
   {
    "duration": 3,
    "start_time": "2024-10-23T08:51:14.994Z"
   },
   {
    "duration": 136,
    "start_time": "2024-10-23T08:51:19.453Z"
   },
   {
    "duration": 503,
    "start_time": "2024-10-23T08:51:38.323Z"
   },
   {
    "duration": 53,
    "start_time": "2024-10-23T08:57:12.811Z"
   },
   {
    "duration": 1684,
    "start_time": "2024-10-23T08:58:05.634Z"
   },
   {
    "duration": 97,
    "start_time": "2024-10-23T08:58:07.320Z"
   },
   {
    "duration": 4,
    "start_time": "2024-10-23T08:58:07.419Z"
   },
   {
    "duration": 172,
    "start_time": "2024-10-23T08:58:07.426Z"
   },
   {
    "duration": 14,
    "start_time": "2024-10-23T08:58:07.600Z"
   },
   {
    "duration": 16,
    "start_time": "2024-10-23T08:58:07.616Z"
   },
   {
    "duration": 29,
    "start_time": "2024-10-23T08:58:07.634Z"
   },
   {
    "duration": 15,
    "start_time": "2024-10-23T08:58:07.665Z"
   },
   {
    "duration": 24,
    "start_time": "2024-10-23T08:58:07.682Z"
   },
   {
    "duration": 68,
    "start_time": "2024-10-23T08:58:07.710Z"
   },
   {
    "duration": 487,
    "start_time": "2024-10-23T08:58:07.780Z"
   },
   {
    "duration": 53,
    "start_time": "2024-10-23T08:58:30.268Z"
   },
   {
    "duration": 1588,
    "start_time": "2024-10-23T08:59:38.202Z"
   },
   {
    "duration": 96,
    "start_time": "2024-10-23T08:59:42.026Z"
   },
   {
    "duration": 3,
    "start_time": "2024-10-23T08:59:59.472Z"
   },
   {
    "duration": 121,
    "start_time": "2024-10-23T09:00:02.680Z"
   },
   {
    "duration": 114,
    "start_time": "2024-10-23T09:00:13.907Z"
   },
   {
    "duration": 104,
    "start_time": "2024-10-23T09:00:44.571Z"
   },
   {
    "duration": 1786,
    "start_time": "2024-10-23T09:07:07.267Z"
   },
   {
    "duration": 103,
    "start_time": "2024-10-23T09:07:10.633Z"
   },
   {
    "duration": 3,
    "start_time": "2024-10-23T09:07:13.792Z"
   },
   {
    "duration": 137,
    "start_time": "2024-10-23T09:07:16.830Z"
   },
   {
    "duration": 63,
    "start_time": "2024-10-23T09:17:28.819Z"
   },
   {
    "duration": 1724,
    "start_time": "2024-10-23T09:17:40.768Z"
   },
   {
    "duration": 107,
    "start_time": "2024-10-23T09:17:42.494Z"
   },
   {
    "duration": 3,
    "start_time": "2024-10-23T09:17:42.602Z"
   },
   {
    "duration": 164,
    "start_time": "2024-10-23T09:17:42.607Z"
   },
   {
    "duration": 17,
    "start_time": "2024-10-23T09:17:42.774Z"
   },
   {
    "duration": 9,
    "start_time": "2024-10-23T09:17:42.793Z"
   },
   {
    "duration": 17,
    "start_time": "2024-10-23T09:17:42.804Z"
   },
   {
    "duration": 13,
    "start_time": "2024-10-23T09:17:42.822Z"
   },
   {
    "duration": 113,
    "start_time": "2024-10-23T09:17:42.837Z"
   },
   {
    "duration": 45,
    "start_time": "2024-10-23T09:17:42.952Z"
   },
   {
    "duration": 570,
    "start_time": "2024-10-23T09:17:42.999Z"
   },
   {
    "duration": 1698,
    "start_time": "2024-10-23T09:29:34.041Z"
   },
   {
    "duration": 50,
    "start_time": "2024-10-23T09:29:35.740Z"
   },
   {
    "duration": 4,
    "start_time": "2024-10-23T09:29:35.792Z"
   },
   {
    "duration": 206,
    "start_time": "2024-10-23T09:29:35.799Z"
   },
   {
    "duration": 18,
    "start_time": "2024-10-23T09:29:36.007Z"
   },
   {
    "duration": 29,
    "start_time": "2024-10-23T09:29:36.028Z"
   },
   {
    "duration": 22,
    "start_time": "2024-10-23T09:29:36.062Z"
   },
   {
    "duration": 16,
    "start_time": "2024-10-23T09:29:36.086Z"
   },
   {
    "duration": 51,
    "start_time": "2024-10-23T09:29:36.104Z"
   },
   {
    "duration": 52,
    "start_time": "2024-10-23T09:29:36.158Z"
   },
   {
    "duration": 402,
    "start_time": "2024-10-23T09:29:36.212Z"
   },
   {
    "duration": 489,
    "start_time": "2024-10-23T09:44:56.441Z"
   },
   {
    "duration": 424,
    "start_time": "2024-10-23T09:45:14.379Z"
   },
   {
    "duration": 409,
    "start_time": "2024-10-23T09:45:32.672Z"
   },
   {
    "duration": 443,
    "start_time": "2024-10-23T09:52:28.695Z"
   },
   {
    "duration": 505,
    "start_time": "2024-10-23T09:58:06.382Z"
   },
   {
    "duration": 418,
    "start_time": "2024-10-23T09:58:34.278Z"
   },
   {
    "duration": 444,
    "start_time": "2024-10-23T11:14:38.233Z"
   },
   {
    "duration": 443,
    "start_time": "2024-10-23T11:16:53.394Z"
   },
   {
    "duration": 440,
    "start_time": "2024-10-23T11:18:17.489Z"
   },
   {
    "duration": 434,
    "start_time": "2024-10-23T11:18:45.472Z"
   },
   {
    "duration": 465,
    "start_time": "2024-10-23T11:19:08.072Z"
   },
   {
    "duration": 440,
    "start_time": "2024-10-23T11:30:19.104Z"
   },
   {
    "duration": 423,
    "start_time": "2024-10-23T11:30:52.529Z"
   },
   {
    "duration": 1509,
    "start_time": "2024-10-23T11:34:30.499Z"
   },
   {
    "duration": 45,
    "start_time": "2024-10-23T11:34:32.009Z"
   },
   {
    "duration": 3,
    "start_time": "2024-10-23T11:34:32.056Z"
   },
   {
    "duration": 143,
    "start_time": "2024-10-23T11:34:32.060Z"
   },
   {
    "duration": 12,
    "start_time": "2024-10-23T11:34:32.205Z"
   },
   {
    "duration": 33,
    "start_time": "2024-10-23T11:34:32.218Z"
   },
   {
    "duration": 10,
    "start_time": "2024-10-23T11:34:32.252Z"
   },
   {
    "duration": 13,
    "start_time": "2024-10-23T11:34:32.264Z"
   },
   {
    "duration": 22,
    "start_time": "2024-10-23T11:34:32.278Z"
   },
   {
    "duration": 55,
    "start_time": "2024-10-23T11:34:32.302Z"
   },
   {
    "duration": 488,
    "start_time": "2024-10-23T11:34:32.358Z"
   },
   {
    "duration": 1632,
    "start_time": "2024-10-23T11:44:36.059Z"
   },
   {
    "duration": 44,
    "start_time": "2024-10-23T11:44:37.693Z"
   },
   {
    "duration": 38,
    "start_time": "2024-10-23T11:44:37.739Z"
   },
   {
    "duration": 136,
    "start_time": "2024-10-23T11:44:37.779Z"
   },
   {
    "duration": 12,
    "start_time": "2024-10-23T11:44:37.916Z"
   },
   {
    "duration": 29,
    "start_time": "2024-10-23T11:44:37.929Z"
   },
   {
    "duration": 11,
    "start_time": "2024-10-23T11:44:37.960Z"
   },
   {
    "duration": 14,
    "start_time": "2024-10-23T11:44:37.972Z"
   },
   {
    "duration": 22,
    "start_time": "2024-10-23T11:44:37.988Z"
   },
   {
    "duration": 65,
    "start_time": "2024-10-23T11:44:38.012Z"
   },
   {
    "duration": 467,
    "start_time": "2024-10-23T11:44:38.078Z"
   },
   {
    "duration": 1633,
    "start_time": "2024-10-23T11:46:44.744Z"
   },
   {
    "duration": 48,
    "start_time": "2024-10-23T11:46:46.379Z"
   },
   {
    "duration": 4,
    "start_time": "2024-10-23T11:46:46.429Z"
   },
   {
    "duration": 137,
    "start_time": "2024-10-23T11:46:46.434Z"
   },
   {
    "duration": 12,
    "start_time": "2024-10-23T11:46:46.573Z"
   },
   {
    "duration": 20,
    "start_time": "2024-10-23T11:46:46.587Z"
   },
   {
    "duration": 11,
    "start_time": "2024-10-23T11:46:46.609Z"
   },
   {
    "duration": 34,
    "start_time": "2024-10-23T11:46:46.621Z"
   },
   {
    "duration": 35,
    "start_time": "2024-10-23T11:46:46.656Z"
   },
   {
    "duration": 31,
    "start_time": "2024-10-23T11:46:46.692Z"
   },
   {
    "duration": 477,
    "start_time": "2024-10-23T11:46:46.725Z"
   },
   {
    "duration": 1565,
    "start_time": "2024-10-23T11:47:57.545Z"
   },
   {
    "duration": 45,
    "start_time": "2024-10-23T11:47:59.112Z"
   },
   {
    "duration": 3,
    "start_time": "2024-10-23T11:47:59.159Z"
   },
   {
    "duration": 144,
    "start_time": "2024-10-23T11:47:59.164Z"
   },
   {
    "duration": 13,
    "start_time": "2024-10-23T11:47:59.311Z"
   },
   {
    "duration": 103,
    "start_time": "2024-10-23T11:47:59.326Z"
   },
   {
    "duration": 32,
    "start_time": "2024-10-23T11:47:59.431Z"
   },
   {
    "duration": 19,
    "start_time": "2024-10-23T11:47:59.465Z"
   },
   {
    "duration": 29,
    "start_time": "2024-10-23T11:47:59.485Z"
   },
   {
    "duration": 37,
    "start_time": "2024-10-23T11:47:59.516Z"
   },
   {
    "duration": 477,
    "start_time": "2024-10-23T11:47:59.555Z"
   },
   {
    "duration": 462,
    "start_time": "2024-10-23T11:48:00.034Z"
   },
   {
    "duration": 425,
    "start_time": "2024-10-23T11:49:42.061Z"
   },
   {
    "duration": 426,
    "start_time": "2024-10-23T11:50:19.614Z"
   },
   {
    "duration": 458,
    "start_time": "2024-10-23T11:50:41.484Z"
   },
   {
    "duration": 461,
    "start_time": "2024-10-23T13:17:35.932Z"
   },
   {
    "duration": 471,
    "start_time": "2024-10-23T13:18:35.873Z"
   },
   {
    "duration": 472,
    "start_time": "2024-10-23T13:22:31.293Z"
   },
   {
    "duration": 510,
    "start_time": "2024-10-23T13:23:42.993Z"
   },
   {
    "duration": 474,
    "start_time": "2024-10-23T13:24:48.826Z"
   },
   {
    "duration": 415,
    "start_time": "2024-10-23T13:45:10.630Z"
   },
   {
    "duration": 848,
    "start_time": "2024-10-23T13:47:18.431Z"
   },
   {
    "duration": 716,
    "start_time": "2024-10-23T13:47:46.644Z"
   },
   {
    "duration": 616,
    "start_time": "2024-10-23T13:48:23.429Z"
   },
   {
    "duration": 53,
    "start_time": "2024-10-24T08:49:37.864Z"
   },
   {
    "duration": 5,
    "start_time": "2024-10-24T08:50:04.990Z"
   },
   {
    "duration": 43,
    "start_time": "2024-10-24T08:50:04.996Z"
   },
   {
    "duration": 3,
    "start_time": "2024-10-24T08:50:05.041Z"
   },
   {
    "duration": 118,
    "start_time": "2024-10-24T08:50:05.046Z"
   },
   {
    "duration": 12,
    "start_time": "2024-10-24T08:50:05.167Z"
   },
   {
    "duration": 37,
    "start_time": "2024-10-24T08:50:05.181Z"
   },
   {
    "duration": 30,
    "start_time": "2024-10-24T08:50:05.219Z"
   },
   {
    "duration": 14,
    "start_time": "2024-10-24T08:50:05.250Z"
   },
   {
    "duration": 45,
    "start_time": "2024-10-24T08:50:05.266Z"
   },
   {
    "duration": 36,
    "start_time": "2024-10-24T08:50:05.312Z"
   },
   {
    "duration": 478,
    "start_time": "2024-10-24T08:50:05.350Z"
   },
   {
    "duration": 407,
    "start_time": "2024-10-24T08:50:05.830Z"
   },
   {
    "duration": 522,
    "start_time": "2024-10-24T08:50:06.239Z"
   },
   {
    "duration": 1127,
    "start_time": "2024-10-24T08:50:06.764Z"
   },
   {
    "duration": 1082,
    "start_time": "2024-10-24T08:53:55.943Z"
   },
   {
    "duration": 124,
    "start_time": "2024-10-24T09:03:44.069Z"
   },
   {
    "duration": 10441,
    "start_time": "2024-10-24T09:03:53.300Z"
   },
   {
    "duration": 1188,
    "start_time": "2024-10-24T09:05:24.580Z"
   },
   {
    "duration": 1170,
    "start_time": "2024-10-24T09:06:48.415Z"
   },
   {
    "duration": 1138,
    "start_time": "2024-10-24T09:12:05.788Z"
   },
   {
    "duration": 2288,
    "start_time": "2024-10-24T09:14:29.203Z"
   },
   {
    "duration": 1612,
    "start_time": "2024-10-24T09:19:38.483Z"
   },
   {
    "duration": 43,
    "start_time": "2024-10-24T09:19:40.097Z"
   },
   {
    "duration": 4,
    "start_time": "2024-10-24T09:19:40.142Z"
   },
   {
    "duration": 150,
    "start_time": "2024-10-24T09:19:40.148Z"
   },
   {
    "duration": 36,
    "start_time": "2024-10-24T09:19:40.299Z"
   },
   {
    "duration": 10,
    "start_time": "2024-10-24T09:19:40.338Z"
   },
   {
    "duration": 12,
    "start_time": "2024-10-24T09:19:40.349Z"
   },
   {
    "duration": 12,
    "start_time": "2024-10-24T09:19:40.362Z"
   },
   {
    "duration": 72,
    "start_time": "2024-10-24T09:19:40.376Z"
   },
   {
    "duration": 28,
    "start_time": "2024-10-24T09:19:40.451Z"
   },
   {
    "duration": 556,
    "start_time": "2024-10-24T09:19:40.481Z"
   },
   {
    "duration": 541,
    "start_time": "2024-10-24T09:19:41.039Z"
   },
   {
    "duration": 628,
    "start_time": "2024-10-24T09:19:41.582Z"
   },
   {
    "duration": 1322,
    "start_time": "2024-10-24T09:19:42.212Z"
   },
   {
    "duration": 3,
    "start_time": "2024-10-24T09:19:43.536Z"
   },
   {
    "duration": 1249,
    "start_time": "2024-10-24T09:19:43.542Z"
   },
   {
    "duration": 1359,
    "start_time": "2024-10-24T09:19:44.792Z"
   },
   {
    "duration": 9,
    "start_time": "2024-10-24T09:20:38.309Z"
   },
   {
    "duration": 46,
    "start_time": "2024-10-24T09:20:38.320Z"
   },
   {
    "duration": 3,
    "start_time": "2024-10-24T09:20:38.368Z"
   },
   {
    "duration": 85,
    "start_time": "2024-10-24T09:20:38.373Z"
   },
   {
    "duration": 11,
    "start_time": "2024-10-24T09:20:38.460Z"
   },
   {
    "duration": 16,
    "start_time": "2024-10-24T09:20:38.473Z"
   },
   {
    "duration": 12,
    "start_time": "2024-10-24T09:20:38.521Z"
   },
   {
    "duration": 16,
    "start_time": "2024-10-24T09:20:38.535Z"
   },
   {
    "duration": 25,
    "start_time": "2024-10-24T09:20:38.552Z"
   },
   {
    "duration": 52,
    "start_time": "2024-10-24T09:20:38.579Z"
   },
   {
    "duration": 518,
    "start_time": "2024-10-24T09:20:38.632Z"
   },
   {
    "duration": 435,
    "start_time": "2024-10-24T09:20:39.152Z"
   },
   {
    "duration": 592,
    "start_time": "2024-10-24T09:20:39.589Z"
   },
   {
    "duration": 1272,
    "start_time": "2024-10-24T09:20:40.182Z"
   },
   {
    "duration": 2,
    "start_time": "2024-10-24T09:20:41.455Z"
   },
   {
    "duration": 1203,
    "start_time": "2024-10-24T09:20:41.459Z"
   },
   {
    "duration": 1420,
    "start_time": "2024-10-24T09:20:59.914Z"
   },
   {
    "duration": 1287,
    "start_time": "2024-10-24T09:23:18.633Z"
   },
   {
    "duration": 1331,
    "start_time": "2024-10-24T09:24:23.480Z"
   },
   {
    "duration": 130,
    "start_time": "2024-10-24T09:27:19.208Z"
   },
   {
    "duration": 1187,
    "start_time": "2024-10-24T09:27:36.897Z"
   },
   {
    "duration": 1152,
    "start_time": "2024-10-24T09:29:16.056Z"
   },
   {
    "duration": 0,
    "start_time": "2024-10-24T12:52:12.002Z"
   },
   {
    "duration": 0,
    "start_time": "2024-10-24T12:52:12.003Z"
   },
   {
    "duration": 0,
    "start_time": "2024-10-24T12:52:12.004Z"
   },
   {
    "duration": 0,
    "start_time": "2024-10-24T12:52:12.006Z"
   },
   {
    "duration": 0,
    "start_time": "2024-10-24T12:52:12.007Z"
   },
   {
    "duration": 0,
    "start_time": "2024-10-24T12:52:12.008Z"
   },
   {
    "duration": 0,
    "start_time": "2024-10-24T12:52:12.009Z"
   },
   {
    "duration": 0,
    "start_time": "2024-10-24T12:52:12.010Z"
   },
   {
    "duration": 0,
    "start_time": "2024-10-24T12:52:12.012Z"
   },
   {
    "duration": 0,
    "start_time": "2024-10-24T12:52:12.013Z"
   },
   {
    "duration": 0,
    "start_time": "2024-10-24T12:52:12.015Z"
   },
   {
    "duration": 0,
    "start_time": "2024-10-24T12:52:12.016Z"
   },
   {
    "duration": 0,
    "start_time": "2024-10-24T12:52:12.018Z"
   },
   {
    "duration": 0,
    "start_time": "2024-10-24T12:52:12.019Z"
   },
   {
    "duration": 0,
    "start_time": "2024-10-24T12:52:12.020Z"
   },
   {
    "duration": 0,
    "start_time": "2024-10-24T12:52:12.021Z"
   },
   {
    "duration": 0,
    "start_time": "2024-10-24T12:52:12.022Z"
   },
   {
    "duration": 0,
    "start_time": "2024-10-24T12:52:12.023Z"
   },
   {
    "duration": 0,
    "start_time": "2024-10-24T12:54:34.721Z"
   },
   {
    "duration": 0,
    "start_time": "2024-10-24T12:54:34.723Z"
   },
   {
    "duration": 0,
    "start_time": "2024-10-24T12:54:34.724Z"
   },
   {
    "duration": 0,
    "start_time": "2024-10-24T12:54:34.726Z"
   },
   {
    "duration": 0,
    "start_time": "2024-10-24T12:54:34.727Z"
   },
   {
    "duration": 0,
    "start_time": "2024-10-24T12:54:34.732Z"
   },
   {
    "duration": 0,
    "start_time": "2024-10-24T12:54:34.734Z"
   },
   {
    "duration": 0,
    "start_time": "2024-10-24T12:54:34.735Z"
   },
   {
    "duration": 1,
    "start_time": "2024-10-24T12:54:34.736Z"
   },
   {
    "duration": 0,
    "start_time": "2024-10-24T12:54:34.738Z"
   },
   {
    "duration": 0,
    "start_time": "2024-10-24T12:54:34.739Z"
   },
   {
    "duration": 0,
    "start_time": "2024-10-24T12:54:34.741Z"
   },
   {
    "duration": 0,
    "start_time": "2024-10-24T12:54:34.742Z"
   },
   {
    "duration": 0,
    "start_time": "2024-10-24T12:54:34.743Z"
   },
   {
    "duration": 0,
    "start_time": "2024-10-24T12:54:34.800Z"
   },
   {
    "duration": 0,
    "start_time": "2024-10-24T12:54:34.802Z"
   },
   {
    "duration": 0,
    "start_time": "2024-10-24T12:54:34.803Z"
   },
   {
    "duration": 0,
    "start_time": "2024-10-24T12:54:34.804Z"
   },
   {
    "duration": 12,
    "start_time": "2024-10-24T12:55:03.466Z"
   },
   {
    "duration": 0,
    "start_time": "2024-10-24T12:57:00.739Z"
   },
   {
    "duration": 0,
    "start_time": "2024-10-24T12:57:00.740Z"
   },
   {
    "duration": 0,
    "start_time": "2024-10-24T12:57:00.741Z"
   },
   {
    "duration": 0,
    "start_time": "2024-10-24T12:57:00.742Z"
   },
   {
    "duration": 0,
    "start_time": "2024-10-24T12:57:00.743Z"
   },
   {
    "duration": 0,
    "start_time": "2024-10-24T12:57:00.744Z"
   },
   {
    "duration": 0,
    "start_time": "2024-10-24T12:57:00.745Z"
   },
   {
    "duration": 0,
    "start_time": "2024-10-24T12:57:00.747Z"
   },
   {
    "duration": 0,
    "start_time": "2024-10-24T12:57:00.747Z"
   },
   {
    "duration": 0,
    "start_time": "2024-10-24T12:57:00.748Z"
   },
   {
    "duration": 0,
    "start_time": "2024-10-24T12:57:00.749Z"
   },
   {
    "duration": 0,
    "start_time": "2024-10-24T12:57:00.751Z"
   },
   {
    "duration": 0,
    "start_time": "2024-10-24T12:57:00.752Z"
   },
   {
    "duration": 1,
    "start_time": "2024-10-24T12:57:00.800Z"
   },
   {
    "duration": 0,
    "start_time": "2024-10-24T12:57:00.802Z"
   },
   {
    "duration": 0,
    "start_time": "2024-10-24T12:57:00.803Z"
   },
   {
    "duration": 0,
    "start_time": "2024-10-24T12:57:00.804Z"
   },
   {
    "duration": 0,
    "start_time": "2024-10-24T12:57:00.806Z"
   },
   {
    "duration": 15,
    "start_time": "2024-10-24T12:57:20.144Z"
   },
   {
    "duration": 68,
    "start_time": "2024-10-24T12:59:16.042Z"
   },
   {
    "duration": 18,
    "start_time": "2024-10-24T12:59:59.960Z"
   },
   {
    "duration": 13,
    "start_time": "2024-10-24T13:01:33.172Z"
   },
   {
    "duration": 1586,
    "start_time": "2024-10-24T13:21:15.921Z"
   },
   {
    "duration": 160,
    "start_time": "2024-10-24T13:21:17.509Z"
   },
   {
    "duration": 3,
    "start_time": "2024-10-24T13:21:17.671Z"
   },
   {
    "duration": 125,
    "start_time": "2024-10-24T13:21:17.676Z"
   },
   {
    "duration": 12,
    "start_time": "2024-10-24T13:21:17.803Z"
   },
   {
    "duration": 19,
    "start_time": "2024-10-24T13:21:17.817Z"
   },
   {
    "duration": 10,
    "start_time": "2024-10-24T13:21:17.838Z"
   },
   {
    "duration": 13,
    "start_time": "2024-10-24T13:21:17.850Z"
   },
   {
    "duration": 50,
    "start_time": "2024-10-24T13:21:17.865Z"
   },
   {
    "duration": 30,
    "start_time": "2024-10-24T13:21:17.917Z"
   },
   {
    "duration": 439,
    "start_time": "2024-10-24T13:21:17.949Z"
   },
   {
    "duration": 482,
    "start_time": "2024-10-24T13:21:18.390Z"
   },
   {
    "duration": 570,
    "start_time": "2024-10-24T13:21:18.874Z"
   },
   {
    "duration": 1073,
    "start_time": "2024-10-24T13:21:19.445Z"
   },
   {
    "duration": 1046,
    "start_time": "2024-10-24T13:21:20.520Z"
   },
   {
    "duration": 1089,
    "start_time": "2024-10-24T13:21:21.567Z"
   },
   {
    "duration": 1133,
    "start_time": "2024-10-24T13:21:22.658Z"
   },
   {
    "duration": 114,
    "start_time": "2024-10-24T13:22:26.091Z"
   },
   {
    "duration": 3704,
    "start_time": "2024-10-24T13:40:51.070Z"
   },
   {
    "duration": 33,
    "start_time": "2024-10-24T13:42:02.227Z"
   },
   {
    "duration": 371,
    "start_time": "2024-10-24T13:42:33.569Z"
   },
   {
    "duration": 29,
    "start_time": "2024-10-24T14:14:29.149Z"
   },
   {
    "duration": 60,
    "start_time": "2024-10-25T09:15:31.650Z"
   },
   {
    "duration": 0,
    "start_time": "2024-10-25T09:15:52.036Z"
   },
   {
    "duration": 0,
    "start_time": "2024-10-25T09:15:52.037Z"
   },
   {
    "duration": 0,
    "start_time": "2024-10-25T09:15:52.039Z"
   },
   {
    "duration": 0,
    "start_time": "2024-10-25T09:15:52.040Z"
   },
   {
    "duration": 0,
    "start_time": "2024-10-25T09:15:52.041Z"
   },
   {
    "duration": 0,
    "start_time": "2024-10-25T09:15:52.042Z"
   },
   {
    "duration": 0,
    "start_time": "2024-10-25T09:15:52.043Z"
   },
   {
    "duration": 0,
    "start_time": "2024-10-25T09:15:52.044Z"
   },
   {
    "duration": 0,
    "start_time": "2024-10-25T09:15:52.046Z"
   },
   {
    "duration": 0,
    "start_time": "2024-10-25T09:15:52.047Z"
   },
   {
    "duration": 0,
    "start_time": "2024-10-25T09:15:52.049Z"
   },
   {
    "duration": 0,
    "start_time": "2024-10-25T09:15:52.050Z"
   },
   {
    "duration": 0,
    "start_time": "2024-10-25T09:15:52.051Z"
   },
   {
    "duration": 0,
    "start_time": "2024-10-25T09:15:52.052Z"
   },
   {
    "duration": 0,
    "start_time": "2024-10-25T09:15:52.054Z"
   },
   {
    "duration": 1,
    "start_time": "2024-10-25T09:15:52.055Z"
   },
   {
    "duration": 0,
    "start_time": "2024-10-25T09:15:52.057Z"
   },
   {
    "duration": 0,
    "start_time": "2024-10-25T09:15:52.059Z"
   },
   {
    "duration": 0,
    "start_time": "2024-10-25T09:15:52.060Z"
   },
   {
    "duration": 0,
    "start_time": "2024-10-25T09:15:52.062Z"
   },
   {
    "duration": 0,
    "start_time": "2024-10-25T09:15:52.063Z"
   },
   {
    "duration": 0,
    "start_time": "2024-10-25T09:15:52.064Z"
   },
   {
    "duration": 0,
    "start_time": "2024-10-25T09:16:13.451Z"
   },
   {
    "duration": 0,
    "start_time": "2024-10-25T09:16:13.452Z"
   },
   {
    "duration": 0,
    "start_time": "2024-10-25T09:16:13.453Z"
   },
   {
    "duration": 0,
    "start_time": "2024-10-25T09:16:13.454Z"
   },
   {
    "duration": 0,
    "start_time": "2024-10-25T09:16:13.455Z"
   },
   {
    "duration": 1,
    "start_time": "2024-10-25T09:16:13.456Z"
   },
   {
    "duration": 0,
    "start_time": "2024-10-25T09:16:13.457Z"
   },
   {
    "duration": 0,
    "start_time": "2024-10-25T09:16:13.458Z"
   },
   {
    "duration": 0,
    "start_time": "2024-10-25T09:16:13.460Z"
   },
   {
    "duration": 0,
    "start_time": "2024-10-25T09:16:13.460Z"
   },
   {
    "duration": 0,
    "start_time": "2024-10-25T09:16:13.462Z"
   },
   {
    "duration": 0,
    "start_time": "2024-10-25T09:16:13.463Z"
   },
   {
    "duration": 0,
    "start_time": "2024-10-25T09:16:13.464Z"
   },
   {
    "duration": 0,
    "start_time": "2024-10-25T09:16:13.465Z"
   },
   {
    "duration": 0,
    "start_time": "2024-10-25T09:16:13.466Z"
   },
   {
    "duration": 0,
    "start_time": "2024-10-25T09:16:13.467Z"
   },
   {
    "duration": 0,
    "start_time": "2024-10-25T09:16:13.468Z"
   },
   {
    "duration": 0,
    "start_time": "2024-10-25T09:16:13.469Z"
   },
   {
    "duration": 0,
    "start_time": "2024-10-25T09:16:13.470Z"
   },
   {
    "duration": 0,
    "start_time": "2024-10-25T09:16:13.471Z"
   },
   {
    "duration": 0,
    "start_time": "2024-10-25T09:16:13.472Z"
   },
   {
    "duration": 0,
    "start_time": "2024-10-25T09:16:13.473Z"
   },
   {
    "duration": 5,
    "start_time": "2024-10-25T09:16:25.159Z"
   },
   {
    "duration": 43,
    "start_time": "2024-10-25T09:16:29.880Z"
   },
   {
    "duration": 3,
    "start_time": "2024-10-25T09:16:32.798Z"
   },
   {
    "duration": 78,
    "start_time": "2024-10-25T09:16:36.311Z"
   },
   {
    "duration": 16,
    "start_time": "2024-10-25T09:16:43.447Z"
   },
   {
    "duration": 9,
    "start_time": "2024-10-25T09:16:48.119Z"
   },
   {
    "duration": 11,
    "start_time": "2024-10-25T09:16:53.208Z"
   },
   {
    "duration": 12,
    "start_time": "2024-10-25T09:16:55.937Z"
   },
   {
    "duration": 22,
    "start_time": "2024-10-25T09:17:02.629Z"
   },
   {
    "duration": 31,
    "start_time": "2024-10-25T09:17:07.541Z"
   },
   {
    "duration": 460,
    "start_time": "2024-10-25T09:17:13.571Z"
   },
   {
    "duration": 405,
    "start_time": "2024-10-25T09:17:18.823Z"
   },
   {
    "duration": 563,
    "start_time": "2024-10-25T09:17:23.223Z"
   },
   {
    "duration": 1397,
    "start_time": "2024-10-25T09:17:29.330Z"
   },
   {
    "duration": 1122,
    "start_time": "2024-10-25T09:17:37.375Z"
   },
   {
    "duration": 1181,
    "start_time": "2024-10-25T09:17:51.577Z"
   },
   {
    "duration": 1277,
    "start_time": "2024-10-25T09:18:05.527Z"
   },
   {
    "duration": 67,
    "start_time": "2024-10-25T09:18:14.232Z"
   },
   {
    "duration": 66,
    "start_time": "2024-10-25T09:18:31.305Z"
   },
   {
    "duration": 125,
    "start_time": "2024-10-25T09:18:35.908Z"
   },
   {
    "duration": 13,
    "start_time": "2024-10-25T09:18:54.483Z"
   },
   {
    "duration": 26,
    "start_time": "2024-10-25T09:18:59.631Z"
   },
   {
    "duration": 13,
    "start_time": "2024-10-25T09:19:05.903Z"
   },
   {
    "duration": 14,
    "start_time": "2024-10-25T09:44:02.543Z"
   },
   {
    "duration": 14,
    "start_time": "2024-10-25T09:44:15.247Z"
   },
   {
    "duration": 21,
    "start_time": "2024-10-25T09:45:01.686Z"
   },
   {
    "duration": 25,
    "start_time": "2024-10-25T09:49:43.823Z"
   },
   {
    "duration": 21,
    "start_time": "2024-10-25T09:50:29.121Z"
   },
   {
    "duration": 169,
    "start_time": "2024-10-26T17:20:49.872Z"
   },
   {
    "duration": 56,
    "start_time": "2024-10-26T17:21:53.244Z"
   },
   {
    "duration": 1642,
    "start_time": "2024-10-26T17:22:10.121Z"
   },
   {
    "duration": 148,
    "start_time": "2024-10-26T17:22:11.765Z"
   },
   {
    "duration": 3,
    "start_time": "2024-10-26T17:22:11.914Z"
   },
   {
    "duration": 120,
    "start_time": "2024-10-26T17:22:11.918Z"
   },
   {
    "duration": 10,
    "start_time": "2024-10-26T17:22:12.039Z"
   },
   {
    "duration": 7,
    "start_time": "2024-10-26T17:22:12.050Z"
   },
   {
    "duration": 13,
    "start_time": "2024-10-26T17:22:12.058Z"
   },
   {
    "duration": 9,
    "start_time": "2024-10-26T17:22:12.072Z"
   },
   {
    "duration": 33,
    "start_time": "2024-10-26T17:22:12.082Z"
   },
   {
    "duration": 23,
    "start_time": "2024-10-26T17:22:12.116Z"
   },
   {
    "duration": 450,
    "start_time": "2024-10-26T17:22:12.141Z"
   },
   {
    "duration": 373,
    "start_time": "2024-10-26T17:22:12.592Z"
   },
   {
    "duration": 460,
    "start_time": "2024-10-26T17:22:12.966Z"
   },
   {
    "duration": 929,
    "start_time": "2024-10-26T17:22:13.427Z"
   },
   {
    "duration": 1001,
    "start_time": "2024-10-26T17:22:14.357Z"
   },
   {
    "duration": 992,
    "start_time": "2024-10-26T17:22:15.360Z"
   },
   {
    "duration": 1015,
    "start_time": "2024-10-26T17:22:16.354Z"
   },
   {
    "duration": 61,
    "start_time": "2024-10-26T17:22:17.371Z"
   },
   {
    "duration": 0,
    "start_time": "2024-10-26T17:22:17.434Z"
   },
   {
    "duration": 0,
    "start_time": "2024-10-26T17:22:17.434Z"
   },
   {
    "duration": 0,
    "start_time": "2024-10-26T17:22:17.435Z"
   },
   {
    "duration": 0,
    "start_time": "2024-10-26T17:22:17.436Z"
   },
   {
    "duration": 19,
    "start_time": "2024-10-26T17:23:04.199Z"
   },
   {
    "duration": 130,
    "start_time": "2024-10-26T17:23:15.031Z"
   },
   {
    "duration": 16,
    "start_time": "2024-10-26T17:24:30.699Z"
   },
   {
    "duration": 47,
    "start_time": "2024-10-26T18:54:38.564Z"
   },
   {
    "duration": 1751,
    "start_time": "2024-10-26T18:54:52.017Z"
   },
   {
    "duration": 168,
    "start_time": "2024-10-26T18:54:53.770Z"
   },
   {
    "duration": 3,
    "start_time": "2024-10-26T18:54:53.940Z"
   },
   {
    "duration": 180,
    "start_time": "2024-10-26T18:54:53.946Z"
   },
   {
    "duration": 23,
    "start_time": "2024-10-26T18:54:54.128Z"
   },
   {
    "duration": 12,
    "start_time": "2024-10-26T18:54:54.153Z"
   },
   {
    "duration": 9,
    "start_time": "2024-10-26T18:54:54.166Z"
   },
   {
    "duration": 13,
    "start_time": "2024-10-26T18:54:54.176Z"
   },
   {
    "duration": 58,
    "start_time": "2024-10-26T18:54:54.191Z"
   },
   {
    "duration": 29,
    "start_time": "2024-10-26T18:54:54.254Z"
   },
   {
    "duration": 604,
    "start_time": "2024-10-26T18:54:54.285Z"
   },
   {
    "duration": 424,
    "start_time": "2024-10-26T18:54:54.892Z"
   },
   {
    "duration": 563,
    "start_time": "2024-10-26T18:54:55.318Z"
   },
   {
    "duration": 1276,
    "start_time": "2024-10-26T18:54:55.883Z"
   },
   {
    "duration": 1353,
    "start_time": "2024-10-26T18:54:57.161Z"
   },
   {
    "duration": 1298,
    "start_time": "2024-10-26T18:54:58.516Z"
   },
   {
    "duration": 1339,
    "start_time": "2024-10-26T18:54:59.816Z"
   },
   {
    "duration": 90,
    "start_time": "2024-10-26T18:55:01.158Z"
   },
   {
    "duration": 0,
    "start_time": "2024-10-26T18:55:01.250Z"
   },
   {
    "duration": 0,
    "start_time": "2024-10-26T18:55:01.251Z"
   },
   {
    "duration": 0,
    "start_time": "2024-10-26T18:55:01.252Z"
   },
   {
    "duration": 0,
    "start_time": "2024-10-26T18:55:01.254Z"
   },
   {
    "duration": 23,
    "start_time": "2024-10-26T18:56:32.269Z"
   },
   {
    "duration": 22,
    "start_time": "2024-10-26T18:56:43.304Z"
   },
   {
    "duration": 23,
    "start_time": "2024-10-26T18:58:43.061Z"
   },
   {
    "duration": 127,
    "start_time": "2024-10-26T19:01:11.361Z"
   },
   {
    "duration": 30,
    "start_time": "2024-10-26T19:02:23.728Z"
   },
   {
    "duration": 0,
    "start_time": "2024-10-28T09:03:42.088Z"
   },
   {
    "duration": 0,
    "start_time": "2024-10-28T09:03:42.090Z"
   },
   {
    "duration": 0,
    "start_time": "2024-10-28T09:03:42.091Z"
   },
   {
    "duration": 0,
    "start_time": "2024-10-28T09:03:42.092Z"
   },
   {
    "duration": 0,
    "start_time": "2024-10-28T09:03:42.094Z"
   },
   {
    "duration": 0,
    "start_time": "2024-10-28T09:03:42.095Z"
   },
   {
    "duration": 0,
    "start_time": "2024-10-28T09:03:42.096Z"
   },
   {
    "duration": 0,
    "start_time": "2024-10-28T09:03:42.098Z"
   },
   {
    "duration": 0,
    "start_time": "2024-10-28T09:03:42.099Z"
   },
   {
    "duration": 0,
    "start_time": "2024-10-28T09:03:42.100Z"
   },
   {
    "duration": 0,
    "start_time": "2024-10-28T09:03:42.102Z"
   },
   {
    "duration": 0,
    "start_time": "2024-10-28T09:03:42.103Z"
   },
   {
    "duration": 0,
    "start_time": "2024-10-28T09:03:42.104Z"
   },
   {
    "duration": 0,
    "start_time": "2024-10-28T09:03:42.105Z"
   },
   {
    "duration": 0,
    "start_time": "2024-10-28T09:03:42.107Z"
   },
   {
    "duration": 0,
    "start_time": "2024-10-28T09:03:42.108Z"
   },
   {
    "duration": 0,
    "start_time": "2024-10-28T09:03:42.109Z"
   },
   {
    "duration": 0,
    "start_time": "2024-10-28T09:03:42.110Z"
   },
   {
    "duration": 0,
    "start_time": "2024-10-28T09:03:42.111Z"
   },
   {
    "duration": 0,
    "start_time": "2024-10-28T09:03:42.112Z"
   },
   {
    "duration": 0,
    "start_time": "2024-10-28T09:03:42.113Z"
   },
   {
    "duration": 0,
    "start_time": "2024-10-28T09:03:42.114Z"
   },
   {
    "duration": 1599,
    "start_time": "2024-10-28T09:04:05.616Z"
   },
   {
    "duration": 42,
    "start_time": "2024-10-28T09:04:07.218Z"
   },
   {
    "duration": 2,
    "start_time": "2024-10-28T09:04:07.262Z"
   },
   {
    "duration": 139,
    "start_time": "2024-10-28T09:04:07.266Z"
   },
   {
    "duration": 19,
    "start_time": "2024-10-28T09:04:07.407Z"
   },
   {
    "duration": 30,
    "start_time": "2024-10-28T09:04:07.427Z"
   },
   {
    "duration": 23,
    "start_time": "2024-10-28T09:04:07.458Z"
   },
   {
    "duration": 22,
    "start_time": "2024-10-28T09:04:07.483Z"
   },
   {
    "duration": 23,
    "start_time": "2024-10-28T09:04:07.507Z"
   },
   {
    "duration": 31,
    "start_time": "2024-10-28T09:04:07.533Z"
   },
   {
    "duration": 466,
    "start_time": "2024-10-28T09:04:07.566Z"
   },
   {
    "duration": 464,
    "start_time": "2024-10-28T09:04:08.034Z"
   },
   {
    "duration": 562,
    "start_time": "2024-10-28T09:04:08.500Z"
   },
   {
    "duration": 1221,
    "start_time": "2024-10-28T09:04:09.064Z"
   },
   {
    "duration": 1206,
    "start_time": "2024-10-28T09:04:10.287Z"
   },
   {
    "duration": 1204,
    "start_time": "2024-10-28T09:04:11.495Z"
   },
   {
    "duration": 1289,
    "start_time": "2024-10-28T09:04:12.701Z"
   },
   {
    "duration": 68,
    "start_time": "2024-10-28T09:04:13.992Z"
   },
   {
    "duration": 0,
    "start_time": "2024-10-28T09:04:14.061Z"
   },
   {
    "duration": 1,
    "start_time": "2024-10-28T09:04:14.062Z"
   },
   {
    "duration": 0,
    "start_time": "2024-10-28T09:04:14.064Z"
   },
   {
    "duration": 0,
    "start_time": "2024-10-28T09:04:14.065Z"
   },
   {
    "duration": 1637,
    "start_time": "2024-10-28T11:31:07.860Z"
   },
   {
    "duration": 50,
    "start_time": "2024-10-28T11:31:09.499Z"
   },
   {
    "duration": 3,
    "start_time": "2024-10-28T11:31:09.551Z"
   },
   {
    "duration": 139,
    "start_time": "2024-10-28T11:31:09.556Z"
   },
   {
    "duration": 23,
    "start_time": "2024-10-28T11:31:09.697Z"
   },
   {
    "duration": 15,
    "start_time": "2024-10-28T11:31:09.722Z"
   },
   {
    "duration": 19,
    "start_time": "2024-10-28T11:31:09.739Z"
   },
   {
    "duration": 14,
    "start_time": "2024-10-28T11:31:09.760Z"
   },
   {
    "duration": 23,
    "start_time": "2024-10-28T11:31:09.776Z"
   },
   {
    "duration": 35,
    "start_time": "2024-10-28T11:31:09.822Z"
   },
   {
    "duration": 480,
    "start_time": "2024-10-28T11:31:09.859Z"
   },
   {
    "duration": 517,
    "start_time": "2024-10-28T11:31:10.341Z"
   },
   {
    "duration": 572,
    "start_time": "2024-10-28T11:31:10.860Z"
   },
   {
    "duration": 1246,
    "start_time": "2024-10-28T11:31:11.436Z"
   },
   {
    "duration": 1317,
    "start_time": "2024-10-28T11:31:12.684Z"
   },
   {
    "duration": 1190,
    "start_time": "2024-10-28T11:31:14.003Z"
   },
   {
    "duration": 1338,
    "start_time": "2024-10-28T11:31:15.195Z"
   },
   {
    "duration": 248,
    "start_time": "2024-10-28T11:31:16.534Z"
   },
   {
    "duration": 0,
    "start_time": "2024-10-28T11:31:16.784Z"
   },
   {
    "duration": 0,
    "start_time": "2024-10-28T11:31:16.785Z"
   },
   {
    "duration": 0,
    "start_time": "2024-10-28T11:31:16.787Z"
   },
   {
    "duration": 0,
    "start_time": "2024-10-28T11:31:16.788Z"
   },
   {
    "duration": 121,
    "start_time": "2024-10-28T11:31:29.120Z"
   },
   {
    "duration": 1138,
    "start_time": "2024-10-28T11:48:16.713Z"
   },
   {
    "duration": 1694,
    "start_time": "2024-10-28T13:14:42.016Z"
   },
   {
    "duration": 47,
    "start_time": "2024-10-28T13:14:43.712Z"
   },
   {
    "duration": 4,
    "start_time": "2024-10-28T13:14:43.761Z"
   },
   {
    "duration": 137,
    "start_time": "2024-10-28T13:14:43.767Z"
   },
   {
    "duration": 26,
    "start_time": "2024-10-28T13:14:43.907Z"
   },
   {
    "duration": 9,
    "start_time": "2024-10-28T13:14:43.935Z"
   },
   {
    "duration": 14,
    "start_time": "2024-10-28T13:14:43.946Z"
   },
   {
    "duration": 12,
    "start_time": "2024-10-28T13:14:43.961Z"
   },
   {
    "duration": 53,
    "start_time": "2024-10-28T13:14:43.975Z"
   },
   {
    "duration": 28,
    "start_time": "2024-10-28T13:14:44.031Z"
   },
   {
    "duration": 435,
    "start_time": "2024-10-28T13:14:44.061Z"
   },
   {
    "duration": 507,
    "start_time": "2024-10-28T13:14:44.498Z"
   },
   {
    "duration": 633,
    "start_time": "2024-10-28T13:14:45.007Z"
   },
   {
    "duration": 1241,
    "start_time": "2024-10-28T13:14:45.644Z"
   },
   {
    "duration": 1272,
    "start_time": "2024-10-28T13:14:46.886Z"
   },
   {
    "duration": 1225,
    "start_time": "2024-10-28T13:14:48.160Z"
   },
   {
    "duration": 1309,
    "start_time": "2024-10-28T13:14:49.386Z"
   },
   {
    "duration": 65,
    "start_time": "2024-10-28T13:14:50.696Z"
   },
   {
    "duration": 0,
    "start_time": "2024-10-28T13:14:50.762Z"
   },
   {
    "duration": 0,
    "start_time": "2024-10-28T13:14:50.764Z"
   },
   {
    "duration": 0,
    "start_time": "2024-10-28T13:14:50.765Z"
   },
   {
    "duration": 0,
    "start_time": "2024-10-28T13:14:50.766Z"
   },
   {
    "duration": 0,
    "start_time": "2024-10-28T13:14:50.767Z"
   },
   {
    "duration": 1116,
    "start_time": "2024-10-28T13:15:12.471Z"
   },
   {
    "duration": 23,
    "start_time": "2024-10-28T13:15:20.579Z"
   },
   {
    "duration": 23,
    "start_time": "2024-10-28T13:15:35.369Z"
   },
   {
    "duration": 765,
    "start_time": "2024-10-28T13:18:15.054Z"
   },
   {
    "duration": 121,
    "start_time": "2024-10-28T13:24:13.659Z"
   },
   {
    "duration": 9,
    "start_time": "2024-10-28T13:24:58.239Z"
   },
   {
    "duration": 15,
    "start_time": "2024-10-28T13:26:38.425Z"
   },
   {
    "duration": 25,
    "start_time": "2024-10-28T13:50:35.217Z"
   },
   {
    "duration": 17,
    "start_time": "2024-10-28T13:51:21.398Z"
   },
   {
    "duration": 224,
    "start_time": "2024-10-28T13:55:50.208Z"
   },
   {
    "duration": 30,
    "start_time": "2024-10-28T13:56:09.709Z"
   },
   {
    "duration": 55,
    "start_time": "2024-10-29T12:34:24.377Z"
   },
   {
    "duration": 1708,
    "start_time": "2024-10-29T12:34:48.373Z"
   },
   {
    "duration": 356,
    "start_time": "2024-10-29T12:34:50.084Z"
   },
   {
    "duration": 3,
    "start_time": "2024-10-29T12:34:50.442Z"
   },
   {
    "duration": 131,
    "start_time": "2024-10-29T12:34:50.447Z"
   },
   {
    "duration": 10,
    "start_time": "2024-10-29T12:34:50.580Z"
   },
   {
    "duration": 31,
    "start_time": "2024-10-29T12:34:50.592Z"
   },
   {
    "duration": 36,
    "start_time": "2024-10-29T12:34:50.625Z"
   },
   {
    "duration": 37,
    "start_time": "2024-10-29T12:34:50.662Z"
   },
   {
    "duration": 47,
    "start_time": "2024-10-29T12:34:50.701Z"
   },
   {
    "duration": 96,
    "start_time": "2024-10-29T12:34:50.751Z"
   },
   {
    "duration": 535,
    "start_time": "2024-10-29T12:34:50.848Z"
   },
   {
    "duration": 492,
    "start_time": "2024-10-29T12:34:51.384Z"
   },
   {
    "duration": 508,
    "start_time": "2024-10-29T12:34:51.877Z"
   },
   {
    "duration": 1163,
    "start_time": "2024-10-29T12:34:52.387Z"
   },
   {
    "duration": 1083,
    "start_time": "2024-10-29T12:34:53.552Z"
   },
   {
    "duration": 1049,
    "start_time": "2024-10-29T12:34:54.636Z"
   },
   {
    "duration": 1144,
    "start_time": "2024-10-29T12:34:55.687Z"
   },
   {
    "duration": 67,
    "start_time": "2024-10-29T12:34:56.833Z"
   },
   {
    "duration": 0,
    "start_time": "2024-10-29T12:34:56.902Z"
   },
   {
    "duration": 0,
    "start_time": "2024-10-29T12:34:56.903Z"
   },
   {
    "duration": 0,
    "start_time": "2024-10-29T12:34:56.904Z"
   },
   {
    "duration": 0,
    "start_time": "2024-10-29T12:34:56.905Z"
   },
   {
    "duration": 0,
    "start_time": "2024-10-29T12:34:56.906Z"
   },
   {
    "duration": 0,
    "start_time": "2024-10-29T12:34:56.907Z"
   },
   {
    "duration": 0,
    "start_time": "2024-10-29T12:34:56.908Z"
   },
   {
    "duration": 0,
    "start_time": "2024-10-29T12:34:56.909Z"
   },
   {
    "duration": 1031,
    "start_time": "2024-10-29T12:35:22.748Z"
   },
   {
    "duration": 23,
    "start_time": "2024-10-29T12:35:29.155Z"
   },
   {
    "duration": 700,
    "start_time": "2024-10-29T12:35:36.102Z"
   },
   {
    "duration": 11,
    "start_time": "2024-10-29T12:35:41.964Z"
   },
   {
    "duration": 16,
    "start_time": "2024-10-29T12:35:47.218Z"
   },
   {
    "duration": 411,
    "start_time": "2024-10-29T12:35:56.332Z"
   },
   {
    "duration": 63,
    "start_time": "2024-10-29T12:43:07.929Z"
   },
   {
    "duration": 75,
    "start_time": "2024-10-29T12:44:19.613Z"
   },
   {
    "duration": 1613,
    "start_time": "2024-10-29T13:19:16.894Z"
   },
   {
    "duration": 44,
    "start_time": "2024-10-29T13:19:18.508Z"
   },
   {
    "duration": 3,
    "start_time": "2024-10-29T13:19:18.554Z"
   },
   {
    "duration": 125,
    "start_time": "2024-10-29T13:19:18.559Z"
   },
   {
    "duration": 32,
    "start_time": "2024-10-29T13:19:18.687Z"
   },
   {
    "duration": 11,
    "start_time": "2024-10-29T13:19:18.721Z"
   },
   {
    "duration": 11,
    "start_time": "2024-10-29T13:19:18.734Z"
   },
   {
    "duration": 15,
    "start_time": "2024-10-29T13:19:18.746Z"
   },
   {
    "duration": 23,
    "start_time": "2024-10-29T13:19:18.762Z"
   },
   {
    "duration": 58,
    "start_time": "2024-10-29T13:19:18.786Z"
   },
   {
    "duration": 450,
    "start_time": "2024-10-29T13:19:18.846Z"
   },
   {
    "duration": 518,
    "start_time": "2024-10-29T13:19:19.298Z"
   },
   {
    "duration": 547,
    "start_time": "2024-10-29T13:19:19.817Z"
   },
   {
    "duration": 1111,
    "start_time": "2024-10-29T13:19:20.367Z"
   },
   {
    "duration": 1105,
    "start_time": "2024-10-29T13:19:21.480Z"
   },
   {
    "duration": 1197,
    "start_time": "2024-10-29T13:19:22.586Z"
   },
   {
    "duration": 1201,
    "start_time": "2024-10-29T13:19:23.784Z"
   },
   {
    "duration": 3,
    "start_time": "2024-10-29T13:19:24.986Z"
   },
   {
    "duration": 18,
    "start_time": "2024-10-29T13:19:24.990Z"
   },
   {
    "duration": 11,
    "start_time": "2024-10-29T13:19:25.009Z"
   },
   {
    "duration": 1066,
    "start_time": "2024-10-29T13:19:25.021Z"
   },
   {
    "duration": 24,
    "start_time": "2024-10-29T13:19:26.088Z"
   },
   {
    "duration": 696,
    "start_time": "2024-10-29T13:19:26.114Z"
   },
   {
    "duration": 15,
    "start_time": "2024-10-29T13:19:26.812Z"
   },
   {
    "duration": 17,
    "start_time": "2024-10-29T13:19:26.828Z"
   },
   {
    "duration": 91,
    "start_time": "2024-10-29T13:19:26.846Z"
   },
   {
    "duration": 1480,
    "start_time": "2024-10-29T13:21:44.235Z"
   },
   {
    "duration": 42,
    "start_time": "2024-10-29T13:21:45.718Z"
   },
   {
    "duration": 3,
    "start_time": "2024-10-29T13:21:45.762Z"
   },
   {
    "duration": 128,
    "start_time": "2024-10-29T13:21:45.767Z"
   },
   {
    "duration": 22,
    "start_time": "2024-10-29T13:21:45.896Z"
   },
   {
    "duration": 10,
    "start_time": "2024-10-29T13:21:45.920Z"
   },
   {
    "duration": 10,
    "start_time": "2024-10-29T13:21:45.932Z"
   },
   {
    "duration": 16,
    "start_time": "2024-10-29T13:21:45.943Z"
   },
   {
    "duration": 21,
    "start_time": "2024-10-29T13:21:45.961Z"
   },
   {
    "duration": 29,
    "start_time": "2024-10-29T13:21:46.018Z"
   },
   {
    "duration": 469,
    "start_time": "2024-10-29T13:21:46.049Z"
   },
   {
    "duration": 460,
    "start_time": "2024-10-29T13:21:46.520Z"
   },
   {
    "duration": 526,
    "start_time": "2024-10-29T13:21:46.981Z"
   },
   {
    "duration": 1170,
    "start_time": "2024-10-29T13:21:47.509Z"
   },
   {
    "duration": 1117,
    "start_time": "2024-10-29T13:21:48.681Z"
   },
   {
    "duration": 1160,
    "start_time": "2024-10-29T13:21:49.800Z"
   },
   {
    "duration": 1158,
    "start_time": "2024-10-29T13:21:50.962Z"
   },
   {
    "duration": 2,
    "start_time": "2024-10-29T13:21:52.122Z"
   },
   {
    "duration": 6,
    "start_time": "2024-10-29T13:21:52.126Z"
   },
   {
    "duration": 12,
    "start_time": "2024-10-29T13:21:52.134Z"
   },
   {
    "duration": 1092,
    "start_time": "2024-10-29T13:21:52.147Z"
   },
   {
    "duration": 24,
    "start_time": "2024-10-29T13:21:53.240Z"
   },
   {
    "duration": 727,
    "start_time": "2024-10-29T13:21:53.265Z"
   },
   {
    "duration": 12,
    "start_time": "2024-10-29T13:21:53.993Z"
   },
   {
    "duration": 28,
    "start_time": "2024-10-29T13:21:54.006Z"
   },
   {
    "duration": 97,
    "start_time": "2024-10-29T13:21:54.035Z"
   },
   {
    "duration": 44,
    "start_time": "2024-10-30T14:22:41.411Z"
   },
   {
    "duration": 1637,
    "start_time": "2024-10-30T14:22:54.991Z"
   },
   {
    "duration": 86,
    "start_time": "2024-10-30T14:22:56.631Z"
   },
   {
    "duration": 3,
    "start_time": "2024-10-30T14:22:56.719Z"
   },
   {
    "duration": 117,
    "start_time": "2024-10-30T14:22:56.723Z"
   },
   {
    "duration": 11,
    "start_time": "2024-10-30T14:22:56.842Z"
   },
   {
    "duration": 8,
    "start_time": "2024-10-30T14:22:56.854Z"
   },
   {
    "duration": 9,
    "start_time": "2024-10-30T14:22:56.863Z"
   },
   {
    "duration": 12,
    "start_time": "2024-10-30T14:22:56.895Z"
   },
   {
    "duration": 19,
    "start_time": "2024-10-30T14:22:56.908Z"
   },
   {
    "duration": 26,
    "start_time": "2024-10-30T14:22:56.929Z"
   },
   {
    "duration": 450,
    "start_time": "2024-10-30T14:22:56.956Z"
   },
   {
    "duration": 363,
    "start_time": "2024-10-30T14:22:57.407Z"
   },
   {
    "duration": 530,
    "start_time": "2024-10-30T14:22:57.771Z"
   },
   {
    "duration": 114,
    "start_time": "2024-10-30T14:22:58.303Z"
   },
   {
    "duration": 0,
    "start_time": "2024-10-30T14:22:58.419Z"
   },
   {
    "duration": 0,
    "start_time": "2024-10-30T14:22:58.420Z"
   },
   {
    "duration": 0,
    "start_time": "2024-10-30T14:22:58.421Z"
   },
   {
    "duration": 0,
    "start_time": "2024-10-30T14:22:58.422Z"
   },
   {
    "duration": 0,
    "start_time": "2024-10-30T14:22:58.423Z"
   },
   {
    "duration": 0,
    "start_time": "2024-10-30T14:22:58.424Z"
   },
   {
    "duration": 0,
    "start_time": "2024-10-30T14:22:58.425Z"
   },
   {
    "duration": 0,
    "start_time": "2024-10-30T14:22:58.426Z"
   },
   {
    "duration": 0,
    "start_time": "2024-10-30T14:22:58.427Z"
   },
   {
    "duration": 0,
    "start_time": "2024-10-30T14:22:58.428Z"
   },
   {
    "duration": 0,
    "start_time": "2024-10-30T14:22:58.429Z"
   },
   {
    "duration": 0,
    "start_time": "2024-10-30T14:22:58.430Z"
   },
   {
    "duration": 0,
    "start_time": "2024-10-30T14:22:58.430Z"
   },
   {
    "duration": 0,
    "start_time": "2024-10-30T14:22:58.431Z"
   },
   {
    "duration": 0,
    "start_time": "2024-10-30T14:22:58.432Z"
   },
   {
    "duration": 0,
    "start_time": "2024-10-30T14:22:58.433Z"
   },
   {
    "duration": 1154,
    "start_time": "2024-10-30T14:25:56.935Z"
   },
   {
    "duration": 41,
    "start_time": "2024-10-30T14:25:58.091Z"
   },
   {
    "duration": 3,
    "start_time": "2024-10-30T14:25:58.134Z"
   },
   {
    "duration": 114,
    "start_time": "2024-10-30T14:25:58.140Z"
   },
   {
    "duration": 10,
    "start_time": "2024-10-30T14:25:58.256Z"
   },
   {
    "duration": 30,
    "start_time": "2024-10-30T14:25:58.267Z"
   },
   {
    "duration": 9,
    "start_time": "2024-10-30T14:25:58.299Z"
   },
   {
    "duration": 11,
    "start_time": "2024-10-30T14:25:58.309Z"
   },
   {
    "duration": 19,
    "start_time": "2024-10-30T14:25:58.321Z"
   },
   {
    "duration": 27,
    "start_time": "2024-10-30T14:25:58.342Z"
   },
   {
    "duration": 427,
    "start_time": "2024-10-30T14:25:58.370Z"
   },
   {
    "duration": 345,
    "start_time": "2024-10-30T14:25:58.799Z"
   },
   {
    "duration": 479,
    "start_time": "2024-10-30T14:25:59.145Z"
   },
   {
    "duration": 1012,
    "start_time": "2024-10-30T14:25:59.625Z"
   },
   {
    "duration": 1019,
    "start_time": "2024-10-30T14:26:00.639Z"
   },
   {
    "duration": 1143,
    "start_time": "2024-10-30T14:26:01.659Z"
   },
   {
    "duration": 1100,
    "start_time": "2024-10-30T14:26:02.804Z"
   },
   {
    "duration": 2,
    "start_time": "2024-10-30T14:26:03.906Z"
   },
   {
    "duration": 9,
    "start_time": "2024-10-30T14:26:03.909Z"
   },
   {
    "duration": 5,
    "start_time": "2024-10-30T14:26:03.920Z"
   },
   {
    "duration": 18,
    "start_time": "2024-10-30T14:26:03.927Z"
   },
   {
    "duration": 985,
    "start_time": "2024-10-30T14:26:03.947Z"
   },
   {
    "duration": 22,
    "start_time": "2024-10-30T14:26:04.933Z"
   },
   {
    "duration": 10,
    "start_time": "2024-10-30T14:26:04.956Z"
   },
   {
    "duration": 549,
    "start_time": "2024-10-30T14:26:04.967Z"
   },
   {
    "duration": 5,
    "start_time": "2024-10-30T14:26:05.517Z"
   },
   {
    "duration": 35,
    "start_time": "2024-10-30T14:26:05.524Z"
   },
   {
    "duration": 21,
    "start_time": "2024-10-30T14:26:05.562Z"
   },
   {
    "duration": 11,
    "start_time": "2024-10-30T14:26:05.585Z"
   },
   {
    "duration": 69,
    "start_time": "2024-10-30T14:26:05.597Z"
   },
   {
    "duration": 1641,
    "start_time": "2024-10-31T08:43:59.424Z"
   },
   {
    "duration": 4,
    "start_time": "2024-10-31T08:46:23.460Z"
   },
   {
    "duration": 12,
    "start_time": "2024-10-31T09:02:29.752Z"
   },
   {
    "duration": 1216,
    "start_time": "2024-10-31T09:06:17.470Z"
   },
   {
    "duration": 160,
    "start_time": "2024-10-31T09:06:18.688Z"
   },
   {
    "duration": 3,
    "start_time": "2024-10-31T09:06:18.850Z"
   },
   {
    "duration": 130,
    "start_time": "2024-10-31T09:06:18.855Z"
   },
   {
    "duration": 12,
    "start_time": "2024-10-31T09:06:18.986Z"
   },
   {
    "duration": 11,
    "start_time": "2024-10-31T09:06:18.999Z"
   },
   {
    "duration": 10,
    "start_time": "2024-10-31T09:06:19.012Z"
   },
   {
    "duration": 1052,
    "start_time": "2024-10-31T09:06:19.023Z"
   },
   {
    "duration": 10,
    "start_time": "2024-10-31T09:06:20.077Z"
   },
   {
    "duration": 53,
    "start_time": "2024-10-31T09:06:20.089Z"
   },
   {
    "duration": 38,
    "start_time": "2024-10-31T09:06:20.144Z"
   },
   {
    "duration": 54,
    "start_time": "2024-10-31T09:06:20.184Z"
   },
   {
    "duration": 417,
    "start_time": "2024-10-31T09:06:20.240Z"
   },
   {
    "duration": 406,
    "start_time": "2024-10-31T09:06:20.659Z"
   },
   {
    "duration": 602,
    "start_time": "2024-10-31T09:06:21.067Z"
   },
   {
    "duration": 1128,
    "start_time": "2024-10-31T09:06:21.671Z"
   },
   {
    "duration": 1083,
    "start_time": "2024-10-31T09:06:22.801Z"
   },
   {
    "duration": 1103,
    "start_time": "2024-10-31T09:06:23.887Z"
   },
   {
    "duration": 1116,
    "start_time": "2024-10-31T09:06:24.993Z"
   },
   {
    "duration": 3,
    "start_time": "2024-10-31T09:06:26.111Z"
   },
   {
    "duration": 14,
    "start_time": "2024-10-31T09:06:26.115Z"
   },
   {
    "duration": 11,
    "start_time": "2024-10-31T09:06:26.131Z"
   },
   {
    "duration": 6,
    "start_time": "2024-10-31T09:06:26.144Z"
   },
   {
    "duration": 985,
    "start_time": "2024-10-31T09:06:26.151Z"
   },
   {
    "duration": 25,
    "start_time": "2024-10-31T09:06:27.142Z"
   },
   {
    "duration": 20,
    "start_time": "2024-10-31T09:06:27.169Z"
   },
   {
    "duration": 609,
    "start_time": "2024-10-31T09:06:27.190Z"
   },
   {
    "duration": 6,
    "start_time": "2024-10-31T09:06:27.802Z"
   },
   {
    "duration": 12,
    "start_time": "2024-10-31T09:06:27.810Z"
   },
   {
    "duration": 141,
    "start_time": "2024-10-31T09:06:27.824Z"
   },
   {
    "duration": 51,
    "start_time": "2024-10-31T09:06:27.967Z"
   },
   {
    "duration": 100,
    "start_time": "2024-10-31T09:06:28.020Z"
   },
   {
    "duration": 14,
    "start_time": "2024-10-31T09:27:35.882Z"
   },
   {
    "duration": 9,
    "start_time": "2024-10-31T09:35:23.439Z"
   },
   {
    "duration": 1244,
    "start_time": "2024-10-31T09:35:42.985Z"
   },
   {
    "duration": 42,
    "start_time": "2024-10-31T09:35:44.231Z"
   },
   {
    "duration": 3,
    "start_time": "2024-10-31T09:35:44.274Z"
   },
   {
    "duration": 119,
    "start_time": "2024-10-31T09:35:44.280Z"
   },
   {
    "duration": 12,
    "start_time": "2024-10-31T09:35:44.401Z"
   },
   {
    "duration": 28,
    "start_time": "2024-10-31T09:35:44.415Z"
   },
   {
    "duration": 6,
    "start_time": "2024-10-31T09:35:44.445Z"
   },
   {
    "duration": 1007,
    "start_time": "2024-10-31T09:35:44.452Z"
   },
   {
    "duration": 6,
    "start_time": "2024-10-31T09:35:45.460Z"
   },
   {
    "duration": 89,
    "start_time": "2024-10-31T09:35:45.468Z"
   },
   {
    "duration": 18,
    "start_time": "2024-10-31T09:35:45.559Z"
   },
   {
    "duration": 44,
    "start_time": "2024-10-31T09:35:45.579Z"
   },
   {
    "duration": 45,
    "start_time": "2024-10-31T09:35:45.625Z"
   },
   {
    "duration": 457,
    "start_time": "2024-10-31T09:35:45.673Z"
   },
   {
    "duration": 377,
    "start_time": "2024-10-31T09:35:46.131Z"
   },
   {
    "duration": 623,
    "start_time": "2024-10-31T09:35:46.509Z"
   },
   {
    "duration": 1062,
    "start_time": "2024-10-31T09:35:47.134Z"
   },
   {
    "duration": 1096,
    "start_time": "2024-10-31T09:35:48.198Z"
   },
   {
    "duration": 1107,
    "start_time": "2024-10-31T09:35:49.296Z"
   },
   {
    "duration": 1116,
    "start_time": "2024-10-31T09:35:50.405Z"
   },
   {
    "duration": 2,
    "start_time": "2024-10-31T09:35:51.523Z"
   },
   {
    "duration": 29,
    "start_time": "2024-10-31T09:35:51.526Z"
   },
   {
    "duration": 26,
    "start_time": "2024-10-31T09:35:51.556Z"
   },
   {
    "duration": 37,
    "start_time": "2024-10-31T09:35:51.584Z"
   },
   {
    "duration": 1002,
    "start_time": "2024-10-31T09:35:51.623Z"
   },
   {
    "duration": 33,
    "start_time": "2024-10-31T09:35:52.626Z"
   },
   {
    "duration": 43,
    "start_time": "2024-10-31T09:35:52.661Z"
   },
   {
    "duration": 608,
    "start_time": "2024-10-31T09:35:52.706Z"
   },
   {
    "duration": 6,
    "start_time": "2024-10-31T09:35:53.315Z"
   },
   {
    "duration": 29,
    "start_time": "2024-10-31T09:35:53.322Z"
   },
   {
    "duration": 136,
    "start_time": "2024-10-31T09:35:53.353Z"
   },
   {
    "duration": 12,
    "start_time": "2024-10-31T09:35:53.491Z"
   },
   {
    "duration": 96,
    "start_time": "2024-10-31T09:35:53.505Z"
   },
   {
    "duration": 10,
    "start_time": "2024-10-31T09:48:16.829Z"
   },
   {
    "duration": 0,
    "start_time": "2024-10-31T09:49:30.075Z"
   },
   {
    "duration": 1,
    "start_time": "2024-10-31T09:49:30.076Z"
   },
   {
    "duration": 0,
    "start_time": "2024-10-31T09:49:30.078Z"
   },
   {
    "duration": 0,
    "start_time": "2024-10-31T09:49:30.079Z"
   },
   {
    "duration": 0,
    "start_time": "2024-10-31T09:49:30.079Z"
   },
   {
    "duration": 1,
    "start_time": "2024-10-31T09:49:30.080Z"
   },
   {
    "duration": 0,
    "start_time": "2024-10-31T09:49:30.082Z"
   },
   {
    "duration": 0,
    "start_time": "2024-10-31T09:49:30.083Z"
   },
   {
    "duration": 0,
    "start_time": "2024-10-31T09:49:30.084Z"
   },
   {
    "duration": 0,
    "start_time": "2024-10-31T09:49:30.086Z"
   },
   {
    "duration": 0,
    "start_time": "2024-10-31T09:49:30.087Z"
   },
   {
    "duration": 0,
    "start_time": "2024-10-31T09:49:30.088Z"
   },
   {
    "duration": 0,
    "start_time": "2024-10-31T09:49:30.089Z"
   },
   {
    "duration": 0,
    "start_time": "2024-10-31T09:49:30.090Z"
   },
   {
    "duration": 0,
    "start_time": "2024-10-31T09:49:30.091Z"
   },
   {
    "duration": 0,
    "start_time": "2024-10-31T09:49:30.092Z"
   },
   {
    "duration": 0,
    "start_time": "2024-10-31T09:49:30.093Z"
   },
   {
    "duration": 0,
    "start_time": "2024-10-31T09:49:30.094Z"
   },
   {
    "duration": 0,
    "start_time": "2024-10-31T09:49:30.095Z"
   },
   {
    "duration": 0,
    "start_time": "2024-10-31T09:49:30.148Z"
   },
   {
    "duration": 0,
    "start_time": "2024-10-31T09:49:30.150Z"
   },
   {
    "duration": 0,
    "start_time": "2024-10-31T09:49:30.151Z"
   },
   {
    "duration": 0,
    "start_time": "2024-10-31T09:49:30.158Z"
   },
   {
    "duration": 0,
    "start_time": "2024-10-31T09:49:30.160Z"
   },
   {
    "duration": 0,
    "start_time": "2024-10-31T09:49:30.161Z"
   },
   {
    "duration": 0,
    "start_time": "2024-10-31T09:49:30.163Z"
   },
   {
    "duration": 0,
    "start_time": "2024-10-31T09:49:30.164Z"
   },
   {
    "duration": 0,
    "start_time": "2024-10-31T09:49:30.165Z"
   },
   {
    "duration": 0,
    "start_time": "2024-10-31T09:49:30.166Z"
   },
   {
    "duration": 0,
    "start_time": "2024-10-31T09:49:30.167Z"
   },
   {
    "duration": 1,
    "start_time": "2024-10-31T09:49:30.168Z"
   },
   {
    "duration": 0,
    "start_time": "2024-10-31T09:49:30.170Z"
   },
   {
    "duration": 0,
    "start_time": "2024-10-31T09:49:30.172Z"
   },
   {
    "duration": 1359,
    "start_time": "2024-10-31T09:50:19.754Z"
   },
   {
    "duration": 50,
    "start_time": "2024-10-31T09:50:21.115Z"
   },
   {
    "duration": 3,
    "start_time": "2024-10-31T09:50:21.167Z"
   },
   {
    "duration": 159,
    "start_time": "2024-10-31T09:50:21.172Z"
   },
   {
    "duration": 20,
    "start_time": "2024-10-31T09:50:21.342Z"
   },
   {
    "duration": 32,
    "start_time": "2024-10-31T09:50:21.363Z"
   },
   {
    "duration": 44,
    "start_time": "2024-10-31T09:50:21.396Z"
   },
   {
    "duration": 1130,
    "start_time": "2024-10-31T09:50:21.441Z"
   },
   {
    "duration": 6,
    "start_time": "2024-10-31T09:50:22.572Z"
   },
   {
    "duration": 212,
    "start_time": "2024-10-31T09:50:22.581Z"
   },
   {
    "duration": 0,
    "start_time": "2024-10-31T09:50:22.796Z"
   },
   {
    "duration": 0,
    "start_time": "2024-10-31T09:50:22.797Z"
   },
   {
    "duration": 0,
    "start_time": "2024-10-31T09:50:22.799Z"
   },
   {
    "duration": 0,
    "start_time": "2024-10-31T09:50:22.800Z"
   },
   {
    "duration": 0,
    "start_time": "2024-10-31T09:50:22.801Z"
   },
   {
    "duration": 0,
    "start_time": "2024-10-31T09:50:22.802Z"
   },
   {
    "duration": 0,
    "start_time": "2024-10-31T09:50:22.803Z"
   },
   {
    "duration": 0,
    "start_time": "2024-10-31T09:50:22.804Z"
   },
   {
    "duration": 0,
    "start_time": "2024-10-31T09:50:22.805Z"
   },
   {
    "duration": 0,
    "start_time": "2024-10-31T09:50:22.806Z"
   },
   {
    "duration": 0,
    "start_time": "2024-10-31T09:50:22.807Z"
   },
   {
    "duration": 0,
    "start_time": "2024-10-31T09:50:22.808Z"
   },
   {
    "duration": 0,
    "start_time": "2024-10-31T09:50:22.809Z"
   },
   {
    "duration": 0,
    "start_time": "2024-10-31T09:50:22.810Z"
   },
   {
    "duration": 0,
    "start_time": "2024-10-31T09:50:22.811Z"
   },
   {
    "duration": 0,
    "start_time": "2024-10-31T09:50:22.813Z"
   },
   {
    "duration": 0,
    "start_time": "2024-10-31T09:50:22.814Z"
   },
   {
    "duration": 0,
    "start_time": "2024-10-31T09:50:22.815Z"
   },
   {
    "duration": 0,
    "start_time": "2024-10-31T09:50:22.816Z"
   },
   {
    "duration": 0,
    "start_time": "2024-10-31T09:50:22.817Z"
   },
   {
    "duration": 0,
    "start_time": "2024-10-31T09:50:22.847Z"
   },
   {
    "duration": 0,
    "start_time": "2024-10-31T09:50:22.848Z"
   },
   {
    "duration": 0,
    "start_time": "2024-10-31T09:50:22.853Z"
   },
   {
    "duration": 3,
    "start_time": "2024-10-31T09:50:43.399Z"
   },
   {
    "duration": 39,
    "start_time": "2024-10-31T09:50:49.078Z"
   },
   {
    "duration": 3,
    "start_time": "2024-10-31T09:50:54.331Z"
   },
   {
    "duration": 82,
    "start_time": "2024-10-31T09:50:59.329Z"
   },
   {
    "duration": 13,
    "start_time": "2024-10-31T09:51:08.056Z"
   },
   {
    "duration": 17,
    "start_time": "2024-10-31T09:51:16.035Z"
   },
   {
    "duration": 63,
    "start_time": "2024-10-31T09:58:22.879Z"
   },
   {
    "duration": 886,
    "start_time": "2024-10-31T09:58:55.075Z"
   },
   {
    "duration": 11,
    "start_time": "2024-10-31T11:07:47.315Z"
   },
   {
    "duration": 1319,
    "start_time": "2024-10-31T11:08:04.120Z"
   },
   {
    "duration": 45,
    "start_time": "2024-10-31T11:08:05.441Z"
   },
   {
    "duration": 4,
    "start_time": "2024-10-31T11:08:05.488Z"
   },
   {
    "duration": 130,
    "start_time": "2024-10-31T11:08:05.494Z"
   },
   {
    "duration": 29,
    "start_time": "2024-10-31T11:08:05.626Z"
   },
   {
    "duration": 33,
    "start_time": "2024-10-31T11:08:05.658Z"
   },
   {
    "duration": 33,
    "start_time": "2024-10-31T11:08:05.693Z"
   },
   {
    "duration": 6,
    "start_time": "2024-10-31T11:08:05.727Z"
   },
   {
    "duration": 133,
    "start_time": "2024-10-31T11:08:05.734Z"
   },
   {
    "duration": 0,
    "start_time": "2024-10-31T11:08:05.869Z"
   },
   {
    "duration": 1,
    "start_time": "2024-10-31T11:08:05.870Z"
   },
   {
    "duration": 0,
    "start_time": "2024-10-31T11:08:05.872Z"
   },
   {
    "duration": 0,
    "start_time": "2024-10-31T11:08:05.873Z"
   },
   {
    "duration": 0,
    "start_time": "2024-10-31T11:08:05.873Z"
   },
   {
    "duration": 0,
    "start_time": "2024-10-31T11:08:05.875Z"
   },
   {
    "duration": 0,
    "start_time": "2024-10-31T11:08:05.876Z"
   },
   {
    "duration": 0,
    "start_time": "2024-10-31T11:08:05.876Z"
   },
   {
    "duration": 0,
    "start_time": "2024-10-31T11:08:05.877Z"
   },
   {
    "duration": 0,
    "start_time": "2024-10-31T11:08:05.878Z"
   },
   {
    "duration": 0,
    "start_time": "2024-10-31T11:08:05.879Z"
   },
   {
    "duration": 0,
    "start_time": "2024-10-31T11:08:05.879Z"
   },
   {
    "duration": 0,
    "start_time": "2024-10-31T11:08:05.880Z"
   },
   {
    "duration": 0,
    "start_time": "2024-10-31T11:08:05.881Z"
   },
   {
    "duration": 0,
    "start_time": "2024-10-31T11:08:05.882Z"
   },
   {
    "duration": 0,
    "start_time": "2024-10-31T11:08:05.884Z"
   },
   {
    "duration": 0,
    "start_time": "2024-10-31T11:08:05.884Z"
   },
   {
    "duration": 0,
    "start_time": "2024-10-31T11:08:05.886Z"
   },
   {
    "duration": 0,
    "start_time": "2024-10-31T11:08:05.887Z"
   },
   {
    "duration": 0,
    "start_time": "2024-10-31T11:08:05.888Z"
   },
   {
    "duration": 0,
    "start_time": "2024-10-31T11:08:05.889Z"
   },
   {
    "duration": 0,
    "start_time": "2024-10-31T11:08:05.890Z"
   },
   {
    "duration": 0,
    "start_time": "2024-10-31T11:08:05.891Z"
   },
   {
    "duration": 4,
    "start_time": "2024-10-31T11:08:31.355Z"
   },
   {
    "duration": 4,
    "start_time": "2024-10-31T11:16:11.905Z"
   },
   {
    "duration": 126,
    "start_time": "2024-10-31T11:16:11.910Z"
   },
   {
    "duration": 3,
    "start_time": "2024-10-31T11:16:12.038Z"
   },
   {
    "duration": 99,
    "start_time": "2024-10-31T11:16:12.042Z"
   },
   {
    "duration": 15,
    "start_time": "2024-10-31T11:16:12.142Z"
   },
   {
    "duration": 10,
    "start_time": "2024-10-31T11:16:12.159Z"
   },
   {
    "duration": 6,
    "start_time": "2024-10-31T11:16:12.171Z"
   },
   {
    "duration": 13,
    "start_time": "2024-10-31T11:16:12.179Z"
   },
   {
    "duration": 28,
    "start_time": "2024-10-31T11:16:12.193Z"
   },
   {
    "duration": 36,
    "start_time": "2024-10-31T11:16:12.225Z"
   },
   {
    "duration": 29,
    "start_time": "2024-10-31T11:16:12.263Z"
   },
   {
    "duration": 431,
    "start_time": "2024-10-31T11:16:12.294Z"
   },
   {
    "duration": 387,
    "start_time": "2024-10-31T11:16:12.727Z"
   },
   {
    "duration": 604,
    "start_time": "2024-10-31T11:16:13.115Z"
   },
   {
    "duration": 1059,
    "start_time": "2024-10-31T11:16:13.721Z"
   },
   {
    "duration": 1106,
    "start_time": "2024-10-31T11:16:14.782Z"
   },
   {
    "duration": 1102,
    "start_time": "2024-10-31T11:16:15.889Z"
   },
   {
    "duration": 1107,
    "start_time": "2024-10-31T11:16:16.992Z"
   },
   {
    "duration": 2,
    "start_time": "2024-10-31T11:16:18.101Z"
   },
   {
    "duration": 24,
    "start_time": "2024-10-31T11:16:18.105Z"
   },
   {
    "duration": 12,
    "start_time": "2024-10-31T11:16:18.131Z"
   },
   {
    "duration": 11,
    "start_time": "2024-10-31T11:16:18.144Z"
   },
   {
    "duration": 1073,
    "start_time": "2024-10-31T11:16:18.156Z"
   },
   {
    "duration": 27,
    "start_time": "2024-10-31T11:16:19.231Z"
   },
   {
    "duration": 10,
    "start_time": "2024-10-31T11:16:19.259Z"
   },
   {
    "duration": 722,
    "start_time": "2024-10-31T11:16:19.270Z"
   },
   {
    "duration": 6,
    "start_time": "2024-10-31T11:16:19.994Z"
   },
   {
    "duration": 18,
    "start_time": "2024-10-31T11:16:20.002Z"
   },
   {
    "duration": 52,
    "start_time": "2024-10-31T11:16:20.022Z"
   },
   {
    "duration": 28,
    "start_time": "2024-10-31T11:16:20.076Z"
   },
   {
    "duration": 74,
    "start_time": "2024-10-31T11:16:20.106Z"
   },
   {
    "duration": 1075,
    "start_time": "2024-10-31T11:19:25.941Z"
   },
   {
    "duration": 62,
    "start_time": "2024-10-31T11:19:47.128Z"
   },
   {
    "duration": 7,
    "start_time": "2024-10-31T11:19:47.205Z"
   },
   {
    "duration": 3383,
    "start_time": "2024-10-31T11:20:46.784Z"
   },
   {
    "duration": 129,
    "start_time": "2024-10-31T11:21:37.661Z"
   },
   {
    "duration": 66,
    "start_time": "2024-10-31T11:21:55.235Z"
   },
   {
    "duration": 6,
    "start_time": "2024-10-31T11:23:01.252Z"
   },
   {
    "duration": 104,
    "start_time": "2024-10-31T11:23:24.975Z"
   },
   {
    "duration": 377,
    "start_time": "2024-10-31T11:25:11.731Z"
   },
   {
    "duration": 1373,
    "start_time": "2024-10-31T11:54:08.419Z"
   },
   {
    "duration": 1219,
    "start_time": "2024-10-31T11:54:18.624Z"
   },
   {
    "duration": 533,
    "start_time": "2024-10-31T12:12:32.103Z"
   },
   {
    "duration": 37,
    "start_time": "2024-10-31T13:19:10.508Z"
   },
   {
    "duration": 16,
    "start_time": "2024-10-31T13:19:57.405Z"
   },
   {
    "duration": 1256,
    "start_time": "2024-10-31T13:47:50.959Z"
   },
   {
    "duration": 42,
    "start_time": "2024-10-31T13:47:52.217Z"
   },
   {
    "duration": 3,
    "start_time": "2024-10-31T13:47:52.261Z"
   },
   {
    "duration": 135,
    "start_time": "2024-10-31T13:47:52.266Z"
   },
   {
    "duration": 13,
    "start_time": "2024-10-31T13:47:52.403Z"
   },
   {
    "duration": 31,
    "start_time": "2024-10-31T13:47:52.418Z"
   },
   {
    "duration": 5,
    "start_time": "2024-10-31T13:47:52.450Z"
   },
   {
    "duration": 18,
    "start_time": "2024-10-31T13:47:52.456Z"
   },
   {
    "duration": 11,
    "start_time": "2024-10-31T13:47:52.476Z"
   },
   {
    "duration": 20,
    "start_time": "2024-10-31T13:47:52.490Z"
   },
   {
    "duration": 49,
    "start_time": "2024-10-31T13:47:52.511Z"
   },
   {
    "duration": 438,
    "start_time": "2024-10-31T13:47:52.562Z"
   },
   {
    "duration": 388,
    "start_time": "2024-10-31T13:47:53.002Z"
   },
   {
    "duration": 518,
    "start_time": "2024-10-31T13:47:53.392Z"
   },
   {
    "duration": 493,
    "start_time": "2024-10-31T13:47:53.912Z"
   },
   {
    "duration": 1171,
    "start_time": "2024-10-31T13:47:54.406Z"
   },
   {
    "duration": 1021,
    "start_time": "2024-10-31T13:47:55.579Z"
   },
   {
    "duration": 1049,
    "start_time": "2024-10-31T13:47:56.602Z"
   },
   {
    "duration": 1063,
    "start_time": "2024-10-31T13:47:57.653Z"
   },
   {
    "duration": 1267,
    "start_time": "2024-10-31T13:47:58.717Z"
   },
   {
    "duration": 1241,
    "start_time": "2024-10-31T13:47:59.986Z"
   },
   {
    "duration": 2352,
    "start_time": "2024-10-31T13:48:01.228Z"
   },
   {
    "duration": 47,
    "start_time": "2024-10-31T13:48:03.582Z"
   },
   {
    "duration": 6,
    "start_time": "2024-10-31T13:48:03.631Z"
   },
   {
    "duration": 359,
    "start_time": "2024-10-31T13:48:03.639Z"
   },
   {
    "duration": 1163,
    "start_time": "2024-10-31T13:48:04.000Z"
   },
   {
    "duration": 19,
    "start_time": "2024-10-31T13:48:05.165Z"
   },
   {
    "duration": 26,
    "start_time": "2024-10-31T13:48:05.188Z"
   },
   {
    "duration": 672,
    "start_time": "2024-10-31T13:48:05.216Z"
   },
   {
    "duration": 6,
    "start_time": "2024-10-31T13:48:05.890Z"
   },
   {
    "duration": 71,
    "start_time": "2024-10-31T13:48:05.897Z"
   },
   {
    "duration": 49,
    "start_time": "2024-10-31T13:48:05.969Z"
   },
   {
    "duration": 12,
    "start_time": "2024-10-31T13:48:06.020Z"
   },
   {
    "duration": 72,
    "start_time": "2024-10-31T13:48:06.033Z"
   },
   {
    "duration": 19,
    "start_time": "2024-10-31T13:52:19.203Z"
   },
   {
    "duration": 55,
    "start_time": "2024-11-01T11:11:05.099Z"
   },
   {
    "duration": 1516,
    "start_time": "2024-11-01T11:11:11.926Z"
   },
   {
    "duration": 102,
    "start_time": "2024-11-01T11:11:13.444Z"
   },
   {
    "duration": 4,
    "start_time": "2024-11-01T11:11:13.547Z"
   },
   {
    "duration": 145,
    "start_time": "2024-11-01T11:11:13.553Z"
   },
   {
    "duration": 15,
    "start_time": "2024-11-01T11:11:13.700Z"
   },
   {
    "duration": 10,
    "start_time": "2024-11-01T11:11:13.716Z"
   },
   {
    "duration": 6,
    "start_time": "2024-11-01T11:11:13.728Z"
   },
   {
    "duration": 27,
    "start_time": "2024-11-01T11:11:13.736Z"
   },
   {
    "duration": 38,
    "start_time": "2024-11-01T11:11:13.765Z"
   },
   {
    "duration": 22,
    "start_time": "2024-11-01T11:11:13.806Z"
   },
   {
    "duration": 32,
    "start_time": "2024-11-01T11:11:13.830Z"
   },
   {
    "duration": 545,
    "start_time": "2024-11-01T11:11:13.864Z"
   },
   {
    "duration": 404,
    "start_time": "2024-11-01T11:11:14.411Z"
   },
   {
    "duration": 557,
    "start_time": "2024-11-01T11:11:14.817Z"
   },
   {
    "duration": 646,
    "start_time": "2024-11-01T11:11:15.376Z"
   },
   {
    "duration": 1247,
    "start_time": "2024-11-01T11:11:16.025Z"
   },
   {
    "duration": 1265,
    "start_time": "2024-11-01T11:11:17.274Z"
   },
   {
    "duration": 1263,
    "start_time": "2024-11-01T11:11:18.541Z"
   },
   {
    "duration": 1303,
    "start_time": "2024-11-01T11:11:19.808Z"
   },
   {
    "duration": 1345,
    "start_time": "2024-11-01T11:11:21.114Z"
   },
   {
    "duration": 1340,
    "start_time": "2024-11-01T11:11:22.461Z"
   },
   {
    "duration": 3717,
    "start_time": "2024-11-01T11:11:23.803Z"
   },
   {
    "duration": 50,
    "start_time": "2024-11-01T11:11:27.523Z"
   },
   {
    "duration": 5,
    "start_time": "2024-11-01T11:11:27.574Z"
   },
   {
    "duration": 417,
    "start_time": "2024-11-01T11:11:27.581Z"
   },
   {
    "duration": 1307,
    "start_time": "2024-11-01T11:11:27.999Z"
   },
   {
    "duration": 114,
    "start_time": "2024-11-01T11:11:29.308Z"
   },
   {
    "duration": 0,
    "start_time": "2024-11-01T11:11:29.424Z"
   },
   {
    "duration": 0,
    "start_time": "2024-11-01T11:11:29.426Z"
   },
   {
    "duration": 0,
    "start_time": "2024-11-01T11:11:29.427Z"
   },
   {
    "duration": 0,
    "start_time": "2024-11-01T11:11:29.429Z"
   },
   {
    "duration": 0,
    "start_time": "2024-11-01T11:11:29.430Z"
   },
   {
    "duration": 0,
    "start_time": "2024-11-01T11:11:29.431Z"
   },
   {
    "duration": 0,
    "start_time": "2024-11-01T11:11:29.432Z"
   },
   {
    "duration": 0,
    "start_time": "2024-11-01T11:11:29.434Z"
   },
   {
    "duration": 8,
    "start_time": "2024-11-01T11:13:26.402Z"
   },
   {
    "duration": 10,
    "start_time": "2024-11-01T11:17:55.409Z"
   },
   {
    "duration": 29,
    "start_time": "2024-11-01T11:21:33.419Z"
   },
   {
    "duration": 233,
    "start_time": "2024-11-01T11:23:48.755Z"
   },
   {
    "duration": 1389,
    "start_time": "2024-11-01T11:28:14.649Z"
   },
   {
    "duration": 23,
    "start_time": "2024-11-01T11:41:24.682Z"
   },
   {
    "duration": 25,
    "start_time": "2024-11-01T11:43:42.556Z"
   },
   {
    "duration": 22,
    "start_time": "2024-11-01T11:44:57.182Z"
   },
   {
    "duration": 40,
    "start_time": "2024-11-01T11:45:04.907Z"
   },
   {
    "duration": 851,
    "start_time": "2024-11-01T12:27:16.762Z"
   },
   {
    "duration": 14,
    "start_time": "2024-11-01T12:28:13.425Z"
   },
   {
    "duration": 19,
    "start_time": "2024-11-01T12:37:10.606Z"
   },
   {
    "duration": 1371,
    "start_time": "2024-11-01T12:48:24.282Z"
   },
   {
    "duration": 51,
    "start_time": "2024-11-01T12:48:25.655Z"
   },
   {
    "duration": 4,
    "start_time": "2024-11-01T12:48:25.709Z"
   },
   {
    "duration": 151,
    "start_time": "2024-11-01T12:48:25.717Z"
   },
   {
    "duration": 34,
    "start_time": "2024-11-01T12:48:25.870Z"
   },
   {
    "duration": 16,
    "start_time": "2024-11-01T12:48:25.907Z"
   },
   {
    "duration": 111,
    "start_time": "2024-11-01T12:48:25.924Z"
   },
   {
    "duration": 22,
    "start_time": "2024-11-01T12:48:26.037Z"
   },
   {
    "duration": 13,
    "start_time": "2024-11-01T12:48:26.061Z"
   },
   {
    "duration": 40,
    "start_time": "2024-11-01T12:48:26.077Z"
   },
   {
    "duration": 34,
    "start_time": "2024-11-01T12:48:26.118Z"
   },
   {
    "duration": 479,
    "start_time": "2024-11-01T12:48:26.153Z"
   },
   {
    "duration": 451,
    "start_time": "2024-11-01T12:48:26.633Z"
   },
   {
    "duration": 617,
    "start_time": "2024-11-01T12:48:27.085Z"
   },
   {
    "duration": 531,
    "start_time": "2024-11-01T12:48:27.704Z"
   },
   {
    "duration": 1342,
    "start_time": "2024-11-01T12:48:28.237Z"
   },
   {
    "duration": 1253,
    "start_time": "2024-11-01T12:48:29.581Z"
   },
   {
    "duration": 1300,
    "start_time": "2024-11-01T12:48:30.836Z"
   },
   {
    "duration": 1365,
    "start_time": "2024-11-01T12:48:32.137Z"
   },
   {
    "duration": 1432,
    "start_time": "2024-11-01T12:48:33.505Z"
   },
   {
    "duration": 1248,
    "start_time": "2024-11-01T12:48:34.938Z"
   },
   {
    "duration": 2682,
    "start_time": "2024-11-01T12:48:36.188Z"
   },
   {
    "duration": 55,
    "start_time": "2024-11-01T12:48:38.872Z"
   },
   {
    "duration": 6,
    "start_time": "2024-11-01T12:48:38.929Z"
   },
   {
    "duration": 510,
    "start_time": "2024-11-01T12:48:38.936Z"
   },
   {
    "duration": 1322,
    "start_time": "2024-11-01T12:48:39.448Z"
   },
   {
    "duration": 25,
    "start_time": "2024-11-01T12:48:40.772Z"
   },
   {
    "duration": 936,
    "start_time": "2024-11-01T12:48:40.803Z"
   },
   {
    "duration": 12,
    "start_time": "2024-11-01T12:48:41.741Z"
   },
   {
    "duration": 10,
    "start_time": "2024-11-01T12:48:41.756Z"
   },
   {
    "duration": 452,
    "start_time": "2024-11-01T12:48:41.767Z"
   },
   {
    "duration": 6,
    "start_time": "2024-11-01T12:48:42.222Z"
   },
   {
    "duration": 33,
    "start_time": "2024-11-01T12:48:42.230Z"
   },
   {
    "duration": 17,
    "start_time": "2024-11-01T12:48:42.265Z"
   },
   {
    "duration": 17,
    "start_time": "2024-11-01T12:48:42.283Z"
   },
   {
    "duration": 77,
    "start_time": "2024-11-01T12:48:42.301Z"
   },
   {
    "duration": 16,
    "start_time": "2024-11-01T13:17:54.299Z"
   },
   {
    "duration": 1387,
    "start_time": "2024-11-02T07:32:46.026Z"
   },
   {
    "duration": 159,
    "start_time": "2024-11-02T07:32:47.416Z"
   },
   {
    "duration": 3,
    "start_time": "2024-11-02T07:32:47.577Z"
   },
   {
    "duration": 108,
    "start_time": "2024-11-02T07:32:47.581Z"
   },
   {
    "duration": 13,
    "start_time": "2024-11-02T07:32:47.691Z"
   },
   {
    "duration": 9,
    "start_time": "2024-11-02T07:32:47.705Z"
   },
   {
    "duration": 9,
    "start_time": "2024-11-02T07:32:47.715Z"
   },
   {
    "duration": 18,
    "start_time": "2024-11-02T07:32:47.725Z"
   },
   {
    "duration": 23,
    "start_time": "2024-11-02T07:32:47.744Z"
   },
   {
    "duration": 17,
    "start_time": "2024-11-02T07:32:47.768Z"
   },
   {
    "duration": 26,
    "start_time": "2024-11-02T07:32:47.787Z"
   },
   {
    "duration": 449,
    "start_time": "2024-11-02T07:32:47.814Z"
   },
   {
    "duration": 389,
    "start_time": "2024-11-02T07:32:48.264Z"
   },
   {
    "duration": 490,
    "start_time": "2024-11-02T07:32:48.659Z"
   },
   {
    "duration": 454,
    "start_time": "2024-11-02T07:32:49.150Z"
   },
   {
    "duration": 1074,
    "start_time": "2024-11-02T07:32:49.605Z"
   },
   {
    "duration": 981,
    "start_time": "2024-11-02T07:32:50.681Z"
   },
   {
    "duration": 1013,
    "start_time": "2024-11-02T07:32:51.664Z"
   },
   {
    "duration": 1018,
    "start_time": "2024-11-02T07:32:52.679Z"
   },
   {
    "duration": 1143,
    "start_time": "2024-11-02T07:32:53.698Z"
   },
   {
    "duration": 1070,
    "start_time": "2024-11-02T07:32:54.842Z"
   },
   {
    "duration": 3496,
    "start_time": "2024-11-02T07:32:55.914Z"
   },
   {
    "duration": 47,
    "start_time": "2024-11-02T07:32:59.412Z"
   },
   {
    "duration": 6,
    "start_time": "2024-11-02T07:32:59.460Z"
   },
   {
    "duration": 403,
    "start_time": "2024-11-02T07:32:59.467Z"
   },
   {
    "duration": 1013,
    "start_time": "2024-11-02T07:32:59.871Z"
   },
   {
    "duration": 20,
    "start_time": "2024-11-02T07:33:00.885Z"
   },
   {
    "duration": 741,
    "start_time": "2024-11-02T07:33:00.907Z"
   },
   {
    "duration": 12,
    "start_time": "2024-11-02T07:33:01.649Z"
   },
   {
    "duration": 12,
    "start_time": "2024-11-02T07:33:01.663Z"
   },
   {
    "duration": 335,
    "start_time": "2024-11-02T07:33:01.677Z"
   },
   {
    "duration": 4,
    "start_time": "2024-11-02T07:33:02.014Z"
   },
   {
    "duration": 127,
    "start_time": "2024-11-02T07:33:02.020Z"
   },
   {
    "duration": 24,
    "start_time": "2024-11-02T07:33:02.148Z"
   },
   {
    "duration": 78,
    "start_time": "2024-11-02T07:33:02.173Z"
   },
   {
    "duration": 71,
    "start_time": "2024-11-02T07:44:09.814Z"
   },
   {
    "duration": 10,
    "start_time": "2024-11-02T07:46:30.714Z"
   },
   {
    "duration": 50,
    "start_time": "2024-11-02T07:46:46.624Z"
   },
   {
    "duration": 1192,
    "start_time": "2024-11-02T08:12:42.724Z"
   },
   {
    "duration": 113,
    "start_time": "2024-11-02T08:13:59.577Z"
   },
   {
    "duration": 412,
    "start_time": "2024-11-02T08:18:55.327Z"
   },
   {
    "duration": 2859,
    "start_time": "2024-11-02T08:23:09.917Z"
   },
   {
    "duration": 1865,
    "start_time": "2024-11-02T08:23:53.165Z"
   },
   {
    "duration": 389,
    "start_time": "2024-11-02T08:25:51.197Z"
   },
   {
    "duration": 485,
    "start_time": "2024-11-02T08:27:07.070Z"
   },
   {
    "duration": 548,
    "start_time": "2024-11-02T08:30:33.117Z"
   },
   {
    "duration": 559,
    "start_time": "2024-11-02T08:31:32.892Z"
   },
   {
    "duration": 22,
    "start_time": "2024-11-02T08:39:18.496Z"
   },
   {
    "duration": 1217,
    "start_time": "2024-11-02T08:51:17.340Z"
   },
   {
    "duration": 41,
    "start_time": "2024-11-02T08:51:18.559Z"
   },
   {
    "duration": 3,
    "start_time": "2024-11-02T08:51:18.601Z"
   },
   {
    "duration": 96,
    "start_time": "2024-11-02T08:51:18.605Z"
   },
   {
    "duration": 12,
    "start_time": "2024-11-02T08:51:18.702Z"
   },
   {
    "duration": 9,
    "start_time": "2024-11-02T08:51:18.715Z"
   },
   {
    "duration": 5,
    "start_time": "2024-11-02T08:51:18.725Z"
   },
   {
    "duration": 29,
    "start_time": "2024-11-02T08:51:18.731Z"
   },
   {
    "duration": 12,
    "start_time": "2024-11-02T08:51:18.762Z"
   },
   {
    "duration": 17,
    "start_time": "2024-11-02T08:51:18.776Z"
   },
   {
    "duration": 24,
    "start_time": "2024-11-02T08:51:18.794Z"
   },
   {
    "duration": 395,
    "start_time": "2024-11-02T08:51:18.820Z"
   },
   {
    "duration": 374,
    "start_time": "2024-11-02T08:51:19.217Z"
   },
   {
    "duration": 470,
    "start_time": "2024-11-02T08:51:19.593Z"
   },
   {
    "duration": 429,
    "start_time": "2024-11-02T08:51:20.065Z"
   },
   {
    "duration": 1005,
    "start_time": "2024-11-02T08:51:20.496Z"
   },
   {
    "duration": 1002,
    "start_time": "2024-11-02T08:51:21.503Z"
   },
   {
    "duration": 990,
    "start_time": "2024-11-02T08:51:22.506Z"
   },
   {
    "duration": 1026,
    "start_time": "2024-11-02T08:51:23.498Z"
   },
   {
    "duration": 1123,
    "start_time": "2024-11-02T08:51:24.526Z"
   },
   {
    "duration": 1056,
    "start_time": "2024-11-02T08:51:25.651Z"
   },
   {
    "duration": 2628,
    "start_time": "2024-11-02T08:51:26.709Z"
   },
   {
    "duration": 46,
    "start_time": "2024-11-02T08:51:29.339Z"
   },
   {
    "duration": 5,
    "start_time": "2024-11-02T08:51:29.386Z"
   },
   {
    "duration": 310,
    "start_time": "2024-11-02T08:51:29.392Z"
   },
   {
    "duration": 1057,
    "start_time": "2024-11-02T08:51:29.703Z"
   },
   {
    "duration": 20,
    "start_time": "2024-11-02T08:51:30.761Z"
   },
   {
    "duration": 758,
    "start_time": "2024-11-02T08:51:30.784Z"
   },
   {
    "duration": 15,
    "start_time": "2024-11-02T08:51:31.544Z"
   },
   {
    "duration": 72,
    "start_time": "2024-11-02T08:51:31.561Z"
   },
   {
    "duration": 318,
    "start_time": "2024-11-02T08:51:31.635Z"
   },
   {
    "duration": 6,
    "start_time": "2024-11-02T08:51:31.954Z"
   },
   {
    "duration": 20,
    "start_time": "2024-11-02T08:51:31.961Z"
   },
   {
    "duration": 22,
    "start_time": "2024-11-02T08:51:31.983Z"
   },
   {
    "duration": 627,
    "start_time": "2024-11-02T08:51:32.006Z"
   },
   {
    "duration": 2,
    "start_time": "2024-11-02T08:51:32.635Z"
   },
   {
    "duration": 1121,
    "start_time": "2024-11-02T09:39:35.202Z"
   },
   {
    "duration": 41,
    "start_time": "2024-11-02T09:39:36.324Z"
   },
   {
    "duration": 3,
    "start_time": "2024-11-02T09:39:36.366Z"
   },
   {
    "duration": 141,
    "start_time": "2024-11-02T09:39:36.370Z"
   },
   {
    "duration": 51,
    "start_time": "2024-11-02T09:39:36.513Z"
   },
   {
    "duration": 57,
    "start_time": "2024-11-02T09:39:36.566Z"
   },
   {
    "duration": 5,
    "start_time": "2024-11-02T09:39:36.625Z"
   },
   {
    "duration": 13,
    "start_time": "2024-11-02T09:39:36.632Z"
   },
   {
    "duration": 19,
    "start_time": "2024-11-02T09:39:36.646Z"
   },
   {
    "duration": 22,
    "start_time": "2024-11-02T09:39:36.668Z"
   },
   {
    "duration": 31,
    "start_time": "2024-11-02T09:39:36.692Z"
   },
   {
    "duration": 406,
    "start_time": "2024-11-02T09:39:36.725Z"
   },
   {
    "duration": 372,
    "start_time": "2024-11-02T09:39:37.133Z"
   },
   {
    "duration": 470,
    "start_time": "2024-11-02T09:39:37.507Z"
   },
   {
    "duration": 451,
    "start_time": "2024-11-02T09:39:37.979Z"
   },
   {
    "duration": 1079,
    "start_time": "2024-11-02T09:39:38.432Z"
   },
   {
    "duration": 1046,
    "start_time": "2024-11-02T09:39:39.513Z"
   },
   {
    "duration": 1026,
    "start_time": "2024-11-02T09:39:40.561Z"
   },
   {
    "duration": 1049,
    "start_time": "2024-11-02T09:39:41.589Z"
   },
   {
    "duration": 1108,
    "start_time": "2024-11-02T09:39:42.640Z"
   },
   {
    "duration": 1065,
    "start_time": "2024-11-02T09:39:43.749Z"
   },
   {
    "duration": 2607,
    "start_time": "2024-11-02T09:39:44.816Z"
   },
   {
    "duration": 47,
    "start_time": "2024-11-02T09:39:47.425Z"
   },
   {
    "duration": 5,
    "start_time": "2024-11-02T09:39:47.473Z"
   },
   {
    "duration": 329,
    "start_time": "2024-11-02T09:39:47.479Z"
   },
   {
    "duration": 1044,
    "start_time": "2024-11-02T09:39:47.809Z"
   },
   {
    "duration": 20,
    "start_time": "2024-11-02T09:39:48.854Z"
   },
   {
    "duration": 824,
    "start_time": "2024-11-02T09:39:48.877Z"
   },
   {
    "duration": 10,
    "start_time": "2024-11-02T09:39:49.702Z"
   },
   {
    "duration": 16,
    "start_time": "2024-11-02T09:39:49.714Z"
   },
   {
    "duration": 332,
    "start_time": "2024-11-02T09:39:49.732Z"
   },
   {
    "duration": 5,
    "start_time": "2024-11-02T09:39:50.065Z"
   },
   {
    "duration": 21,
    "start_time": "2024-11-02T09:39:50.072Z"
   },
   {
    "duration": 27,
    "start_time": "2024-11-02T09:39:50.095Z"
   },
   {
    "duration": 607,
    "start_time": "2024-11-02T09:39:50.124Z"
   },
   {
    "duration": 1378,
    "start_time": "2024-11-03T07:34:06.596Z"
   },
   {
    "duration": 3512,
    "start_time": "2024-11-03T07:34:07.976Z"
   },
   {
    "duration": 140,
    "start_time": "2024-11-03T07:34:11.490Z"
   },
   {
    "duration": 159,
    "start_time": "2024-11-03T07:34:11.631Z"
   },
   {
    "duration": 3,
    "start_time": "2024-11-03T07:34:11.792Z"
   },
   {
    "duration": 120,
    "start_time": "2024-11-03T07:34:11.796Z"
   },
   {
    "duration": 118,
    "start_time": "2024-11-03T07:34:11.918Z"
   },
   {
    "duration": 0,
    "start_time": "2024-11-03T07:34:12.039Z"
   },
   {
    "duration": 0,
    "start_time": "2024-11-03T07:34:12.040Z"
   },
   {
    "duration": 0,
    "start_time": "2024-11-03T07:34:12.042Z"
   },
   {
    "duration": 0,
    "start_time": "2024-11-03T07:34:12.043Z"
   },
   {
    "duration": 0,
    "start_time": "2024-11-03T07:34:12.044Z"
   },
   {
    "duration": 0,
    "start_time": "2024-11-03T07:34:12.046Z"
   },
   {
    "duration": 0,
    "start_time": "2024-11-03T07:34:12.047Z"
   },
   {
    "duration": 0,
    "start_time": "2024-11-03T07:34:12.048Z"
   },
   {
    "duration": 0,
    "start_time": "2024-11-03T07:34:12.050Z"
   },
   {
    "duration": 0,
    "start_time": "2024-11-03T07:34:12.051Z"
   },
   {
    "duration": 0,
    "start_time": "2024-11-03T07:34:12.052Z"
   },
   {
    "duration": 0,
    "start_time": "2024-11-03T07:34:12.054Z"
   },
   {
    "duration": 0,
    "start_time": "2024-11-03T07:34:12.055Z"
   },
   {
    "duration": 0,
    "start_time": "2024-11-03T07:34:12.056Z"
   },
   {
    "duration": 0,
    "start_time": "2024-11-03T07:34:12.058Z"
   },
   {
    "duration": 0,
    "start_time": "2024-11-03T07:34:12.059Z"
   },
   {
    "duration": 0,
    "start_time": "2024-11-03T07:34:12.060Z"
   },
   {
    "duration": 0,
    "start_time": "2024-11-03T07:34:12.061Z"
   },
   {
    "duration": 0,
    "start_time": "2024-11-03T07:34:12.063Z"
   },
   {
    "duration": 0,
    "start_time": "2024-11-03T07:34:12.064Z"
   },
   {
    "duration": 0,
    "start_time": "2024-11-03T07:34:12.065Z"
   },
   {
    "duration": 0,
    "start_time": "2024-11-03T07:34:12.066Z"
   },
   {
    "duration": 0,
    "start_time": "2024-11-03T07:34:12.112Z"
   },
   {
    "duration": 0,
    "start_time": "2024-11-03T07:34:12.113Z"
   },
   {
    "duration": 0,
    "start_time": "2024-11-03T07:34:12.114Z"
   },
   {
    "duration": 0,
    "start_time": "2024-11-03T07:34:12.115Z"
   },
   {
    "duration": 0,
    "start_time": "2024-11-03T07:34:12.116Z"
   },
   {
    "duration": 0,
    "start_time": "2024-11-03T07:34:12.117Z"
   },
   {
    "duration": 0,
    "start_time": "2024-11-03T07:34:12.118Z"
   },
   {
    "duration": 1140,
    "start_time": "2024-11-03T07:44:19.104Z"
   },
   {
    "duration": 2540,
    "start_time": "2024-11-03T07:44:20.246Z"
   },
   {
    "duration": 56,
    "start_time": "2024-11-03T07:44:22.788Z"
   },
   {
    "duration": 39,
    "start_time": "2024-11-03T07:44:22.846Z"
   },
   {
    "duration": 3,
    "start_time": "2024-11-03T07:44:22.887Z"
   },
   {
    "duration": 109,
    "start_time": "2024-11-03T07:44:22.891Z"
   },
   {
    "duration": 138,
    "start_time": "2024-11-03T07:44:23.012Z"
   },
   {
    "duration": 0,
    "start_time": "2024-11-03T07:44:23.153Z"
   },
   {
    "duration": 0,
    "start_time": "2024-11-03T07:44:23.154Z"
   },
   {
    "duration": 0,
    "start_time": "2024-11-03T07:44:23.156Z"
   },
   {
    "duration": 0,
    "start_time": "2024-11-03T07:44:23.157Z"
   },
   {
    "duration": 0,
    "start_time": "2024-11-03T07:44:23.159Z"
   },
   {
    "duration": 0,
    "start_time": "2024-11-03T07:44:23.160Z"
   },
   {
    "duration": 0,
    "start_time": "2024-11-03T07:44:23.161Z"
   },
   {
    "duration": 0,
    "start_time": "2024-11-03T07:44:23.163Z"
   },
   {
    "duration": 0,
    "start_time": "2024-11-03T07:44:23.164Z"
   },
   {
    "duration": 0,
    "start_time": "2024-11-03T07:44:23.166Z"
   },
   {
    "duration": 0,
    "start_time": "2024-11-03T07:44:23.168Z"
   },
   {
    "duration": 0,
    "start_time": "2024-11-03T07:44:23.169Z"
   },
   {
    "duration": 0,
    "start_time": "2024-11-03T07:44:23.170Z"
   },
   {
    "duration": 0,
    "start_time": "2024-11-03T07:44:23.171Z"
   },
   {
    "duration": 0,
    "start_time": "2024-11-03T07:44:23.172Z"
   },
   {
    "duration": 0,
    "start_time": "2024-11-03T07:44:23.174Z"
   },
   {
    "duration": 0,
    "start_time": "2024-11-03T07:44:23.175Z"
   },
   {
    "duration": 0,
    "start_time": "2024-11-03T07:44:23.212Z"
   },
   {
    "duration": 0,
    "start_time": "2024-11-03T07:44:23.213Z"
   },
   {
    "duration": 0,
    "start_time": "2024-11-03T07:44:23.214Z"
   },
   {
    "duration": 0,
    "start_time": "2024-11-03T07:44:23.216Z"
   },
   {
    "duration": 0,
    "start_time": "2024-11-03T07:44:23.217Z"
   },
   {
    "duration": 0,
    "start_time": "2024-11-03T07:44:23.218Z"
   },
   {
    "duration": 0,
    "start_time": "2024-11-03T07:44:23.219Z"
   },
   {
    "duration": 0,
    "start_time": "2024-11-03T07:44:23.220Z"
   },
   {
    "duration": 0,
    "start_time": "2024-11-03T07:44:23.221Z"
   },
   {
    "duration": 0,
    "start_time": "2024-11-03T07:44:23.222Z"
   },
   {
    "duration": 0,
    "start_time": "2024-11-03T07:44:23.223Z"
   },
   {
    "duration": 0,
    "start_time": "2024-11-03T07:44:23.225Z"
   },
   {
    "duration": 454,
    "start_time": "2024-11-03T07:45:56.347Z"
   },
   {
    "duration": 436,
    "start_time": "2024-11-03T07:53:29.377Z"
   },
   {
    "duration": 8,
    "start_time": "2024-11-03T07:53:55.730Z"
   },
   {
    "duration": 8,
    "start_time": "2024-11-03T07:54:02.418Z"
   },
   {
    "duration": 434,
    "start_time": "2024-11-03T08:06:21.266Z"
   },
   {
    "duration": 469,
    "start_time": "2024-11-03T08:27:16.700Z"
   },
   {
    "duration": 8,
    "start_time": "2024-11-03T08:29:41.289Z"
   },
   {
    "duration": 8,
    "start_time": "2024-11-03T08:29:55.833Z"
   },
   {
    "duration": 6,
    "start_time": "2024-11-03T08:30:58.881Z"
   },
   {
    "duration": 418,
    "start_time": "2024-11-03T08:31:30.026Z"
   },
   {
    "duration": 8,
    "start_time": "2024-11-03T08:39:20.744Z"
   },
   {
    "duration": 6,
    "start_time": "2024-11-03T08:39:29.129Z"
   },
   {
    "duration": 5,
    "start_time": "2024-11-03T08:43:35.486Z"
   },
   {
    "duration": 17,
    "start_time": "2024-11-03T08:43:55.137Z"
   },
   {
    "duration": 20,
    "start_time": "2024-11-03T08:44:20.384Z"
   },
   {
    "duration": 26,
    "start_time": "2024-11-03T08:44:25.278Z"
   },
   {
    "duration": 440,
    "start_time": "2024-11-03T08:44:40.871Z"
   },
   {
    "duration": 406,
    "start_time": "2024-11-03T08:48:24.432Z"
   },
   {
    "duration": 419,
    "start_time": "2024-11-03T08:49:49.551Z"
   },
   {
    "duration": 468,
    "start_time": "2024-11-03T08:51:21.279Z"
   },
   {
    "duration": 16,
    "start_time": "2024-11-03T08:52:12.366Z"
   },
   {
    "duration": 414,
    "start_time": "2024-11-03T08:52:55.446Z"
   },
   {
    "duration": 392,
    "start_time": "2024-11-03T08:53:42.844Z"
   },
   {
    "duration": 479,
    "start_time": "2024-11-03T08:53:51.935Z"
   },
   {
    "duration": 987,
    "start_time": "2024-11-03T08:54:32.079Z"
   },
   {
    "duration": 969,
    "start_time": "2024-11-03T08:55:14.401Z"
   },
   {
    "duration": 1012,
    "start_time": "2024-11-03T08:57:56.639Z"
   },
   {
    "duration": 1062,
    "start_time": "2024-11-03T08:58:10.091Z"
   },
   {
    "duration": 1014,
    "start_time": "2024-11-03T08:59:44.627Z"
   },
   {
    "duration": 1072,
    "start_time": "2024-11-03T09:00:29.371Z"
   },
   {
    "duration": 1024,
    "start_time": "2024-11-03T09:00:41.427Z"
   },
   {
    "duration": 990,
    "start_time": "2024-11-03T09:00:51.860Z"
   },
   {
    "duration": 1053,
    "start_time": "2024-11-03T09:01:03.222Z"
   },
   {
    "duration": 1158,
    "start_time": "2024-11-03T09:01:34.837Z"
   },
   {
    "duration": 1065,
    "start_time": "2024-11-03T09:02:00.196Z"
   },
   {
    "duration": 4,
    "start_time": "2024-11-03T09:10:59.610Z"
   },
   {
    "duration": 298,
    "start_time": "2024-11-03T09:11:05.572Z"
   },
   {
    "duration": 11,
    "start_time": "2024-11-03T09:11:35.536Z"
   },
   {
    "duration": 364,
    "start_time": "2024-11-03T09:18:48.028Z"
   },
   {
    "duration": 869,
    "start_time": "2024-11-03T09:19:32.085Z"
   },
   {
    "duration": 21,
    "start_time": "2024-11-03T09:20:18.623Z"
   },
   {
    "duration": 89,
    "start_time": "2024-11-03T09:23:35.941Z"
   },
   {
    "duration": 734,
    "start_time": "2024-11-03T09:23:59.474Z"
   },
   {
    "duration": 10,
    "start_time": "2024-11-03T09:24:12.079Z"
   },
   {
    "duration": 12,
    "start_time": "2024-11-03T09:24:32.561Z"
   },
   {
    "duration": 1015,
    "start_time": "2024-11-03T09:31:00.864Z"
   },
   {
    "duration": 6,
    "start_time": "2024-11-03T09:31:59.306Z"
   },
   {
    "duration": 2546,
    "start_time": "2024-11-03T09:31:59.313Z"
   },
   {
    "duration": 3,
    "start_time": "2024-11-03T09:32:01.861Z"
   },
   {
    "duration": 48,
    "start_time": "2024-11-03T09:32:01.866Z"
   },
   {
    "duration": 3,
    "start_time": "2024-11-03T09:32:01.916Z"
   },
   {
    "duration": 79,
    "start_time": "2024-11-03T09:32:01.920Z"
   },
   {
    "duration": 438,
    "start_time": "2024-11-03T09:32:02.000Z"
   },
   {
    "duration": 8,
    "start_time": "2024-11-03T09:32:02.439Z"
   },
   {
    "duration": 27,
    "start_time": "2024-11-03T09:32:02.448Z"
   },
   {
    "duration": 26,
    "start_time": "2024-11-03T09:32:02.476Z"
   },
   {
    "duration": 10,
    "start_time": "2024-11-03T09:32:02.503Z"
   },
   {
    "duration": 12,
    "start_time": "2024-11-03T09:32:02.515Z"
   },
   {
    "duration": 25,
    "start_time": "2024-11-03T09:32:02.528Z"
   },
   {
    "duration": 28,
    "start_time": "2024-11-03T09:32:02.554Z"
   },
   {
    "duration": 494,
    "start_time": "2024-11-03T09:32:02.583Z"
   },
   {
    "duration": 365,
    "start_time": "2024-11-03T09:32:03.078Z"
   },
   {
    "duration": 472,
    "start_time": "2024-11-03T09:32:03.445Z"
   },
   {
    "duration": 543,
    "start_time": "2024-11-03T09:32:03.919Z"
   },
   {
    "duration": 1004,
    "start_time": "2024-11-03T09:32:04.463Z"
   },
   {
    "duration": 994,
    "start_time": "2024-11-03T09:32:05.469Z"
   },
   {
    "duration": 1001,
    "start_time": "2024-11-03T09:32:06.465Z"
   },
   {
    "duration": 1014,
    "start_time": "2024-11-03T09:32:07.467Z"
   },
   {
    "duration": 1194,
    "start_time": "2024-11-03T09:32:08.483Z"
   },
   {
    "duration": 1016,
    "start_time": "2024-11-03T09:32:09.678Z"
   },
   {
    "duration": 19,
    "start_time": "2024-11-03T09:32:10.695Z"
   },
   {
    "duration": 312,
    "start_time": "2024-11-03T09:32:10.716Z"
   },
   {
    "duration": 868,
    "start_time": "2024-11-03T09:32:11.029Z"
   },
   {
    "duration": 26,
    "start_time": "2024-11-03T09:32:11.898Z"
   },
   {
    "duration": 993,
    "start_time": "2024-11-03T09:32:11.926Z"
   },
   {
    "duration": 9,
    "start_time": "2024-11-03T09:32:12.921Z"
   },
   {
    "duration": 10,
    "start_time": "2024-11-03T09:32:12.932Z"
   },
   {
    "duration": 395,
    "start_time": "2024-11-03T09:32:12.944Z"
   },
   {
    "duration": 5,
    "start_time": "2024-11-03T09:32:13.340Z"
   },
   {
    "duration": 23,
    "start_time": "2024-11-03T09:32:13.346Z"
   },
   {
    "duration": 62,
    "start_time": "2024-11-03T09:32:13.370Z"
   },
   {
    "duration": 570,
    "start_time": "2024-11-03T09:32:13.434Z"
   },
   {
    "duration": 88,
    "start_time": "2024-11-03T09:59:30.403Z"
   },
   {
    "duration": 9,
    "start_time": "2024-11-03T10:11:34.492Z"
   },
   {
    "duration": 124,
    "start_time": "2024-11-03T10:17:55.233Z"
   },
   {
    "duration": 17,
    "start_time": "2024-11-03T10:21:09.263Z"
   },
   {
    "duration": 22,
    "start_time": "2024-11-03T10:24:12.122Z"
   },
   {
    "duration": 17,
    "start_time": "2024-11-03T10:26:55.337Z"
   },
   {
    "duration": 21,
    "start_time": "2024-11-03T10:27:29.189Z"
   },
   {
    "duration": 23,
    "start_time": "2024-11-03T10:32:37.838Z"
   },
   {
    "duration": 19,
    "start_time": "2024-11-03T10:33:39.442Z"
   },
   {
    "duration": 24,
    "start_time": "2024-11-03T11:28:10.745Z"
   },
   {
    "duration": 23,
    "start_time": "2024-11-03T11:40:04.818Z"
   },
   {
    "duration": 57,
    "start_time": "2024-11-03T15:15:16.820Z"
   },
   {
    "duration": 14,
    "start_time": "2024-11-03T15:16:19.747Z"
   },
   {
    "duration": 7,
    "start_time": "2024-11-03T15:16:37.700Z"
   },
   {
    "duration": 1473,
    "start_time": "2024-11-03T15:16:50.413Z"
   },
   {
    "duration": 3550,
    "start_time": "2024-11-03T15:16:51.887Z"
   },
   {
    "duration": 55,
    "start_time": "2024-11-03T15:16:55.439Z"
   },
   {
    "duration": 101,
    "start_time": "2024-11-03T15:16:55.495Z"
   },
   {
    "duration": 3,
    "start_time": "2024-11-03T15:16:55.598Z"
   },
   {
    "duration": 129,
    "start_time": "2024-11-03T15:16:55.602Z"
   },
   {
    "duration": 549,
    "start_time": "2024-11-03T15:16:55.732Z"
   },
   {
    "duration": 8,
    "start_time": "2024-11-03T15:16:56.282Z"
   },
   {
    "duration": 6,
    "start_time": "2024-11-03T15:16:56.291Z"
   },
   {
    "duration": 11,
    "start_time": "2024-11-03T15:16:56.298Z"
   },
   {
    "duration": 13,
    "start_time": "2024-11-03T15:16:56.310Z"
   },
   {
    "duration": 26,
    "start_time": "2024-11-03T15:16:56.324Z"
   },
   {
    "duration": 28,
    "start_time": "2024-11-03T15:16:56.352Z"
   },
   {
    "duration": 30,
    "start_time": "2024-11-03T15:16:56.384Z"
   },
   {
    "duration": 545,
    "start_time": "2024-11-03T15:16:56.415Z"
   },
   {
    "duration": 379,
    "start_time": "2024-11-03T15:16:56.962Z"
   },
   {
    "duration": 557,
    "start_time": "2024-11-03T15:16:57.342Z"
   },
   {
    "duration": 538,
    "start_time": "2024-11-03T15:16:57.900Z"
   },
   {
    "duration": 1154,
    "start_time": "2024-11-03T15:16:58.439Z"
   },
   {
    "duration": 1111,
    "start_time": "2024-11-03T15:16:59.594Z"
   },
   {
    "duration": 1095,
    "start_time": "2024-11-03T15:17:00.706Z"
   },
   {
    "duration": 1208,
    "start_time": "2024-11-03T15:17:01.802Z"
   },
   {
    "duration": 1263,
    "start_time": "2024-11-03T15:17:03.011Z"
   },
   {
    "duration": 1133,
    "start_time": "2024-11-03T15:17:04.276Z"
   },
   {
    "duration": 94,
    "start_time": "2024-11-03T15:17:05.411Z"
   },
   {
    "duration": 13,
    "start_time": "2024-11-03T15:17:05.507Z"
   },
   {
    "duration": 384,
    "start_time": "2024-11-03T15:17:05.522Z"
   },
   {
    "duration": 1032,
    "start_time": "2024-11-03T15:17:05.908Z"
   },
   {
    "duration": 23,
    "start_time": "2024-11-03T15:17:06.942Z"
   },
   {
    "duration": 58,
    "start_time": "2024-11-03T15:17:06.967Z"
   },
   {
    "duration": 0,
    "start_time": "2024-11-03T15:17:07.026Z"
   },
   {
    "duration": 0,
    "start_time": "2024-11-03T15:17:07.028Z"
   },
   {
    "duration": 0,
    "start_time": "2024-11-03T15:17:07.029Z"
   },
   {
    "duration": 0,
    "start_time": "2024-11-03T15:17:07.030Z"
   },
   {
    "duration": 0,
    "start_time": "2024-11-03T15:17:07.031Z"
   },
   {
    "duration": 0,
    "start_time": "2024-11-03T15:17:07.032Z"
   },
   {
    "duration": 0,
    "start_time": "2024-11-03T15:17:07.034Z"
   },
   {
    "duration": 0,
    "start_time": "2024-11-03T15:17:07.035Z"
   },
   {
    "duration": 1264,
    "start_time": "2024-11-03T15:26:55.712Z"
   },
   {
    "duration": 2533,
    "start_time": "2024-11-03T15:26:56.978Z"
   },
   {
    "duration": 51,
    "start_time": "2024-11-03T15:26:59.512Z"
   },
   {
    "duration": 44,
    "start_time": "2024-11-03T15:26:59.564Z"
   },
   {
    "duration": 3,
    "start_time": "2024-11-03T15:26:59.611Z"
   },
   {
    "duration": 121,
    "start_time": "2024-11-03T15:26:59.616Z"
   },
   {
    "duration": 558,
    "start_time": "2024-11-03T15:26:59.739Z"
   },
   {
    "duration": 8,
    "start_time": "2024-11-03T15:27:00.299Z"
   },
   {
    "duration": 19,
    "start_time": "2024-11-03T15:27:00.309Z"
   },
   {
    "duration": 35,
    "start_time": "2024-11-03T15:27:00.330Z"
   },
   {
    "duration": 31,
    "start_time": "2024-11-03T15:27:00.367Z"
   },
   {
    "duration": 43,
    "start_time": "2024-11-03T15:27:00.400Z"
   },
   {
    "duration": 30,
    "start_time": "2024-11-03T15:27:00.444Z"
   },
   {
    "duration": 28,
    "start_time": "2024-11-03T15:27:00.477Z"
   },
   {
    "duration": 518,
    "start_time": "2024-11-03T15:27:00.507Z"
   },
   {
    "duration": 402,
    "start_time": "2024-11-03T15:27:01.027Z"
   },
   {
    "duration": 595,
    "start_time": "2024-11-03T15:27:01.430Z"
   },
   {
    "duration": 630,
    "start_time": "2024-11-03T15:27:02.027Z"
   },
   {
    "duration": 1153,
    "start_time": "2024-11-03T15:27:02.659Z"
   },
   {
    "duration": 1219,
    "start_time": "2024-11-03T15:27:03.814Z"
   },
   {
    "duration": 1259,
    "start_time": "2024-11-03T15:27:05.048Z"
   },
   {
    "duration": 1230,
    "start_time": "2024-11-03T15:27:06.308Z"
   },
   {
    "duration": 1389,
    "start_time": "2024-11-03T15:27:07.540Z"
   },
   {
    "duration": 1245,
    "start_time": "2024-11-03T15:27:08.930Z"
   },
   {
    "duration": 100,
    "start_time": "2024-11-03T15:27:10.177Z"
   },
   {
    "duration": 5,
    "start_time": "2024-11-03T15:27:10.279Z"
   },
   {
    "duration": 393,
    "start_time": "2024-11-03T15:27:10.286Z"
   },
   {
    "duration": 991,
    "start_time": "2024-11-03T15:27:10.681Z"
   },
   {
    "duration": 23,
    "start_time": "2024-11-03T15:27:11.675Z"
   },
   {
    "duration": 855,
    "start_time": "2024-11-03T15:27:11.700Z"
   },
   {
    "duration": 11,
    "start_time": "2024-11-03T15:27:12.557Z"
   },
   {
    "duration": 15,
    "start_time": "2024-11-03T15:27:12.569Z"
   },
   {
    "duration": 380,
    "start_time": "2024-11-03T15:27:12.586Z"
   },
   {
    "duration": 6,
    "start_time": "2024-11-03T15:27:12.968Z"
   },
   {
    "duration": 34,
    "start_time": "2024-11-03T15:27:12.976Z"
   },
   {
    "duration": 38,
    "start_time": "2024-11-03T15:27:13.012Z"
   },
   {
    "duration": 607,
    "start_time": "2024-11-03T15:27:13.052Z"
   },
   {
    "duration": 1213,
    "start_time": "2024-11-03T15:35:20.415Z"
   },
   {
    "duration": 2340,
    "start_time": "2024-11-03T15:35:21.630Z"
   },
   {
    "duration": 51,
    "start_time": "2024-11-03T15:35:23.973Z"
   },
   {
    "duration": 46,
    "start_time": "2024-11-03T15:35:24.025Z"
   },
   {
    "duration": 3,
    "start_time": "2024-11-03T15:35:24.073Z"
   },
   {
    "duration": 121,
    "start_time": "2024-11-03T15:35:24.077Z"
   },
   {
    "duration": 500,
    "start_time": "2024-11-03T15:35:24.200Z"
   },
   {
    "duration": 9,
    "start_time": "2024-11-03T15:35:24.701Z"
   },
   {
    "duration": 7,
    "start_time": "2024-11-03T15:35:24.712Z"
   },
   {
    "duration": 44,
    "start_time": "2024-11-03T15:35:24.720Z"
   },
   {
    "duration": 23,
    "start_time": "2024-11-03T15:35:24.765Z"
   },
   {
    "duration": 15,
    "start_time": "2024-11-03T15:35:24.789Z"
   },
   {
    "duration": 21,
    "start_time": "2024-11-03T15:35:24.806Z"
   },
   {
    "duration": 30,
    "start_time": "2024-11-03T15:35:24.829Z"
   },
   {
    "duration": 520,
    "start_time": "2024-11-03T15:35:24.860Z"
   },
   {
    "duration": 412,
    "start_time": "2024-11-03T15:35:25.382Z"
   },
   {
    "duration": 499,
    "start_time": "2024-11-03T15:35:25.795Z"
   },
   {
    "duration": 539,
    "start_time": "2024-11-03T15:35:26.296Z"
   },
   {
    "duration": 1077,
    "start_time": "2024-11-03T15:35:26.837Z"
   },
   {
    "duration": 1095,
    "start_time": "2024-11-03T15:35:27.915Z"
   },
   {
    "duration": 1079,
    "start_time": "2024-11-03T15:35:29.012Z"
   },
   {
    "duration": 1206,
    "start_time": "2024-11-03T15:35:30.092Z"
   },
   {
    "duration": 1281,
    "start_time": "2024-11-03T15:35:31.300Z"
   },
   {
    "duration": 1129,
    "start_time": "2024-11-03T15:35:32.582Z"
   },
   {
    "duration": 98,
    "start_time": "2024-11-03T15:35:33.712Z"
   },
   {
    "duration": 4,
    "start_time": "2024-11-03T15:35:33.811Z"
   },
   {
    "duration": 435,
    "start_time": "2024-11-03T15:35:33.816Z"
   },
   {
    "duration": 996,
    "start_time": "2024-11-03T15:35:34.252Z"
   },
   {
    "duration": 22,
    "start_time": "2024-11-03T15:35:35.250Z"
   },
   {
    "duration": 836,
    "start_time": "2024-11-03T15:35:35.273Z"
   },
   {
    "duration": 10,
    "start_time": "2024-11-03T15:35:36.110Z"
   },
   {
    "duration": 66,
    "start_time": "2024-11-03T15:35:36.122Z"
   },
   {
    "duration": 380,
    "start_time": "2024-11-03T15:35:36.190Z"
   },
   {
    "duration": 5,
    "start_time": "2024-11-03T15:35:36.572Z"
   },
   {
    "duration": 44,
    "start_time": "2024-11-03T15:35:36.578Z"
   },
   {
    "duration": 43,
    "start_time": "2024-11-03T15:35:36.623Z"
   },
   {
    "duration": 651,
    "start_time": "2024-11-03T15:35:36.667Z"
   },
   {
    "duration": 637,
    "start_time": "2024-11-03T15:42:54.224Z"
   },
   {
    "duration": 624,
    "start_time": "2024-11-03T15:44:19.147Z"
   },
   {
    "duration": 645,
    "start_time": "2024-11-03T15:48:45.972Z"
   },
   {
    "duration": 741,
    "start_time": "2024-11-03T15:50:31.466Z"
   },
   {
    "duration": 649,
    "start_time": "2024-11-03T15:51:37.426Z"
   },
   {
    "duration": 630,
    "start_time": "2024-11-03T15:52:58.273Z"
   },
   {
    "duration": 640,
    "start_time": "2024-11-03T15:54:30.973Z"
   },
   {
    "duration": 619,
    "start_time": "2024-11-03T15:56:26.996Z"
   },
   {
    "duration": 647,
    "start_time": "2024-11-03T15:58:01.115Z"
   },
   {
    "duration": 695,
    "start_time": "2024-11-03T15:58:32.691Z"
   },
   {
    "duration": 599,
    "start_time": "2024-11-03T15:58:53.786Z"
   },
   {
    "duration": 660,
    "start_time": "2024-11-03T16:08:27.545Z"
   },
   {
    "duration": 1166,
    "start_time": "2024-11-03T16:18:15.678Z"
   },
   {
    "duration": 2382,
    "start_time": "2024-11-03T16:18:16.847Z"
   },
   {
    "duration": 47,
    "start_time": "2024-11-03T16:18:19.231Z"
   },
   {
    "duration": 47,
    "start_time": "2024-11-03T16:18:19.280Z"
   },
   {
    "duration": 3,
    "start_time": "2024-11-03T16:18:19.329Z"
   },
   {
    "duration": 142,
    "start_time": "2024-11-03T16:18:19.333Z"
   },
   {
    "duration": 514,
    "start_time": "2024-11-03T16:18:19.476Z"
   },
   {
    "duration": 8,
    "start_time": "2024-11-03T16:18:19.992Z"
   },
   {
    "duration": 61,
    "start_time": "2024-11-03T16:18:20.001Z"
   },
   {
    "duration": 36,
    "start_time": "2024-11-03T16:18:20.063Z"
   },
   {
    "duration": 49,
    "start_time": "2024-11-03T16:18:20.101Z"
   },
   {
    "duration": 49,
    "start_time": "2024-11-03T16:18:20.151Z"
   },
   {
    "duration": 44,
    "start_time": "2024-11-03T16:18:20.201Z"
   },
   {
    "duration": 44,
    "start_time": "2024-11-03T16:18:20.248Z"
   },
   {
    "duration": 565,
    "start_time": "2024-11-03T16:18:20.294Z"
   },
   {
    "duration": 402,
    "start_time": "2024-11-03T16:18:20.861Z"
   },
   {
    "duration": 524,
    "start_time": "2024-11-03T16:18:21.265Z"
   },
   {
    "duration": 565,
    "start_time": "2024-11-03T16:18:21.791Z"
   },
   {
    "duration": 1125,
    "start_time": "2024-11-03T16:18:22.358Z"
   },
   {
    "duration": 1121,
    "start_time": "2024-11-03T16:18:23.485Z"
   },
   {
    "duration": 1098,
    "start_time": "2024-11-03T16:18:24.608Z"
   },
   {
    "duration": 1155,
    "start_time": "2024-11-03T16:18:25.708Z"
   },
   {
    "duration": 1285,
    "start_time": "2024-11-03T16:18:26.865Z"
   },
   {
    "duration": 1168,
    "start_time": "2024-11-03T16:18:28.152Z"
   },
   {
    "duration": 99,
    "start_time": "2024-11-03T16:18:29.322Z"
   },
   {
    "duration": 5,
    "start_time": "2024-11-03T16:18:29.422Z"
   },
   {
    "duration": 360,
    "start_time": "2024-11-03T16:18:29.430Z"
   },
   {
    "duration": 1033,
    "start_time": "2024-11-03T16:18:29.791Z"
   },
   {
    "duration": 22,
    "start_time": "2024-11-03T16:18:30.826Z"
   },
   {
    "duration": 854,
    "start_time": "2024-11-03T16:18:30.849Z"
   },
   {
    "duration": 11,
    "start_time": "2024-11-03T16:18:31.705Z"
   },
   {
    "duration": 78,
    "start_time": "2024-11-03T16:18:31.717Z"
   },
   {
    "duration": 434,
    "start_time": "2024-11-03T16:18:31.796Z"
   },
   {
    "duration": 17,
    "start_time": "2024-11-03T16:18:32.232Z"
   },
   {
    "duration": 104,
    "start_time": "2024-11-03T16:18:32.250Z"
   },
   {
    "duration": 66,
    "start_time": "2024-11-03T16:18:32.355Z"
   },
   {
    "duration": 654,
    "start_time": "2024-11-03T16:18:32.422Z"
   },
   {
    "duration": 111,
    "start_time": "2024-11-03T17:09:21.006Z"
   },
   {
    "duration": 112,
    "start_time": "2024-11-03T17:12:09.992Z"
   },
   {
    "duration": 112,
    "start_time": "2024-11-03T17:13:31.168Z"
   },
   {
    "duration": 115,
    "start_time": "2024-11-03T17:14:44.471Z"
   },
   {
    "duration": 108,
    "start_time": "2024-11-03T17:15:06.464Z"
   },
   {
    "duration": 12,
    "start_time": "2024-11-03T17:15:30.089Z"
   },
   {
    "duration": 1287,
    "start_time": "2024-11-03T17:24:01.622Z"
   },
   {
    "duration": 15,
    "start_time": "2024-11-03T17:24:11.213Z"
   },
   {
    "duration": 1092,
    "start_time": "2024-11-03T17:24:15.542Z"
   },
   {
    "duration": 1169,
    "start_time": "2024-11-03T17:39:26.779Z"
   },
   {
    "duration": 2323,
    "start_time": "2024-11-03T17:39:27.949Z"
   },
   {
    "duration": 48,
    "start_time": "2024-11-03T17:39:30.274Z"
   },
   {
    "duration": 47,
    "start_time": "2024-11-03T17:39:30.324Z"
   },
   {
    "duration": 5,
    "start_time": "2024-11-03T17:39:30.373Z"
   },
   {
    "duration": 141,
    "start_time": "2024-11-03T17:39:30.379Z"
   },
   {
    "duration": 498,
    "start_time": "2024-11-03T17:39:30.522Z"
   },
   {
    "duration": 8,
    "start_time": "2024-11-03T17:39:31.022Z"
   },
   {
    "duration": 21,
    "start_time": "2024-11-03T17:39:31.031Z"
   },
   {
    "duration": 24,
    "start_time": "2024-11-03T17:39:31.053Z"
   },
   {
    "duration": 42,
    "start_time": "2024-11-03T17:39:31.078Z"
   },
   {
    "duration": 27,
    "start_time": "2024-11-03T17:39:31.121Z"
   },
   {
    "duration": 46,
    "start_time": "2024-11-03T17:39:31.150Z"
   },
   {
    "duration": 30,
    "start_time": "2024-11-03T17:39:31.199Z"
   },
   {
    "duration": 480,
    "start_time": "2024-11-03T17:39:31.231Z"
   },
   {
    "duration": 401,
    "start_time": "2024-11-03T17:39:31.712Z"
   },
   {
    "duration": 535,
    "start_time": "2024-11-03T17:39:32.115Z"
   },
   {
    "duration": 555,
    "start_time": "2024-11-03T17:39:32.652Z"
   },
   {
    "duration": 1090,
    "start_time": "2024-11-03T17:39:33.209Z"
   },
   {
    "duration": 1084,
    "start_time": "2024-11-03T17:39:34.301Z"
   },
   {
    "duration": 1098,
    "start_time": "2024-11-03T17:39:35.386Z"
   },
   {
    "duration": 1136,
    "start_time": "2024-11-03T17:39:36.486Z"
   },
   {
    "duration": 1228,
    "start_time": "2024-11-03T17:39:37.624Z"
   },
   {
    "duration": 1149,
    "start_time": "2024-11-03T17:39:38.854Z"
   },
   {
    "duration": 20,
    "start_time": "2024-11-03T17:39:40.005Z"
   },
   {
    "duration": 1156,
    "start_time": "2024-11-03T17:39:40.027Z"
   },
   {
    "duration": 4,
    "start_time": "2024-11-03T17:39:41.184Z"
   },
   {
    "duration": 353,
    "start_time": "2024-11-03T17:39:41.190Z"
   },
   {
    "duration": 988,
    "start_time": "2024-11-03T17:39:41.548Z"
   },
   {
    "duration": 21,
    "start_time": "2024-11-03T17:39:42.538Z"
   },
   {
    "duration": 861,
    "start_time": "2024-11-03T17:39:42.560Z"
   },
   {
    "duration": 12,
    "start_time": "2024-11-03T17:39:43.423Z"
   },
   {
    "duration": 15,
    "start_time": "2024-11-03T17:39:43.447Z"
   },
   {
    "duration": 386,
    "start_time": "2024-11-03T17:39:43.464Z"
   },
   {
    "duration": 7,
    "start_time": "2024-11-03T17:39:43.851Z"
   },
   {
    "duration": 16,
    "start_time": "2024-11-03T17:39:43.859Z"
   },
   {
    "duration": 30,
    "start_time": "2024-11-03T17:39:43.877Z"
   },
   {
    "duration": 673,
    "start_time": "2024-11-03T17:39:43.909Z"
   },
   {
    "duration": 1207,
    "start_time": "2024-11-03T19:14:36.547Z"
   },
   {
    "duration": 2364,
    "start_time": "2024-11-03T19:14:37.756Z"
   },
   {
    "duration": 45,
    "start_time": "2024-11-03T19:14:40.121Z"
   },
   {
    "duration": 45,
    "start_time": "2024-11-03T19:14:40.168Z"
   },
   {
    "duration": 3,
    "start_time": "2024-11-03T19:14:40.215Z"
   },
   {
    "duration": 117,
    "start_time": "2024-11-03T19:14:40.220Z"
   },
   {
    "duration": 492,
    "start_time": "2024-11-03T19:14:40.348Z"
   },
   {
    "duration": 8,
    "start_time": "2024-11-03T19:14:40.847Z"
   },
   {
    "duration": 6,
    "start_time": "2024-11-03T19:14:40.857Z"
   },
   {
    "duration": 5,
    "start_time": "2024-11-03T19:14:40.865Z"
   },
   {
    "duration": 11,
    "start_time": "2024-11-03T19:14:40.871Z"
   },
   {
    "duration": 12,
    "start_time": "2024-11-03T19:14:40.884Z"
   },
   {
    "duration": 57,
    "start_time": "2024-11-03T19:14:40.898Z"
   },
   {
    "duration": 29,
    "start_time": "2024-11-03T19:14:40.958Z"
   },
   {
    "duration": 467,
    "start_time": "2024-11-03T19:14:40.989Z"
   },
   {
    "duration": 368,
    "start_time": "2024-11-03T19:14:41.457Z"
   },
   {
    "duration": 552,
    "start_time": "2024-11-03T19:14:41.826Z"
   },
   {
    "duration": 533,
    "start_time": "2024-11-03T19:14:42.380Z"
   },
   {
    "duration": 1090,
    "start_time": "2024-11-03T19:14:42.915Z"
   },
   {
    "duration": 1060,
    "start_time": "2024-11-03T19:14:44.006Z"
   },
   {
    "duration": 1048,
    "start_time": "2024-11-03T19:14:45.068Z"
   },
   {
    "duration": 1095,
    "start_time": "2024-11-03T19:14:46.118Z"
   },
   {
    "duration": 1226,
    "start_time": "2024-11-03T19:14:47.214Z"
   },
   {
    "duration": 1113,
    "start_time": "2024-11-03T19:14:48.447Z"
   },
   {
    "duration": 18,
    "start_time": "2024-11-03T19:14:49.561Z"
   },
   {
    "duration": 1133,
    "start_time": "2024-11-03T19:14:49.581Z"
   },
   {
    "duration": 4,
    "start_time": "2024-11-03T19:14:50.715Z"
   },
   {
    "duration": 346,
    "start_time": "2024-11-03T19:14:50.721Z"
   },
   {
    "duration": 947,
    "start_time": "2024-11-03T19:14:51.069Z"
   },
   {
    "duration": 22,
    "start_time": "2024-11-03T19:14:52.018Z"
   },
   {
    "duration": 884,
    "start_time": "2024-11-03T19:14:52.041Z"
   },
   {
    "duration": 10,
    "start_time": "2024-11-03T19:14:52.926Z"
   },
   {
    "duration": 29,
    "start_time": "2024-11-03T19:14:52.938Z"
   },
   {
    "duration": 349,
    "start_time": "2024-11-03T19:14:52.968Z"
   },
   {
    "duration": 5,
    "start_time": "2024-11-03T19:14:53.318Z"
   },
   {
    "duration": 32,
    "start_time": "2024-11-03T19:14:53.325Z"
   },
   {
    "duration": 24,
    "start_time": "2024-11-03T19:14:53.358Z"
   },
   {
    "duration": 633,
    "start_time": "2024-11-03T19:14:53.383Z"
   },
   {
    "duration": 1142,
    "start_time": "2024-11-03T19:20:47.278Z"
   },
   {
    "duration": 1210,
    "start_time": "2024-11-03T19:21:29.834Z"
   },
   {
    "duration": 2377,
    "start_time": "2024-11-03T19:21:31.048Z"
   },
   {
    "duration": 45,
    "start_time": "2024-11-03T19:21:33.427Z"
   },
   {
    "duration": 44,
    "start_time": "2024-11-03T19:21:33.473Z"
   },
   {
    "duration": 3,
    "start_time": "2024-11-03T19:21:33.519Z"
   },
   {
    "duration": 148,
    "start_time": "2024-11-03T19:21:33.523Z"
   },
   {
    "duration": 515,
    "start_time": "2024-11-03T19:21:33.672Z"
   },
   {
    "duration": 9,
    "start_time": "2024-11-03T19:21:34.188Z"
   },
   {
    "duration": 12,
    "start_time": "2024-11-03T19:21:34.199Z"
   },
   {
    "duration": 13,
    "start_time": "2024-11-03T19:21:34.213Z"
   },
   {
    "duration": 25,
    "start_time": "2024-11-03T19:21:34.227Z"
   },
   {
    "duration": 46,
    "start_time": "2024-11-03T19:21:34.253Z"
   },
   {
    "duration": 57,
    "start_time": "2024-11-03T19:21:34.301Z"
   },
   {
    "duration": 66,
    "start_time": "2024-11-03T19:21:34.362Z"
   },
   {
    "duration": 427,
    "start_time": "2024-11-03T19:21:34.429Z"
   },
   {
    "duration": 369,
    "start_time": "2024-11-03T19:21:34.857Z"
   },
   {
    "duration": 533,
    "start_time": "2024-11-03T19:21:35.227Z"
   },
   {
    "duration": 557,
    "start_time": "2024-11-03T19:21:35.762Z"
   },
   {
    "duration": 1072,
    "start_time": "2024-11-03T19:21:36.321Z"
   },
   {
    "duration": 1089,
    "start_time": "2024-11-03T19:21:37.395Z"
   },
   {
    "duration": 1014,
    "start_time": "2024-11-03T19:21:38.485Z"
   },
   {
    "duration": 1106,
    "start_time": "2024-11-03T19:21:39.501Z"
   },
   {
    "duration": 1228,
    "start_time": "2024-11-03T19:21:40.609Z"
   },
   {
    "duration": 1183,
    "start_time": "2024-11-03T19:21:41.838Z"
   },
   {
    "duration": 26,
    "start_time": "2024-11-03T19:21:43.023Z"
   },
   {
    "duration": 1107,
    "start_time": "2024-11-03T19:21:43.050Z"
   },
   {
    "duration": 4,
    "start_time": "2024-11-03T19:21:44.159Z"
   },
   {
    "duration": 353,
    "start_time": "2024-11-03T19:21:44.164Z"
   },
   {
    "duration": 997,
    "start_time": "2024-11-03T19:21:44.519Z"
   },
   {
    "duration": 23,
    "start_time": "2024-11-03T19:21:45.518Z"
   },
   {
    "duration": 895,
    "start_time": "2024-11-03T19:21:45.543Z"
   },
   {
    "duration": 14,
    "start_time": "2024-11-03T19:21:46.440Z"
   },
   {
    "duration": 27,
    "start_time": "2024-11-03T19:21:46.456Z"
   },
   {
    "duration": 356,
    "start_time": "2024-11-03T19:21:46.485Z"
   },
   {
    "duration": 6,
    "start_time": "2024-11-03T19:21:46.842Z"
   },
   {
    "duration": 19,
    "start_time": "2024-11-03T19:21:46.849Z"
   },
   {
    "duration": 24,
    "start_time": "2024-11-03T19:21:46.869Z"
   },
   {
    "duration": 647,
    "start_time": "2024-11-03T19:21:46.895Z"
   },
   {
    "duration": 1141,
    "start_time": "2024-11-03T19:33:36.510Z"
   },
   {
    "duration": 2306,
    "start_time": "2024-11-03T19:33:37.653Z"
   },
   {
    "duration": 44,
    "start_time": "2024-11-03T19:33:39.961Z"
   },
   {
    "duration": 45,
    "start_time": "2024-11-03T19:33:40.007Z"
   },
   {
    "duration": 3,
    "start_time": "2024-11-03T19:33:40.053Z"
   },
   {
    "duration": 128,
    "start_time": "2024-11-03T19:33:40.057Z"
   },
   {
    "duration": 501,
    "start_time": "2024-11-03T19:33:40.186Z"
   },
   {
    "duration": 9,
    "start_time": "2024-11-03T19:33:40.689Z"
   },
   {
    "duration": 5,
    "start_time": "2024-11-03T19:33:40.700Z"
   },
   {
    "duration": 7,
    "start_time": "2024-11-03T19:33:40.707Z"
   },
   {
    "duration": 33,
    "start_time": "2024-11-03T19:33:40.716Z"
   },
   {
    "duration": 11,
    "start_time": "2024-11-03T19:33:40.751Z"
   },
   {
    "duration": 19,
    "start_time": "2024-11-03T19:33:40.764Z"
   },
   {
    "duration": 27,
    "start_time": "2024-11-03T19:33:40.785Z"
   },
   {
    "duration": 513,
    "start_time": "2024-11-03T19:33:40.814Z"
   },
   {
    "duration": 386,
    "start_time": "2024-11-03T19:33:41.329Z"
   },
   {
    "duration": 541,
    "start_time": "2024-11-03T19:33:41.717Z"
   },
   {
    "duration": 542,
    "start_time": "2024-11-03T19:33:42.259Z"
   },
   {
    "duration": 1084,
    "start_time": "2024-11-03T19:33:42.803Z"
   },
   {
    "duration": 1109,
    "start_time": "2024-11-03T19:33:43.888Z"
   },
   {
    "duration": 1090,
    "start_time": "2024-11-03T19:33:44.998Z"
   },
   {
    "duration": 1111,
    "start_time": "2024-11-03T19:33:46.089Z"
   },
   {
    "duration": 1216,
    "start_time": "2024-11-03T19:33:47.202Z"
   },
   {
    "duration": 1101,
    "start_time": "2024-11-03T19:33:48.420Z"
   },
   {
    "duration": 28,
    "start_time": "2024-11-03T19:33:49.522Z"
   },
   {
    "duration": 1150,
    "start_time": "2024-11-03T19:33:49.551Z"
   },
   {
    "duration": 4,
    "start_time": "2024-11-03T19:33:50.703Z"
   },
   {
    "duration": 364,
    "start_time": "2024-11-03T19:33:50.710Z"
   },
   {
    "duration": 937,
    "start_time": "2024-11-03T19:33:51.075Z"
   },
   {
    "duration": 24,
    "start_time": "2024-11-03T19:33:52.014Z"
   },
   {
    "duration": 901,
    "start_time": "2024-11-03T19:33:52.040Z"
   },
   {
    "duration": 15,
    "start_time": "2024-11-03T19:33:52.943Z"
   },
   {
    "duration": 13,
    "start_time": "2024-11-03T19:33:52.959Z"
   },
   {
    "duration": 376,
    "start_time": "2024-11-03T19:33:52.974Z"
   },
   {
    "duration": 4,
    "start_time": "2024-11-03T19:33:53.351Z"
   },
   {
    "duration": 19,
    "start_time": "2024-11-03T19:33:53.357Z"
   },
   {
    "duration": 23,
    "start_time": "2024-11-03T19:33:53.377Z"
   },
   {
    "duration": 646,
    "start_time": "2024-11-03T19:33:53.402Z"
   },
   {
    "duration": 1223,
    "start_time": "2024-11-03T19:37:00.034Z"
   },
   {
    "duration": 2342,
    "start_time": "2024-11-03T19:37:01.259Z"
   },
   {
    "duration": 49,
    "start_time": "2024-11-03T19:37:03.603Z"
   },
   {
    "duration": 46,
    "start_time": "2024-11-03T19:37:03.653Z"
   },
   {
    "duration": 3,
    "start_time": "2024-11-03T19:37:03.701Z"
   },
   {
    "duration": 123,
    "start_time": "2024-11-03T19:37:03.706Z"
   },
   {
    "duration": 521,
    "start_time": "2024-11-03T19:37:03.830Z"
   },
   {
    "duration": 8,
    "start_time": "2024-11-03T19:37:04.353Z"
   },
   {
    "duration": 25,
    "start_time": "2024-11-03T19:37:04.362Z"
   },
   {
    "duration": 80,
    "start_time": "2024-11-03T19:37:04.389Z"
   },
   {
    "duration": 15,
    "start_time": "2024-11-03T19:37:04.471Z"
   },
   {
    "duration": 12,
    "start_time": "2024-11-03T19:37:04.487Z"
   },
   {
    "duration": 20,
    "start_time": "2024-11-03T19:37:04.500Z"
   },
   {
    "duration": 29,
    "start_time": "2024-11-03T19:37:04.523Z"
   },
   {
    "duration": 516,
    "start_time": "2024-11-03T19:37:04.553Z"
   },
   {
    "duration": 417,
    "start_time": "2024-11-03T19:37:05.070Z"
   },
   {
    "duration": 525,
    "start_time": "2024-11-03T19:37:05.489Z"
   },
   {
    "duration": 547,
    "start_time": "2024-11-03T19:37:06.016Z"
   },
   {
    "duration": 1044,
    "start_time": "2024-11-03T19:37:06.564Z"
   },
   {
    "duration": 1087,
    "start_time": "2024-11-03T19:37:07.609Z"
   },
   {
    "duration": 1082,
    "start_time": "2024-11-03T19:37:08.697Z"
   },
   {
    "duration": 1133,
    "start_time": "2024-11-03T19:37:09.781Z"
   },
   {
    "duration": 1238,
    "start_time": "2024-11-03T19:37:10.916Z"
   },
   {
    "duration": 1125,
    "start_time": "2024-11-03T19:37:12.155Z"
   },
   {
    "duration": 18,
    "start_time": "2024-11-03T19:37:13.281Z"
   },
   {
    "duration": 1129,
    "start_time": "2024-11-03T19:37:13.300Z"
   },
   {
    "duration": 4,
    "start_time": "2024-11-03T19:37:14.430Z"
   },
   {
    "duration": 360,
    "start_time": "2024-11-03T19:37:14.436Z"
   },
   {
    "duration": 1003,
    "start_time": "2024-11-03T19:37:14.797Z"
   },
   {
    "duration": 23,
    "start_time": "2024-11-03T19:37:15.802Z"
   },
   {
    "duration": 922,
    "start_time": "2024-11-03T19:37:15.826Z"
   },
   {
    "duration": 11,
    "start_time": "2024-11-03T19:37:16.749Z"
   },
   {
    "duration": 16,
    "start_time": "2024-11-03T19:37:16.761Z"
   },
   {
    "duration": 376,
    "start_time": "2024-11-03T19:37:16.779Z"
   },
   {
    "duration": 4,
    "start_time": "2024-11-03T19:37:17.157Z"
   },
   {
    "duration": 21,
    "start_time": "2024-11-03T19:37:17.163Z"
   },
   {
    "duration": 24,
    "start_time": "2024-11-03T19:37:17.185Z"
   },
   {
    "duration": 646,
    "start_time": "2024-11-03T19:37:17.211Z"
   },
   {
    "duration": 1221,
    "start_time": "2024-11-03T19:40:16.627Z"
   },
   {
    "duration": 2307,
    "start_time": "2024-11-03T19:40:17.850Z"
   },
   {
    "duration": 44,
    "start_time": "2024-11-03T19:40:20.159Z"
   },
   {
    "duration": 44,
    "start_time": "2024-11-03T19:40:20.204Z"
   },
   {
    "duration": 3,
    "start_time": "2024-11-03T19:40:20.250Z"
   },
   {
    "duration": 125,
    "start_time": "2024-11-03T19:40:20.254Z"
   },
   {
    "duration": 480,
    "start_time": "2024-11-03T19:40:20.380Z"
   },
   {
    "duration": 8,
    "start_time": "2024-11-03T19:40:20.861Z"
   },
   {
    "duration": 12,
    "start_time": "2024-11-03T19:40:20.871Z"
   },
   {
    "duration": 4,
    "start_time": "2024-11-03T19:40:20.886Z"
   },
   {
    "duration": 15,
    "start_time": "2024-11-03T19:40:20.892Z"
   },
   {
    "duration": 18,
    "start_time": "2024-11-03T19:40:20.908Z"
   },
   {
    "duration": 38,
    "start_time": "2024-11-03T19:40:20.927Z"
   },
   {
    "duration": 27,
    "start_time": "2024-11-03T19:40:20.967Z"
   },
   {
    "duration": 474,
    "start_time": "2024-11-03T19:40:20.996Z"
   },
   {
    "duration": 405,
    "start_time": "2024-11-03T19:40:21.472Z"
   },
   {
    "duration": 500,
    "start_time": "2024-11-03T19:40:21.878Z"
   },
   {
    "duration": 544,
    "start_time": "2024-11-03T19:40:22.379Z"
   },
   {
    "duration": 1084,
    "start_time": "2024-11-03T19:40:22.925Z"
   },
   {
    "duration": 1087,
    "start_time": "2024-11-03T19:40:24.011Z"
   },
   {
    "duration": 1090,
    "start_time": "2024-11-03T19:40:25.099Z"
   },
   {
    "duration": 1122,
    "start_time": "2024-11-03T19:40:26.191Z"
   },
   {
    "duration": 1239,
    "start_time": "2024-11-03T19:40:27.315Z"
   },
   {
    "duration": 1169,
    "start_time": "2024-11-03T19:40:28.555Z"
   },
   {
    "duration": 28,
    "start_time": "2024-11-03T19:40:29.725Z"
   },
   {
    "duration": 1157,
    "start_time": "2024-11-03T19:40:29.754Z"
   },
   {
    "duration": 4,
    "start_time": "2024-11-03T19:40:30.912Z"
   },
   {
    "duration": 377,
    "start_time": "2024-11-03T19:40:30.919Z"
   },
   {
    "duration": 1014,
    "start_time": "2024-11-03T19:40:31.298Z"
   },
   {
    "duration": 20,
    "start_time": "2024-11-03T19:40:32.314Z"
   },
   {
    "duration": 921,
    "start_time": "2024-11-03T19:40:32.335Z"
   },
   {
    "duration": 11,
    "start_time": "2024-11-03T19:40:33.257Z"
   },
   {
    "duration": 13,
    "start_time": "2024-11-03T19:40:33.269Z"
   },
   {
    "duration": 378,
    "start_time": "2024-11-03T19:40:33.284Z"
   },
   {
    "duration": 4,
    "start_time": "2024-11-03T19:40:33.664Z"
   },
   {
    "duration": 26,
    "start_time": "2024-11-03T19:40:33.670Z"
   },
   {
    "duration": 27,
    "start_time": "2024-11-03T19:40:33.697Z"
   },
   {
    "duration": 650,
    "start_time": "2024-11-03T19:40:33.726Z"
   },
   {
    "duration": 1419,
    "start_time": "2024-11-04T06:49:54.715Z"
   },
   {
    "duration": 3257,
    "start_time": "2024-11-04T06:49:56.136Z"
   },
   {
    "duration": 46,
    "start_time": "2024-11-04T06:49:59.394Z"
   },
   {
    "duration": 106,
    "start_time": "2024-11-04T06:49:59.442Z"
   },
   {
    "duration": 3,
    "start_time": "2024-11-04T06:49:59.550Z"
   },
   {
    "duration": 118,
    "start_time": "2024-11-04T06:49:59.555Z"
   },
   {
    "duration": 503,
    "start_time": "2024-11-04T06:49:59.674Z"
   },
   {
    "duration": 8,
    "start_time": "2024-11-04T06:50:00.179Z"
   },
   {
    "duration": 20,
    "start_time": "2024-11-04T06:50:00.189Z"
   },
   {
    "duration": 38,
    "start_time": "2024-11-04T06:50:00.211Z"
   },
   {
    "duration": 68,
    "start_time": "2024-11-04T06:50:00.250Z"
   },
   {
    "duration": 53,
    "start_time": "2024-11-04T06:50:00.319Z"
   },
   {
    "duration": 90,
    "start_time": "2024-11-04T06:50:00.374Z"
   },
   {
    "duration": 105,
    "start_time": "2024-11-04T06:50:00.466Z"
   },
   {
    "duration": 467,
    "start_time": "2024-11-04T06:50:00.573Z"
   },
   {
    "duration": 397,
    "start_time": "2024-11-04T06:50:01.041Z"
   },
   {
    "duration": 504,
    "start_time": "2024-11-04T06:50:01.439Z"
   },
   {
    "duration": 659,
    "start_time": "2024-11-04T06:50:01.944Z"
   },
   {
    "duration": 1061,
    "start_time": "2024-11-04T06:50:02.604Z"
   },
   {
    "duration": 1095,
    "start_time": "2024-11-04T06:50:03.667Z"
   },
   {
    "duration": 1058,
    "start_time": "2024-11-04T06:50:04.763Z"
   },
   {
    "duration": 1069,
    "start_time": "2024-11-04T06:50:05.823Z"
   },
   {
    "duration": 1221,
    "start_time": "2024-11-04T06:50:06.893Z"
   },
   {
    "duration": 1105,
    "start_time": "2024-11-04T06:50:08.121Z"
   },
   {
    "duration": 20,
    "start_time": "2024-11-04T06:50:09.228Z"
   },
   {
    "duration": 1150,
    "start_time": "2024-11-04T06:50:09.249Z"
   },
   {
    "duration": 4,
    "start_time": "2024-11-04T06:50:10.400Z"
   },
   {
    "duration": 353,
    "start_time": "2024-11-04T06:50:10.405Z"
   },
   {
    "duration": 950,
    "start_time": "2024-11-04T06:50:10.759Z"
   },
   {
    "duration": 23,
    "start_time": "2024-11-04T06:50:11.711Z"
   },
   {
    "duration": 914,
    "start_time": "2024-11-04T06:50:11.736Z"
   },
   {
    "duration": 12,
    "start_time": "2024-11-04T06:50:12.652Z"
   },
   {
    "duration": 13,
    "start_time": "2024-11-04T06:50:12.666Z"
   },
   {
    "duration": 397,
    "start_time": "2024-11-04T06:50:12.681Z"
   },
   {
    "duration": 6,
    "start_time": "2024-11-04T06:50:13.080Z"
   },
   {
    "duration": 35,
    "start_time": "2024-11-04T06:50:13.088Z"
   },
   {
    "duration": 25,
    "start_time": "2024-11-04T06:50:13.126Z"
   },
   {
    "duration": 637,
    "start_time": "2024-11-04T06:50:13.153Z"
   },
   {
    "duration": 27,
    "start_time": "2024-11-04T06:57:28.949Z"
   },
   {
    "duration": 1232,
    "start_time": "2024-11-04T07:18:53.895Z"
   },
   {
    "duration": 2381,
    "start_time": "2024-11-04T07:18:55.128Z"
   },
   {
    "duration": 47,
    "start_time": "2024-11-04T07:18:57.511Z"
   },
   {
    "duration": 48,
    "start_time": "2024-11-04T07:18:57.560Z"
   },
   {
    "duration": 4,
    "start_time": "2024-11-04T07:18:57.610Z"
   },
   {
    "duration": 133,
    "start_time": "2024-11-04T07:18:57.615Z"
   },
   {
    "duration": 506,
    "start_time": "2024-11-04T07:18:57.749Z"
   },
   {
    "duration": 8,
    "start_time": "2024-11-04T07:18:58.257Z"
   },
   {
    "duration": 14,
    "start_time": "2024-11-04T07:18:58.267Z"
   },
   {
    "duration": 6,
    "start_time": "2024-11-04T07:18:58.282Z"
   },
   {
    "duration": 33,
    "start_time": "2024-11-04T07:18:58.289Z"
   },
   {
    "duration": 15,
    "start_time": "2024-11-04T07:18:58.323Z"
   },
   {
    "duration": 21,
    "start_time": "2024-11-04T07:18:58.339Z"
   },
   {
    "duration": 28,
    "start_time": "2024-11-04T07:18:58.363Z"
   },
   {
    "duration": 550,
    "start_time": "2024-11-04T07:18:58.393Z"
   },
   {
    "duration": 433,
    "start_time": "2024-11-04T07:18:58.944Z"
   },
   {
    "duration": 536,
    "start_time": "2024-11-04T07:18:59.379Z"
   },
   {
    "duration": 654,
    "start_time": "2024-11-04T07:18:59.921Z"
   },
   {
    "duration": 1097,
    "start_time": "2024-11-04T07:19:00.576Z"
   },
   {
    "duration": 1100,
    "start_time": "2024-11-04T07:19:01.674Z"
   },
   {
    "duration": 1089,
    "start_time": "2024-11-04T07:19:02.776Z"
   },
   {
    "duration": 1116,
    "start_time": "2024-11-04T07:19:03.866Z"
   },
   {
    "duration": 1243,
    "start_time": "2024-11-04T07:19:04.983Z"
   },
   {
    "duration": 1163,
    "start_time": "2024-11-04T07:19:06.227Z"
   },
   {
    "duration": 19,
    "start_time": "2024-11-04T07:19:07.392Z"
   },
   {
    "duration": 1187,
    "start_time": "2024-11-04T07:19:07.421Z"
   },
   {
    "duration": 12,
    "start_time": "2024-11-04T07:19:08.610Z"
   },
   {
    "duration": 391,
    "start_time": "2024-11-04T07:19:08.624Z"
   },
   {
    "duration": 1013,
    "start_time": "2024-11-04T07:19:09.016Z"
   },
   {
    "duration": 22,
    "start_time": "2024-11-04T07:19:10.031Z"
   },
   {
    "duration": 974,
    "start_time": "2024-11-04T07:19:10.054Z"
   },
   {
    "duration": 9,
    "start_time": "2024-11-04T07:19:11.030Z"
   },
   {
    "duration": 53,
    "start_time": "2024-11-04T07:19:11.041Z"
   },
   {
    "duration": 391,
    "start_time": "2024-11-04T07:19:11.095Z"
   },
   {
    "duration": 4,
    "start_time": "2024-11-04T07:19:11.488Z"
   },
   {
    "duration": 70,
    "start_time": "2024-11-04T07:19:11.494Z"
   },
   {
    "duration": 48,
    "start_time": "2024-11-04T07:19:11.566Z"
   },
   {
    "duration": 618,
    "start_time": "2024-11-04T07:19:11.616Z"
   },
   {
    "duration": 1188,
    "start_time": "2024-11-04T08:07:52.135Z"
   },
   {
    "duration": 2330,
    "start_time": "2024-11-04T08:07:53.324Z"
   },
   {
    "duration": 48,
    "start_time": "2024-11-04T08:07:55.656Z"
   },
   {
    "duration": 46,
    "start_time": "2024-11-04T08:07:55.706Z"
   },
   {
    "duration": 3,
    "start_time": "2024-11-04T08:07:55.754Z"
   },
   {
    "duration": 114,
    "start_time": "2024-11-04T08:07:55.759Z"
   },
   {
    "duration": 522,
    "start_time": "2024-11-04T08:07:55.875Z"
   },
   {
    "duration": 8,
    "start_time": "2024-11-04T08:07:56.398Z"
   },
   {
    "duration": 18,
    "start_time": "2024-11-04T08:07:56.407Z"
   },
   {
    "duration": 5,
    "start_time": "2024-11-04T08:07:56.427Z"
   },
   {
    "duration": 10,
    "start_time": "2024-11-04T08:07:56.433Z"
   },
   {
    "duration": 14,
    "start_time": "2024-11-04T08:07:56.445Z"
   },
   {
    "duration": 20,
    "start_time": "2024-11-04T08:07:56.461Z"
   },
   {
    "duration": 57,
    "start_time": "2024-11-04T08:07:56.484Z"
   },
   {
    "duration": 502,
    "start_time": "2024-11-04T08:07:56.542Z"
   },
   {
    "duration": 419,
    "start_time": "2024-11-04T08:07:57.046Z"
   },
   {
    "duration": 514,
    "start_time": "2024-11-04T08:07:57.466Z"
   },
   {
    "duration": 680,
    "start_time": "2024-11-04T08:07:57.982Z"
   },
   {
    "duration": 1099,
    "start_time": "2024-11-04T08:07:58.664Z"
   },
   {
    "duration": 1096,
    "start_time": "2024-11-04T08:07:59.765Z"
   },
   {
    "duration": 1090,
    "start_time": "2024-11-04T08:08:00.864Z"
   },
   {
    "duration": 1142,
    "start_time": "2024-11-04T08:08:01.956Z"
   },
   {
    "duration": 1238,
    "start_time": "2024-11-04T08:08:03.100Z"
   },
   {
    "duration": 1148,
    "start_time": "2024-11-04T08:08:04.340Z"
   },
   {
    "duration": 31,
    "start_time": "2024-11-04T08:08:05.490Z"
   },
   {
    "duration": 1123,
    "start_time": "2024-11-04T08:08:05.522Z"
   },
   {
    "duration": 5,
    "start_time": "2024-11-04T08:08:06.647Z"
   },
   {
    "duration": 379,
    "start_time": "2024-11-04T08:08:06.654Z"
   },
   {
    "duration": 1042,
    "start_time": "2024-11-04T08:08:07.035Z"
   },
   {
    "duration": 26,
    "start_time": "2024-11-04T08:08:08.080Z"
   },
   {
    "duration": 949,
    "start_time": "2024-11-04T08:08:08.108Z"
   },
   {
    "duration": 11,
    "start_time": "2024-11-04T08:08:09.059Z"
   },
   {
    "duration": 13,
    "start_time": "2024-11-04T08:08:09.072Z"
   },
   {
    "duration": 381,
    "start_time": "2024-11-04T08:08:09.086Z"
   },
   {
    "duration": 5,
    "start_time": "2024-11-04T08:08:09.469Z"
   },
   {
    "duration": 36,
    "start_time": "2024-11-04T08:08:09.475Z"
   },
   {
    "duration": 24,
    "start_time": "2024-11-04T08:08:09.513Z"
   },
   {
    "duration": 612,
    "start_time": "2024-11-04T08:08:09.539Z"
   },
   {
    "duration": 1244,
    "start_time": "2024-11-04T08:09:59.187Z"
   },
   {
    "duration": 2409,
    "start_time": "2024-11-04T08:10:00.433Z"
   },
   {
    "duration": 53,
    "start_time": "2024-11-04T08:10:02.845Z"
   },
   {
    "duration": 50,
    "start_time": "2024-11-04T08:10:02.900Z"
   },
   {
    "duration": 49,
    "start_time": "2024-11-04T08:10:02.954Z"
   },
   {
    "duration": 149,
    "start_time": "2024-11-04T08:10:03.005Z"
   },
   {
    "duration": 507,
    "start_time": "2024-11-04T08:10:03.155Z"
   },
   {
    "duration": 9,
    "start_time": "2024-11-04T08:10:03.663Z"
   },
   {
    "duration": 22,
    "start_time": "2024-11-04T08:10:03.673Z"
   },
   {
    "duration": 30,
    "start_time": "2024-11-04T08:10:03.697Z"
   },
   {
    "duration": 38,
    "start_time": "2024-11-04T08:10:03.729Z"
   },
   {
    "duration": 22,
    "start_time": "2024-11-04T08:10:03.769Z"
   },
   {
    "duration": 20,
    "start_time": "2024-11-04T08:10:03.793Z"
   },
   {
    "duration": 33,
    "start_time": "2024-11-04T08:10:03.816Z"
   },
   {
    "duration": 488,
    "start_time": "2024-11-04T08:10:03.850Z"
   },
   {
    "duration": 388,
    "start_time": "2024-11-04T08:10:04.340Z"
   },
   {
    "duration": 523,
    "start_time": "2024-11-04T08:10:04.729Z"
   },
   {
    "duration": 634,
    "start_time": "2024-11-04T08:10:05.254Z"
   },
   {
    "duration": 1075,
    "start_time": "2024-11-04T08:10:05.890Z"
   },
   {
    "duration": 1102,
    "start_time": "2024-11-04T08:10:06.967Z"
   },
   {
    "duration": 1059,
    "start_time": "2024-11-04T08:10:08.071Z"
   },
   {
    "duration": 1129,
    "start_time": "2024-11-04T08:10:09.131Z"
   },
   {
    "duration": 1192,
    "start_time": "2024-11-04T08:10:10.261Z"
   },
   {
    "duration": 1134,
    "start_time": "2024-11-04T08:10:11.455Z"
   },
   {
    "duration": 18,
    "start_time": "2024-11-04T08:10:12.590Z"
   },
   {
    "duration": 1141,
    "start_time": "2024-11-04T08:10:12.621Z"
   },
   {
    "duration": 4,
    "start_time": "2024-11-04T08:10:13.764Z"
   },
   {
    "duration": 359,
    "start_time": "2024-11-04T08:10:13.770Z"
   },
   {
    "duration": 1002,
    "start_time": "2024-11-04T08:10:14.131Z"
   },
   {
    "duration": 23,
    "start_time": "2024-11-04T08:10:15.135Z"
   },
   {
    "duration": 988,
    "start_time": "2024-11-04T08:10:15.159Z"
   },
   {
    "duration": 12,
    "start_time": "2024-11-04T08:10:16.148Z"
   },
   {
    "duration": 80,
    "start_time": "2024-11-04T08:10:16.161Z"
   },
   {
    "duration": 366,
    "start_time": "2024-11-04T08:10:16.242Z"
   },
   {
    "duration": 14,
    "start_time": "2024-11-04T08:10:16.609Z"
   },
   {
    "duration": 17,
    "start_time": "2024-11-04T08:10:16.624Z"
   },
   {
    "duration": 23,
    "start_time": "2024-11-04T08:10:16.642Z"
   },
   {
    "duration": 714,
    "start_time": "2024-11-04T08:10:16.667Z"
   }
  ],
  "kernelspec": {
   "display_name": "Python 3 (ipykernel)",
   "language": "python",
   "name": "python3"
  },
  "language_info": {
   "codemirror_mode": {
    "name": "ipython",
    "version": 3
   },
   "file_extension": ".py",
   "mimetype": "text/x-python",
   "name": "python",
   "nbconvert_exporter": "python",
   "pygments_lexer": "ipython3",
   "version": "3.11.5"
  },
  "toc": {
   "base_numbering": 1,
   "nav_menu": {},
   "number_sections": true,
   "sideBar": true,
   "skip_h1_title": true,
   "title_cell": "Table of Contents",
   "title_sidebar": "Contents",
   "toc_cell": false,
   "toc_position": {
    "height": "848.32px",
    "left": "30px",
    "top": "110.229px",
    "width": "165px"
   },
   "toc_section_display": true,
   "toc_window_display": true
  }
 },
 "nbformat": 4,
 "nbformat_minor": 2
}
